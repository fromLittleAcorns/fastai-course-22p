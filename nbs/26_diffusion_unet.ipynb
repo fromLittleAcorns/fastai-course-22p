{
 "cells": [
  {
   "cell_type": "markdown",
   "id": "6823550e-d1f7-48d8-8b88-cfb2193a6e15",
   "metadata": {},
   "source": [
    "## Diffusion unet"
   ]
  },
  {
   "cell_type": "code",
   "execution_count": 1,
   "id": "c09f5150-bf13-422c-9d7b-7d08cdddd1ae",
   "metadata": {},
   "outputs": [],
   "source": [
    "import timm, torch, random, datasets, math, fastcore.all as fc, numpy as np, matplotlib as mpl, matplotlib.pyplot as plt\n",
    "import k_diffusion as K, torchvision.transforms as T\n",
    "import torchvision.transforms.functional as TF,torch.nn.functional as F\n",
    "\n",
    "from torch.utils.data import DataLoader,default_collate\n",
    "from pathlib import Path\n",
    "from torch.nn import init\n",
    "from fastcore.foundation import L\n",
    "from torch import nn,tensor\n",
    "from datasets import load_dataset\n",
    "from operator import itemgetter\n",
    "from torcheval.metrics import MulticlassAccuracy\n",
    "from functools import partial\n",
    "from torch.optim import lr_scheduler\n",
    "from torch import optim\n",
    "\n",
    "from miniai.datasets import *\n",
    "from miniai.conv import *\n",
    "from miniai.learner import *\n",
    "from miniai.activations import *\n",
    "from miniai.init import *\n",
    "from miniai.sgd import *\n",
    "from miniai.resnet import *\n",
    "from miniai.augment import *\n",
    "from miniai.accel import *"
   ]
  },
  {
   "cell_type": "code",
   "execution_count": 2,
   "id": "0f24f026-3a5b-48c8-a1e0-810145252027",
   "metadata": {},
   "outputs": [],
   "source": [
    "from fastprogress import progress_bar\n",
    "from diffusers import UNet2DModel, DDIMPipeline, DDPMPipeline, DDIMScheduler, DDPMScheduler"
   ]
  },
  {
   "cell_type": "code",
   "execution_count": 3,
   "id": "27cdf0e6-5717-4e00-8c84-37576f9ce907",
   "metadata": {},
   "outputs": [],
   "source": [
    "torch.set_printoptions(precision=5, linewidth=140, sci_mode=False)\n",
    "torch.manual_seed(1)\n",
    "mpl.rcParams['image.cmap'] = 'gray_r'\n",
    "mpl.rcParams['figure.dpi'] = 70\n",
    "\n",
    "import logging\n",
    "logging.disable(logging.WARNING)\n",
    "\n",
    "set_seed(42)\n",
    "if fc.defaults.cpus>7: fc.defaults.cpus=7"
   ]
  },
  {
   "cell_type": "code",
   "execution_count": 4,
   "id": "97f7dc27-a035-473a-a163-6380472a86cc",
   "metadata": {},
   "outputs": [
    {
     "data": {
      "application/vnd.jupyter.widget-view+json": {
       "model_id": "f50abba252dc48aabb04f63eebaf0a26",
       "version_major": 2,
       "version_minor": 0
      },
      "text/plain": [
       "  0%|          | 0/2 [00:00<?, ?it/s]"
      ]
     },
     "metadata": {},
     "output_type": "display_data"
    }
   ],
   "source": [
    "xl,yl = 'image','label'\n",
    "name = \"fashion_mnist\"\n",
    "n_steps = 1000\n",
    "bs = 512\n",
    "dsd = load_dataset(name)"
   ]
  },
  {
   "cell_type": "markdown",
   "id": "e622fd7c-4e5c-4261-93c0-979edd97080b",
   "metadata": {},
   "source": [
    "Jeremy notes that when a value of 0.33 is used below this gives better results.  See the discussion in lesson 24 about the errors found in the Karras notebook, in particular with respect to the FID"
   ]
  },
  {
   "cell_type": "code",
   "execution_count": 5,
   "id": "18b82ccb-3bcf-4935-8f2e-8b2db8d63ec7",
   "metadata": {},
   "outputs": [],
   "source": [
    "sig_data = 0.66"
   ]
  },
  {
   "cell_type": "code",
   "execution_count": 6,
   "id": "4e2dbe35-645c-4577-95ae-b38c2b364bdb",
   "metadata": {},
   "outputs": [],
   "source": [
    "@inplace\n",
    "def transformi(b): b[xl] = [F.pad(TF.to_tensor(o), (2,2,2,2))*2-1 for o in b[xl]]\n",
    "\n",
    "def scalings(sig):\n",
    "    \"\"\" values as per the Karras paper\n",
    "    \"\"\"\n",
    "    totvar = sig**2+sig_data**2\n",
    "    # c_skip,c_out,c_in\n",
    "    return sig_data**2/totvar,sig*sig_data/totvar.sqrt(),1/totvar.sqrt()\n",
    "\n",
    "def noisify(x0):\n",
    "    device = x0.device\n",
    "    # This is to obtain the log normal distribution for sigma as per the paper\n",
    "    sig = (torch.randn([len(x0)])*1.2-1.2).exp().to(x0).reshape(-1,1,1,1)\n",
    "    noise = torch.randn_like(x0, device=device)\n",
    "    c_skip,c_out,c_in = scalings(sig)\n",
    "    noised_input = x0 + noise*sig\n",
    "    target = (x0-c_skip*noised_input)/c_out\n",
    "    return (noised_input*c_in,sig.squeeze()),target\n",
    "\n",
    "def collate_ddpm(b): return noisify(default_collate(b)[xl])\n",
    "def dl_ddpm(ds): return DataLoader(ds, batch_size=bs, collate_fn=collate_ddpm, num_workers=0)"
   ]
  },
  {
   "cell_type": "code",
   "execution_count": 7,
   "id": "d822f1ce-aa95-4afb-9e29-8a407b9f17b2",
   "metadata": {},
   "outputs": [],
   "source": [
    "tds = dsd.with_transform(transformi)\n",
    "dls = DataLoaders(dl_ddpm(tds['train']), dl_ddpm(tds['test']))"
   ]
  },
  {
   "cell_type": "markdown",
   "id": "7fd6d166-89f0-4462-a76b-a20725b4829d",
   "metadata": {},
   "source": [
    "### Train "
   ]
  },
  {
   "cell_type": "markdown",
   "id": "5f70df14-a31c-47bb-b51e-23995784c33e",
   "metadata": {},
   "source": [
    "The code below is all based upon the diffuser code base"
   ]
  },
  {
   "cell_type": "code",
   "execution_count": 8,
   "id": "0c564ebc-bd03-4acd-895f-d00a7e255c81",
   "metadata": {},
   "outputs": [],
   "source": [
    "def unet_conv(ni, nf, ks=3, stride=1, act=nn.SiLU, norm=None, bias=True):\n",
    "    layers = nn.Sequential()\n",
    "    if norm: layers.append(norm(ni))\n",
    "    if act : layers.append(act())\n",
    "    layers.append(nn.Conv2d(ni, nf, stride=stride, kernel_size=ks, padding=ks//2, bias=bias))\n",
    "    return layers"
   ]
  },
  {
   "cell_type": "code",
   "execution_count": 9,
   "id": "f75fd93a-7679-4968-b681-e5eed5ce7f7c",
   "metadata": {},
   "outputs": [],
   "source": [
    "class UnetResBlock(nn.Module):\n",
    "    def __init__(self, ni, nf=None, ks=3, act=nn.SiLU, norm=nn.BatchNorm2d):\n",
    "        super().__init__()\n",
    "        if nf is None: nf = ni\n",
    "        self.convs = nn.Sequential(unet_conv(ni, nf, ks, act=act, norm=norm),\n",
    "                                   unet_conv(nf, nf, ks, act=act, norm=norm))\n",
    "        self.idconv = fc.noop if ni==nf else nn.Conv2d(ni, nf, 1)\n",
    "\n",
    "    def forward(self, x): return self.convs(x) + self.idconv(x)"
   ]
  },
  {
   "cell_type": "markdown",
   "id": "29985efd-5bdb-43bf-808d-06eb396ff02b",
   "metadata": {},
   "source": [
    "The class below shows an example of a python mixin.  When a class has inherited from two other classes that have the same name then when that method is called in the class that inherits from two other classes then it will be called in the first module and will recognise the method in the second class as the “super” method.  Hence the method in the first class is called, which then calls the method in the second class"
   ]
  },
  {
   "cell_type": "code",
   "execution_count": 11,
   "id": "23881e00-bf4e-4e89-9b83-514d1d8279a8",
   "metadata": {},
   "outputs": [],
   "source": [
    "class A:\n",
    "    def __call__(self):\n",
    "        super().__call__()\n",
    "        print('a')\n",
    "\n",
    "class B:\n",
    "    def __call__(self): print('b')\n",
    "\n",
    "class C(A,B): pass"
   ]
  },
  {
   "cell_type": "code",
   "execution_count": 12,
   "id": "503fbac8-9c29-44e7-8aab-dd438851d5fe",
   "metadata": {},
   "outputs": [
    {
     "name": "stdout",
     "output_type": "stream",
     "text": [
      "b\n",
      "a\n"
     ]
    }
   ],
   "source": [
    "C()()"
   ]
  },
  {
   "cell_type": "code",
   "execution_count": 13,
   "id": "3148d732-94f2-472f-9ee3-c46cfe056503",
   "metadata": {},
   "outputs": [],
   "source": [
    "class SaveModule:\n",
    "    def forward(self, x, *args, **kwargs):\n",
    "        self.saved = super().forward(x, *args, **kwargs)\n",
    "        return self.saved\n",
    "\n",
    "class SavedResBlock(SaveModule, UnetResBlock): pass\n",
    "class SavedConv(SaveModule, nn.Conv2d): pass"
   ]
  },
  {
   "cell_type": "markdown",
   "id": "6f15b688-458f-4223-a675-b862563eb10a",
   "metadata": {},
   "source": [
    "The above approach means that we can again use a sequential for the down block since the saving is happening automatically"
   ]
  },
  {
   "cell_type": "code",
   "execution_count": 14,
   "id": "15ed6881-bcf1-47e3-9729-d98356985788",
   "metadata": {},
   "outputs": [],
   "source": [
    "def down_block(ni, nf, add_down=True, num_layers=1):\n",
    "    res = nn.Sequential(*[SavedResBlock(ni=ni if i==0 else nf, nf=nf)\n",
    "                         for i in range(num_layers)])\n",
    "    if add_down: res.append(SavedConv(nf, nf, 3, stride=2, padding=1))\n",
    "    return res"
   ]
  },
  {
   "cell_type": "code",
   "execution_count": 15,
   "id": "5664e25a-6520-4552-8545-de2a6a129d4e",
   "metadata": {},
   "outputs": [],
   "source": [
    "def upsample(nf): return nn.Sequential(nn.Upsample(scale_factor=2.), nn.Conv2d(nf, nf, 3, padding=1))"
   ]
  },
  {
   "cell_type": "code",
   "execution_count": 16,
   "id": "5826d43d-df1f-4c43-a91f-4aab3dc99946",
   "metadata": {},
   "outputs": [],
   "source": [
    "class UpBlock(nn.Module):\n",
    "    def __init__(self, ni, prev_nf, nf, add_up=True, num_layers=2):\n",
    "        super().__init__()\n",
    "        self.resnets = nn.ModuleList(\n",
    "            [UnetResBlock((prev_nf if i==0 else nf)+(ni if (i==num_layers-1) else nf), nf)\n",
    "            for i in range(num_layers)])\n",
    "        self.up = upsample(nf) if add_up else nn.Identity()\n",
    "\n",
    "    def forward(self, x, ups):\n",
    "        for resnet in self.resnets: x = resnet(torch.cat([x, ups.pop()], dim=1))\n",
    "        return self.up(x)"
   ]
  },
  {
   "cell_type": "code",
   "execution_count": 17,
   "id": "e7e03170-e8d5-45a0-9e9a-00dcd4974aef",
   "metadata": {},
   "outputs": [],
   "source": [
    "class UNet2DModel(nn.Module):\n",
    "    def __init__( self, in_channels=3, out_channels=3, nfs=(224,448,672,896), num_layers=1):\n",
    "        super().__init__()\n",
    "        self.conv_in = nn.Conv2d(in_channels, nfs[0], kernel_size=3, padding=1)\n",
    "        nf = nfs[0]\n",
    "        self.downs = nn.Sequential()\n",
    "        for i in range(len(nfs)):\n",
    "            ni = nf\n",
    "            nf = nfs[i]\n",
    "            self.downs.append(down_block(ni, nf, add_down=i!=len(nfs)-1, num_layers=num_layers))\n",
    "        self.mid_block = UnetResBlock(nfs[-1])\n",
    "\n",
    "        rev_nfs = list(reversed(nfs))\n",
    "        nf = rev_nfs[0]\n",
    "        self.ups = nn.ModuleList()\n",
    "        for i in range(len(nfs)):\n",
    "            prev_nf = nf\n",
    "            nf = rev_nfs[i]\n",
    "            ni = rev_nfs[min(i+1, len(nfs)-1)]\n",
    "            self.ups.append(UpBlock(ni, prev_nf, nf, add_up=i!=len(nfs)-1, num_layers=num_layers+1))\n",
    "        self.conv_out = unet_conv(nfs[0], out_channels, act=nn.SiLU, norm=nn.BatchNorm2d)\n",
    "\n",
    "    def forward(self, inp):\n",
    "        x = self.conv_in(inp[0])\n",
    "        saved = [x]\n",
    "        x = self.downs(x)\n",
    "        saved += [p.saved for o in self.downs for p in o]\n",
    "        x = self.mid_block(x)\n",
    "        for block in self.ups: x = block(x, saved)\n",
    "        return self.conv_out(x)"
   ]
  },
  {
   "cell_type": "code",
   "execution_count": 18,
   "id": "543ef700-164f-4771-b07c-73ab8b3991c5",
   "metadata": {},
   "outputs": [],
   "source": [
    "model = UNet2DModel(in_channels=1, out_channels=1, nfs=(32,64,128,256), num_layers=2)"
   ]
  },
  {
   "cell_type": "code",
   "execution_count": 19,
   "id": "32cda4e2-7d59-4ff9-8922-1f348a5fe4ff",
   "metadata": {},
   "outputs": [],
   "source": [
    "lr = 3e-3\n",
    "epochs = 25\n",
    "opt_func = partial(optim.Adam, eps=1e-5)\n",
    "tmax = epochs * len(dls.train)\n",
    "sched = partial(lr_scheduler.OneCycleLR, max_lr=lr, total_steps=tmax)\n",
    "cbs = [DeviceCB(), MixedPrecision(), ProgressCB(plot=True), MetricsCB(), BatchSchedCB(sched)]\n",
    "learn = Learner(model, dls, nn.MSELoss(), lr=lr, cbs=cbs, opt_func=opt_func)"
   ]
  },
  {
   "cell_type": "code",
   "execution_count": 20,
   "id": "e497a1ca-e60e-4fa0-9756-af08a60479c9",
   "metadata": {},
   "outputs": [
    {
     "data": {
      "text/html": [
       "\n",
       "<style>\n",
       "    /* Turns off some styling */\n",
       "    progress {\n",
       "        /* gets rid of default border in Firefox and Opera. */\n",
       "        border: none;\n",
       "        /* Needs to be in here for Safari polyfill so background images work as expected. */\n",
       "        background-size: auto;\n",
       "    }\n",
       "    progress:not([value]), progress:not([value])::-webkit-progress-bar {\n",
       "        background: repeating-linear-gradient(45deg, #7e7e7e, #7e7e7e 10px, #5c5c5c 10px, #5c5c5c 20px);\n",
       "    }\n",
       "    .progress-bar-interrupted, .progress-bar-interrupted::-webkit-progress-bar {\n",
       "        background: #F44336;\n",
       "    }\n",
       "</style>\n"
      ],
      "text/plain": [
       "<IPython.core.display.HTML object>"
      ]
     },
     "metadata": {},
     "output_type": "display_data"
    },
    {
     "data": {
      "text/html": [
       "<table border=\"1\" class=\"dataframe\">\n",
       "  <thead>\n",
       "    <tr style=\"text-align: left;\">\n",
       "      <th>loss</th>\n",
       "      <th>epoch</th>\n",
       "      <th>train</th>\n",
       "    </tr>\n",
       "  </thead>\n",
       "  <tbody>\n",
       "    <tr>\n",
       "      <td>0.496</td>\n",
       "      <td>0</td>\n",
       "      <td>train</td>\n",
       "    </tr>\n",
       "    <tr>\n",
       "      <td>0.337</td>\n",
       "      <td>0</td>\n",
       "      <td>eval</td>\n",
       "    </tr>\n",
       "    <tr>\n",
       "      <td>0.246</td>\n",
       "      <td>1</td>\n",
       "      <td>train</td>\n",
       "    </tr>\n",
       "    <tr>\n",
       "      <td>0.240</td>\n",
       "      <td>1</td>\n",
       "      <td>eval</td>\n",
       "    </tr>\n",
       "    <tr>\n",
       "      <td>0.209</td>\n",
       "      <td>2</td>\n",
       "      <td>train</td>\n",
       "    </tr>\n",
       "    <tr>\n",
       "      <td>0.222</td>\n",
       "      <td>2</td>\n",
       "      <td>eval</td>\n",
       "    </tr>\n",
       "    <tr>\n",
       "      <td>0.193</td>\n",
       "      <td>3</td>\n",
       "      <td>train</td>\n",
       "    </tr>\n",
       "    <tr>\n",
       "      <td>0.210</td>\n",
       "      <td>3</td>\n",
       "      <td>eval</td>\n",
       "    </tr>\n",
       "    <tr>\n",
       "      <td>0.185</td>\n",
       "      <td>4</td>\n",
       "      <td>train</td>\n",
       "    </tr>\n",
       "    <tr>\n",
       "      <td>0.232</td>\n",
       "      <td>4</td>\n",
       "      <td>eval</td>\n",
       "    </tr>\n",
       "    <tr>\n",
       "      <td>0.181</td>\n",
       "      <td>5</td>\n",
       "      <td>train</td>\n",
       "    </tr>\n",
       "    <tr>\n",
       "      <td>0.211</td>\n",
       "      <td>5</td>\n",
       "      <td>eval</td>\n",
       "    </tr>\n",
       "    <tr>\n",
       "      <td>0.172</td>\n",
       "      <td>6</td>\n",
       "      <td>train</td>\n",
       "    </tr>\n",
       "    <tr>\n",
       "      <td>0.193</td>\n",
       "      <td>6</td>\n",
       "      <td>eval</td>\n",
       "    </tr>\n",
       "    <tr>\n",
       "      <td>0.169</td>\n",
       "      <td>7</td>\n",
       "      <td>train</td>\n",
       "    </tr>\n",
       "    <tr>\n",
       "      <td>0.178</td>\n",
       "      <td>7</td>\n",
       "      <td>eval</td>\n",
       "    </tr>\n",
       "    <tr>\n",
       "      <td>0.164</td>\n",
       "      <td>8</td>\n",
       "      <td>train</td>\n",
       "    </tr>\n",
       "    <tr>\n",
       "      <td>0.199</td>\n",
       "      <td>8</td>\n",
       "      <td>eval</td>\n",
       "    </tr>\n",
       "    <tr>\n",
       "      <td>0.161</td>\n",
       "      <td>9</td>\n",
       "      <td>train</td>\n",
       "    </tr>\n",
       "    <tr>\n",
       "      <td>0.212</td>\n",
       "      <td>9</td>\n",
       "      <td>eval</td>\n",
       "    </tr>\n",
       "    <tr>\n",
       "      <td>0.159</td>\n",
       "      <td>10</td>\n",
       "      <td>train</td>\n",
       "    </tr>\n",
       "    <tr>\n",
       "      <td>0.179</td>\n",
       "      <td>10</td>\n",
       "      <td>eval</td>\n",
       "    </tr>\n",
       "    <tr>\n",
       "      <td>0.157</td>\n",
       "      <td>11</td>\n",
       "      <td>train</td>\n",
       "    </tr>\n",
       "    <tr>\n",
       "      <td>0.164</td>\n",
       "      <td>11</td>\n",
       "      <td>eval</td>\n",
       "    </tr>\n",
       "    <tr>\n",
       "      <td>0.155</td>\n",
       "      <td>12</td>\n",
       "      <td>train</td>\n",
       "    </tr>\n",
       "    <tr>\n",
       "      <td>0.202</td>\n",
       "      <td>12</td>\n",
       "      <td>eval</td>\n",
       "    </tr>\n",
       "    <tr>\n",
       "      <td>0.153</td>\n",
       "      <td>13</td>\n",
       "      <td>train</td>\n",
       "    </tr>\n",
       "    <tr>\n",
       "      <td>0.167</td>\n",
       "      <td>13</td>\n",
       "      <td>eval</td>\n",
       "    </tr>\n",
       "    <tr>\n",
       "      <td>0.151</td>\n",
       "      <td>14</td>\n",
       "      <td>train</td>\n",
       "    </tr>\n",
       "    <tr>\n",
       "      <td>0.153</td>\n",
       "      <td>14</td>\n",
       "      <td>eval</td>\n",
       "    </tr>\n",
       "    <tr>\n",
       "      <td>0.150</td>\n",
       "      <td>15</td>\n",
       "      <td>train</td>\n",
       "    </tr>\n",
       "    <tr>\n",
       "      <td>0.157</td>\n",
       "      <td>15</td>\n",
       "      <td>eval</td>\n",
       "    </tr>\n",
       "    <tr>\n",
       "      <td>0.149</td>\n",
       "      <td>16</td>\n",
       "      <td>train</td>\n",
       "    </tr>\n",
       "    <tr>\n",
       "      <td>0.155</td>\n",
       "      <td>16</td>\n",
       "      <td>eval</td>\n",
       "    </tr>\n",
       "    <tr>\n",
       "      <td>0.147</td>\n",
       "      <td>17</td>\n",
       "      <td>train</td>\n",
       "    </tr>\n",
       "    <tr>\n",
       "      <td>0.151</td>\n",
       "      <td>17</td>\n",
       "      <td>eval</td>\n",
       "    </tr>\n",
       "    <tr>\n",
       "      <td>0.146</td>\n",
       "      <td>18</td>\n",
       "      <td>train</td>\n",
       "    </tr>\n",
       "    <tr>\n",
       "      <td>0.149</td>\n",
       "      <td>18</td>\n",
       "      <td>eval</td>\n",
       "    </tr>\n",
       "    <tr>\n",
       "      <td>0.145</td>\n",
       "      <td>19</td>\n",
       "      <td>train</td>\n",
       "    </tr>\n",
       "    <tr>\n",
       "      <td>0.145</td>\n",
       "      <td>19</td>\n",
       "      <td>eval</td>\n",
       "    </tr>\n",
       "    <tr>\n",
       "      <td>0.144</td>\n",
       "      <td>20</td>\n",
       "      <td>train</td>\n",
       "    </tr>\n",
       "    <tr>\n",
       "      <td>0.144</td>\n",
       "      <td>20</td>\n",
       "      <td>eval</td>\n",
       "    </tr>\n",
       "    <tr>\n",
       "      <td>0.143</td>\n",
       "      <td>21</td>\n",
       "      <td>train</td>\n",
       "    </tr>\n",
       "    <tr>\n",
       "      <td>0.142</td>\n",
       "      <td>21</td>\n",
       "      <td>eval</td>\n",
       "    </tr>\n",
       "    <tr>\n",
       "      <td>0.142</td>\n",
       "      <td>22</td>\n",
       "      <td>train</td>\n",
       "    </tr>\n",
       "    <tr>\n",
       "      <td>0.144</td>\n",
       "      <td>22</td>\n",
       "      <td>eval</td>\n",
       "    </tr>\n",
       "    <tr>\n",
       "      <td>0.142</td>\n",
       "      <td>23</td>\n",
       "      <td>train</td>\n",
       "    </tr>\n",
       "    <tr>\n",
       "      <td>0.143</td>\n",
       "      <td>23</td>\n",
       "      <td>eval</td>\n",
       "    </tr>\n",
       "    <tr>\n",
       "      <td>0.142</td>\n",
       "      <td>24</td>\n",
       "      <td>train</td>\n",
       "    </tr>\n",
       "    <tr>\n",
       "      <td>0.142</td>\n",
       "      <td>24</td>\n",
       "      <td>eval</td>\n",
       "    </tr>\n",
       "  </tbody>\n",
       "</table>"
      ],
      "text/plain": [
       "<IPython.core.display.HTML object>"
      ]
     },
     "metadata": {},
     "output_type": "display_data"
    },
    {
     "data": {
      "image/png": "[encoded data removed]",
      "text/plain": [
       "<Figure size 420x280 with 1 Axes>"
      ]
     },
     "metadata": {},
     "output_type": "display_data"
    }
   ],
   "source": [
    "learn.fit(epochs)"
   ]
  },
  {
   "cell_type": "markdown",
   "id": "e3533ae8-0a69-404d-845f-b1a91c0dfaa5",
   "metadata": {},
   "source": [
    "## Timesteps "
   ]
  },
  {
   "cell_type": "markdown",
   "id": "991394f9-d5f4-4db8-8aec-a1133e00ca09",
   "metadata": {},
   "source": [
    "To work as in the diffusers library the model needs to have time embeddings.  These are as used in transformers"
   ]
  },
  {
   "cell_type": "code",
   "execution_count": 22,
   "id": "7a7ef8a4-85e9-436e-a8cb-5a7288f61e97",
   "metadata": {},
   "outputs": [],
   "source": [
    "emb_dim = 16\n",
    "tsteps = torch.linspace(-10,10,100)\n",
    "max_period= 10000"
   ]
  },
  {
   "cell_type": "code",
   "execution_count": 23,
   "id": "347b9261-768f-468a-90d7-2b153d1dfc59",
   "metadata": {},
   "outputs": [
    {
     "data": {
      "text/plain": [
       "9.210340371976184"
      ]
     },
     "execution_count": 23,
     "metadata": {},
     "output_type": "execute_result"
    }
   ],
   "source": [
    "math.log(10000)"
   ]
  },
  {
   "cell_type": "code",
   "execution_count": 24,
   "id": "0d904f31-e5ee-4ce7-b702-189d615a6ada",
   "metadata": {},
   "outputs": [],
   "source": [
    "exponent = -math.log(max_period) * torch.linspace(0, 1, emb_dim//2, device=tsteps.device)"
   ]
  },
  {
   "cell_type": "code",
   "execution_count": 25,
   "id": "eff1abf2-5007-4c2b-ac5f-b0bb17670109",
   "metadata": {},
   "outputs": [
    {
     "data": {
      "image/png": "[encoded data removed]",
      "text/plain": [
       "<Figure size 448x336 with 1 Axes>"
      ]
     },
     "metadata": {},
     "output_type": "display_data"
    }
   ],
   "source": [
    "plt.plot(exponent);"
   ]
  },
  {
   "cell_type": "code",
   "execution_count": 26,
   "id": "1e3eead3-e0fb-46c4-886c-a72cf53bc558",
   "metadata": {},
   "outputs": [
    {
     "data": {
      "text/plain": [
       "torch.Size([100, 8])"
      ]
     },
     "execution_count": 26,
     "metadata": {},
     "output_type": "execute_result"
    }
   ],
   "source": [
    "emb = tsteps[:,None].float() * exponent.exp()[None,:]\n",
    "emb.shape"
   ]
  },
  {
   "cell_type": "code",
   "execution_count": 27,
   "id": "a2094367-5d84-4632-ad1c-9ca6cdcc4eaf",
   "metadata": {},
   "outputs": [
    {
     "data": {
      "image/png": "[encoded data removed]",
      "text/plain": [
       "<Figure size 448x336 with 1 Axes>"
      ]
     },
     "metadata": {},
     "output_type": "display_data"
    }
   ],
   "source": [
    "plt.plot(emb[0])\n",
    "plt.plot(emb[10])\n",
    "plt.plot(emb[20])\n",
    "plt.plot(emb[50])\n",
    "plt.plot(emb[-1]);"
   ]
  },
  {
   "cell_type": "code",
   "execution_count": 28,
   "id": "507e3c5c-b267-48e3-8b37-141495a2265e",
   "metadata": {},
   "outputs": [
    {
     "data": {
      "text/plain": [
       "torch.Size([100, 16])"
      ]
     },
     "execution_count": 28,
     "metadata": {},
     "output_type": "execute_result"
    }
   ],
   "source": [
    "emb = torch.cat([torch.sin(emb), torch.cos(emb)], dim=-1)\n",
    "emb.shape"
   ]
  },
  {
   "cell_type": "code",
   "execution_count": 29,
   "id": "01362ac9-61e4-4820-b509-68a51684bca9",
   "metadata": {},
   "outputs": [
    {
     "data": {
      "image/png": "[encoded data removed]",
      "text/plain": [
       "<Figure size 448x336 with 1 Axes>"
      ]
     },
     "metadata": {},
     "output_type": "display_data"
    }
   ],
   "source": [
    "plt.plot(emb[:,0])\n",
    "plt.plot(emb[:,1])\n",
    "plt.plot(emb[:,2])\n",
    "plt.plot(emb[:,3])\n",
    "plt.plot(emb[:,4]);"
   ]
  },
  {
   "cell_type": "code",
   "execution_count": 30,
   "id": "d1e758b3-63c7-4530-a7b8-e22eea51dab0",
   "metadata": {},
   "outputs": [
    {
     "data": {
      "image/png": "[encoded data removed]",
      "text/plain": [
       "<Figure size 448x336 with 1 Axes>"
      ]
     },
     "metadata": {},
     "output_type": "display_data"
    }
   ],
   "source": [
    "plt.plot(emb[:,8])\n",
    "plt.plot(emb[:,9])\n",
    "plt.plot(emb[:,10]);"
   ]
  },
  {
   "cell_type": "code",
   "execution_count": 31,
   "id": "57321d29-feb9-46e6-81e6-423bb73cf5ec",
   "metadata": {},
   "outputs": [
    {
     "data": {
      "image/png": "[encoded data removed]",
      "text/plain": [
       "<Figure size 490x490 with 1 Axes>"
      ]
     },
     "metadata": {},
     "output_type": "display_data"
    }
   ],
   "source": [
    "show_image(emb.T, figsize=(7,7));"
   ]
  },
  {
   "cell_type": "code",
   "execution_count": 32,
   "id": "e3df82b4-4a16-48c5-96d8-882821c59eff",
   "metadata": {},
   "outputs": [],
   "source": [
    "def timestep_embedding(tsteps, emb_dim, max_period= 10000):\n",
    "    exponent = -math.log(max_period) * torch.linspace(0, 1, emb_dim//2, device=tsteps.device)\n",
    "    emb = tsteps[:,None].float() * exponent.exp()[None,:]\n",
    "    emb = torch.cat([emb.sin(), emb.cos()], dim=-1)\n",
    "    return F.pad(emb, (0,1,0,0)) if emb_dim%2==1 else emb"
   ]
  },
  {
   "cell_type": "code",
   "execution_count": 33,
   "id": "77dd3f4c-5f86-4ca9-9349-e82d83fd89b7",
   "metadata": {},
   "outputs": [
    {
     "data": {
      "image/png": "[encoded data removed]",
      "text/plain": [
       "<Figure size 490x490 with 1 Axes>"
      ]
     },
     "metadata": {},
     "output_type": "display_data"
    }
   ],
   "source": [
    "show_image(timestep_embedding(tsteps, 32, max_period=1000).T, figsize=(7,7));"
   ]
  },
  {
   "cell_type": "code",
   "execution_count": 34,
   "id": "5dae8e83-48b9-404c-b0a4-6f1ee303b2b7",
   "metadata": {},
   "outputs": [
    {
     "data": {
      "image/png": "[encoded data removed]",
      "text/plain": [
       "<Figure size 490x490 with 1 Axes>"
      ]
     },
     "metadata": {},
     "output_type": "display_data"
    }
   ],
   "source": [
    "show_image(timestep_embedding(tsteps, 32, max_period=10).T, figsize=(7,7));"
   ]
  },
  {
   "cell_type": "code",
   "execution_count": null,
   "id": "6d42c860-3ac8-4310-98a3-bbbdcf18f0fd",
   "metadata": {},
   "outputs": [],
   "source": []
  },
  {
   "cell_type": "markdown",
   "id": "95cfb894-982b-4dc3-a158-97b534a8cb9c",
   "metadata": {},
   "source": [
    "## Timestep model"
   ]
  },
  {
   "cell_type": "code",
   "execution_count": 35,
   "id": "21a0784b-1d96-4dd4-bb56-e8629752c495",
   "metadata": {},
   "outputs": [],
   "source": [
    "from functools import wraps"
   ]
  },
  {
   "cell_type": "code",
   "execution_count": 36,
   "id": "939e3044-a6b3-411e-85a4-c20641b96953",
   "metadata": {},
   "outputs": [],
   "source": [
    "def lin(ni, nf, act=nn.SiLU, norm=None, bias=True):\n",
    "    layers = nn.Sequential(nn.Linear(ni, nf, bias=bias))\n",
    "    if act : layers.append(act())\n",
    "    if norm: layers.append(norm(nf))\n",
    "    return layers"
   ]
  },
  {
   "cell_type": "code",
   "execution_count": 37,
   "id": "d3bb9e98-af06-4e85-9527-a13b037b02f2",
   "metadata": {},
   "outputs": [],
   "source": [
    "def lin(ni, nf, act=nn.SiLU, norm=None, bias=True):\n",
    "    \"\"\" This linear layer has the sequence changed so that the normalization and activation are before the actual\n",
    "    linear layer.\n",
    "    \"\"\"\n",
    "    layers = nn.Sequential()\n",
    "    if norm: layers.append(norm(ni))\n",
    "    if act : layers.append(act())\n",
    "    layers.append(nn.Linear(ni, nf, bias=bias))\n",
    "    return layers"
   ]
  },
  {
   "cell_type": "code",
   "execution_count": 38,
   "id": "e8cc5b56-8678-4ac9-8c0c-2961ea553feb",
   "metadata": {},
   "outputs": [],
   "source": [
    "class EmbResBlock(nn.Module):\n",
    "    def __init__(self, n_emb, ni, nf=None, ks=3, act=nn.SiLU, norm=nn.BatchNorm2d):\n",
    "        super().__init__()\n",
    "        if nf is None: nf = ni\n",
    "        self.emb_proj = nn.Linear(n_emb, nf*2)\n",
    "        self.conv1 = unet_conv(ni, nf, ks, act=act, norm=norm) #, bias=not norm)\n",
    "        self.conv2 = unet_conv(nf, nf, ks, act=act, norm=norm)\n",
    "        self.idconv = fc.noop if ni==nf else nn.Conv2d(ni, nf, 1)\n",
    "\n",
    "    def forward(self, x, t):\n",
    "        inp = x\n",
    "        x = self.conv1(x)\n",
    "        emb = self.emb_proj(F.silu(t))[:, :, None, None]\n",
    "        scale,shift = torch.chunk(emb, 2, dim=1)\n",
    "        x = x*(1+scale) + shift\n",
    "        x = self.conv2(x)\n",
    "        return x + self.idconv(inp)"
   ]
  },
  {
   "cell_type": "markdown",
   "id": "33909a56-6d99-4b40-9387-9b8163824406",
   "metadata": {},
   "source": [
    "The approach below is an alternative to the class mixin method above to facilitate the model activations.  In this case the wraps library simply ensures that any documentation of the wrapped method is avaibable to the parent"
   ]
  },
  {
   "cell_type": "code",
   "execution_count": 40,
   "id": "65b62fba-1092-4894-882b-6166a8f46ba9",
   "metadata": {},
   "outputs": [],
   "source": [
    "def saved(m, blk):\n",
    "    m_ = m.forward\n",
    "\n",
    "    @wraps(m.forward)\n",
    "    def _f(*args, **kwargs):\n",
    "        res = m_(*args, **kwargs)\n",
    "        blk.saved.append(res)\n",
    "        return res\n",
    "\n",
    "    m.forward = _f\n",
    "    return m"
   ]
  },
  {
   "cell_type": "code",
   "execution_count": 41,
   "id": "d14032fc-6623-4cf9-be0b-1c13daad271a",
   "metadata": {},
   "outputs": [],
   "source": [
    "class DownBlock(nn.Module):\n",
    "    def __init__(self, n_emb, ni, nf, add_down=True, num_layers=1):\n",
    "        super().__init__()\n",
    "        self.resnets = nn.ModuleList([saved(EmbResBlock(n_emb, ni if i==0 else nf, nf), self)\n",
    "                                      for i in range(num_layers)])\n",
    "        self.down = saved(nn.Conv2d(nf, nf, 3, stride=2, padding=1), self) if add_down else nn.Identity()\n",
    "\n",
    "    def forward(self, x, t):\n",
    "        self.saved = []\n",
    "        for resnet in self.resnets: x = resnet(x, t)\n",
    "        x = self.down(x)\n",
    "        return x"
   ]
  },
  {
   "cell_type": "code",
   "execution_count": 42,
   "id": "d5485c02-3754-41ba-945b-65c2323bcea8",
   "metadata": {},
   "outputs": [],
   "source": [
    "class UpBlock(nn.Module):\n",
    "    def __init__(self, n_emb, ni, prev_nf, nf, add_up=True, num_layers=2):\n",
    "        super().__init__()\n",
    "        self.resnets = nn.ModuleList(\n",
    "            [EmbResBlock(n_emb, (prev_nf if i==0 else nf)+(ni if (i==num_layers-1) else nf), nf)\n",
    "            for i in range(num_layers)])\n",
    "        self.up = upsample(nf) if add_up else nn.Identity()\n",
    "\n",
    "    def forward(self, x, t, ups):\n",
    "        for resnet in self.resnets: x = resnet(torch.cat([x, ups.pop()], dim=1), t)\n",
    "        return self.up(x)"
   ]
  },
  {
   "cell_type": "code",
   "execution_count": 43,
   "id": "b3795206-ccba-49c2-850d-300b19b80e81",
   "metadata": {},
   "outputs": [],
   "source": [
    "class EmbUNetModel(nn.Module):\n",
    "    def __init__( self, in_channels=3, out_channels=3, nfs=(224,448,672,896), num_layers=1):\n",
    "        super().__init__()\n",
    "        self.conv_in = nn.Conv2d(in_channels, nfs[0], kernel_size=3, padding=1)\n",
    "        self.n_temb = nf = nfs[0]\n",
    "        n_emb = nf*4\n",
    "        self.emb_mlp = nn.Sequential(lin(self.n_temb, n_emb, norm=nn.BatchNorm1d),\n",
    "                                     lin(n_emb, n_emb))\n",
    "        self.downs = nn.ModuleList()\n",
    "        for i in range(len(nfs)):\n",
    "            ni = nf\n",
    "            nf = nfs[i]\n",
    "            self.downs.append(DownBlock(n_emb, ni, nf, add_down=i!=len(nfs)-1, num_layers=num_layers))\n",
    "        self.mid_block = EmbResBlock(n_emb, nfs[-1])\n",
    "\n",
    "        rev_nfs = list(reversed(nfs))\n",
    "        nf = rev_nfs[0]\n",
    "        self.ups = nn.ModuleList()\n",
    "        for i in range(len(nfs)):\n",
    "            prev_nf = nf\n",
    "            nf = rev_nfs[i]\n",
    "            ni = rev_nfs[min(i+1, len(nfs)-1)]\n",
    "            self.ups.append(UpBlock(n_emb, ni, prev_nf, nf, add_up=i!=len(nfs)-1, num_layers=num_layers+1))\n",
    "        self.conv_out = unet_conv(nfs[0], out_channels, act=nn.SiLU, norm=nn.BatchNorm2d, bias=False)\n",
    "\n",
    "    def forward(self, inp):\n",
    "        x,t = inp\n",
    "        temb = timestep_embedding(t, self.n_temb)\n",
    "        emb = self.emb_mlp(temb)\n",
    "        x = self.conv_in(x)\n",
    "        saved = [x]\n",
    "        for block in self.downs: x = block(x, emb)\n",
    "        saved += [p for o in self.downs for p in o.saved]\n",
    "        x = self.mid_block(x, emb)\n",
    "        for block in self.ups: x = block(x, emb, saved)\n",
    "        return self.conv_out(x)"
   ]
  },
  {
   "cell_type": "code",
   "execution_count": 44,
   "id": "2d353606-1e32-4274-9a96-1c62860da7a4",
   "metadata": {},
   "outputs": [],
   "source": [
    "model = EmbUNetModel(in_channels=1, out_channels=1, nfs=(32,64,128,256), num_layers=2)"
   ]
  },
  {
   "cell_type": "code",
   "execution_count": 45,
   "id": "0bfe5dfe-985d-44ab-9d50-980f7cc5ab62",
   "metadata": {},
   "outputs": [],
   "source": [
    "lr = 1e-2\n",
    "epochs = 25\n",
    "opt_func = partial(optim.Adam, eps=1e-5)\n",
    "tmax = epochs * len(dls.train)\n",
    "sched = partial(lr_scheduler.OneCycleLR, max_lr=lr, total_steps=tmax)\n",
    "cbs = [DeviceCB(), ProgressCB(plot=True), MetricsCB(), BatchSchedCB(sched), MixedPrecision()]\n",
    "model = EmbUNetModel(in_channels=1, out_channels=1, nfs=(32,64,128,256), num_layers=2)\n",
    "learn = Learner(model, dls, nn.MSELoss(), lr=lr, cbs=cbs, opt_func=opt_func)"
   ]
  },
  {
   "cell_type": "code",
   "execution_count": 46,
   "id": "f27dc9fa-d273-483b-9b58-0bf3738cb871",
   "metadata": {},
   "outputs": [
    {
     "data": {
      "text/html": [
       "\n",
       "<style>\n",
       "    /* Turns off some styling */\n",
       "    progress {\n",
       "        /* gets rid of default border in Firefox and Opera. */\n",
       "        border: none;\n",
       "        /* Needs to be in here for Safari polyfill so background images work as expected. */\n",
       "        background-size: auto;\n",
       "    }\n",
       "    progress:not([value]), progress:not([value])::-webkit-progress-bar {\n",
       "        background: repeating-linear-gradient(45deg, #7e7e7e, #7e7e7e 10px, #5c5c5c 10px, #5c5c5c 20px);\n",
       "    }\n",
       "    .progress-bar-interrupted, .progress-bar-interrupted::-webkit-progress-bar {\n",
       "        background: #F44336;\n",
       "    }\n",
       "</style>\n"
      ],
      "text/plain": [
       "<IPython.core.display.HTML object>"
      ]
     },
     "metadata": {},
     "output_type": "display_data"
    },
    {
     "data": {
      "text/html": [
       "<table border=\"1\" class=\"dataframe\">\n",
       "  <thead>\n",
       "    <tr style=\"text-align: left;\">\n",
       "      <th>loss</th>\n",
       "      <th>epoch</th>\n",
       "      <th>train</th>\n",
       "    </tr>\n",
       "  </thead>\n",
       "  <tbody>\n",
       "    <tr>\n",
       "      <td>0.355</td>\n",
       "      <td>0</td>\n",
       "      <td>train</td>\n",
       "    </tr>\n",
       "    <tr>\n",
       "      <td>0.264</td>\n",
       "      <td>0</td>\n",
       "      <td>eval</td>\n",
       "    </tr>\n",
       "    <tr>\n",
       "      <td>0.211</td>\n",
       "      <td>1</td>\n",
       "      <td>train</td>\n",
       "    </tr>\n",
       "    <tr>\n",
       "      <td>0.239</td>\n",
       "      <td>1</td>\n",
       "      <td>eval</td>\n",
       "    </tr>\n",
       "    <tr>\n",
       "      <td>0.189</td>\n",
       "      <td>2</td>\n",
       "      <td>train</td>\n",
       "    </tr>\n",
       "    <tr>\n",
       "      <td>0.210</td>\n",
       "      <td>2</td>\n",
       "      <td>eval</td>\n",
       "    </tr>\n",
       "    <tr>\n",
       "      <td>0.179</td>\n",
       "      <td>3</td>\n",
       "      <td>train</td>\n",
       "    </tr>\n",
       "    <tr>\n",
       "      <td>0.203</td>\n",
       "      <td>3</td>\n",
       "      <td>eval</td>\n",
       "    </tr>\n",
       "    <tr>\n",
       "      <td>0.171</td>\n",
       "      <td>4</td>\n",
       "      <td>train</td>\n",
       "    </tr>\n",
       "    <tr>\n",
       "      <td>0.338</td>\n",
       "      <td>4</td>\n",
       "      <td>eval</td>\n",
       "    </tr>\n",
       "    <tr>\n",
       "      <td>0.169</td>\n",
       "      <td>5</td>\n",
       "      <td>train</td>\n",
       "    </tr>\n",
       "    <tr>\n",
       "      <td>0.198</td>\n",
       "      <td>5</td>\n",
       "      <td>eval</td>\n",
       "    </tr>\n",
       "    <tr>\n",
       "      <td>0.163</td>\n",
       "      <td>6</td>\n",
       "      <td>train</td>\n",
       "    </tr>\n",
       "    <tr>\n",
       "      <td>0.189</td>\n",
       "      <td>6</td>\n",
       "      <td>eval</td>\n",
       "    </tr>\n",
       "    <tr>\n",
       "      <td>0.160</td>\n",
       "      <td>7</td>\n",
       "      <td>train</td>\n",
       "    </tr>\n",
       "    <tr>\n",
       "      <td>0.177</td>\n",
       "      <td>7</td>\n",
       "      <td>eval</td>\n",
       "    </tr>\n",
       "    <tr>\n",
       "      <td>0.157</td>\n",
       "      <td>8</td>\n",
       "      <td>train</td>\n",
       "    </tr>\n",
       "    <tr>\n",
       "      <td>0.175</td>\n",
       "      <td>8</td>\n",
       "      <td>eval</td>\n",
       "    </tr>\n",
       "    <tr>\n",
       "      <td>0.153</td>\n",
       "      <td>9</td>\n",
       "      <td>train</td>\n",
       "    </tr>\n",
       "    <tr>\n",
       "      <td>0.179</td>\n",
       "      <td>9</td>\n",
       "      <td>eval</td>\n",
       "    </tr>\n",
       "    <tr>\n",
       "      <td>0.153</td>\n",
       "      <td>10</td>\n",
       "      <td>train</td>\n",
       "    </tr>\n",
       "    <tr>\n",
       "      <td>0.315</td>\n",
       "      <td>10</td>\n",
       "      <td>eval</td>\n",
       "    </tr>\n",
       "    <tr>\n",
       "      <td>0.151</td>\n",
       "      <td>11</td>\n",
       "      <td>train</td>\n",
       "    </tr>\n",
       "    <tr>\n",
       "      <td>0.172</td>\n",
       "      <td>11</td>\n",
       "      <td>eval</td>\n",
       "    </tr>\n",
       "    <tr>\n",
       "      <td>0.148</td>\n",
       "      <td>12</td>\n",
       "      <td>train</td>\n",
       "    </tr>\n",
       "    <tr>\n",
       "      <td>0.166</td>\n",
       "      <td>12</td>\n",
       "      <td>eval</td>\n",
       "    </tr>\n",
       "    <tr>\n",
       "      <td>0.147</td>\n",
       "      <td>13</td>\n",
       "      <td>train</td>\n",
       "    </tr>\n",
       "    <tr>\n",
       "      <td>0.167</td>\n",
       "      <td>13</td>\n",
       "      <td>eval</td>\n",
       "    </tr>\n",
       "    <tr>\n",
       "      <td>0.147</td>\n",
       "      <td>14</td>\n",
       "      <td>train</td>\n",
       "    </tr>\n",
       "    <tr>\n",
       "      <td>0.170</td>\n",
       "      <td>14</td>\n",
       "      <td>eval</td>\n",
       "    </tr>\n",
       "    <tr>\n",
       "      <td>0.144</td>\n",
       "      <td>15</td>\n",
       "      <td>train</td>\n",
       "    </tr>\n",
       "    <tr>\n",
       "      <td>0.182</td>\n",
       "      <td>15</td>\n",
       "      <td>eval</td>\n",
       "    </tr>\n",
       "    <tr>\n",
       "      <td>0.143</td>\n",
       "      <td>16</td>\n",
       "      <td>train</td>\n",
       "    </tr>\n",
       "    <tr>\n",
       "      <td>0.168</td>\n",
       "      <td>16</td>\n",
       "      <td>eval</td>\n",
       "    </tr>\n",
       "    <tr>\n",
       "      <td>0.143</td>\n",
       "      <td>17</td>\n",
       "      <td>train</td>\n",
       "    </tr>\n",
       "    <tr>\n",
       "      <td>0.166</td>\n",
       "      <td>17</td>\n",
       "      <td>eval</td>\n",
       "    </tr>\n",
       "    <tr>\n",
       "      <td>0.142</td>\n",
       "      <td>18</td>\n",
       "      <td>train</td>\n",
       "    </tr>\n",
       "    <tr>\n",
       "      <td>0.156</td>\n",
       "      <td>18</td>\n",
       "      <td>eval</td>\n",
       "    </tr>\n",
       "    <tr>\n",
       "      <td>0.140</td>\n",
       "      <td>19</td>\n",
       "      <td>train</td>\n",
       "    </tr>\n",
       "    <tr>\n",
       "      <td>0.141</td>\n",
       "      <td>19</td>\n",
       "      <td>eval</td>\n",
       "    </tr>\n",
       "    <tr>\n",
       "      <td>0.139</td>\n",
       "      <td>20</td>\n",
       "      <td>train</td>\n",
       "    </tr>\n",
       "    <tr>\n",
       "      <td>0.139</td>\n",
       "      <td>20</td>\n",
       "      <td>eval</td>\n",
       "    </tr>\n",
       "    <tr>\n",
       "      <td>0.138</td>\n",
       "      <td>21</td>\n",
       "      <td>train</td>\n",
       "    </tr>\n",
       "    <tr>\n",
       "      <td>0.149</td>\n",
       "      <td>21</td>\n",
       "      <td>eval</td>\n",
       "    </tr>\n",
       "    <tr>\n",
       "      <td>0.138</td>\n",
       "      <td>22</td>\n",
       "      <td>train</td>\n",
       "    </tr>\n",
       "    <tr>\n",
       "      <td>0.142</td>\n",
       "      <td>22</td>\n",
       "      <td>eval</td>\n",
       "    </tr>\n",
       "    <tr>\n",
       "      <td>0.137</td>\n",
       "      <td>23</td>\n",
       "      <td>train</td>\n",
       "    </tr>\n",
       "    <tr>\n",
       "      <td>0.139</td>\n",
       "      <td>23</td>\n",
       "      <td>eval</td>\n",
       "    </tr>\n",
       "    <tr>\n",
       "      <td>0.137</td>\n",
       "      <td>24</td>\n",
       "      <td>train</td>\n",
       "    </tr>\n",
       "    <tr>\n",
       "      <td>0.138</td>\n",
       "      <td>24</td>\n",
       "      <td>eval</td>\n",
       "    </tr>\n",
       "  </tbody>\n",
       "</table>"
      ],
      "text/plain": [
       "<IPython.core.display.HTML object>"
      ]
     },
     "metadata": {},
     "output_type": "display_data"
    },
    {
     "data": {
      "image/png": "[encoded data removed]",
      "text/plain": [
       "<Figure size 420x280 with 1 Axes>"
      ]
     },
     "metadata": {},
     "output_type": "display_data"
    }
   ],
   "source": [
    "learn.fit(epochs)"
   ]
  },
  {
   "cell_type": "markdown",
   "id": "bd6554ca-0d97-42e3-aa1e-c359cfe19688",
   "metadata": {},
   "source": [
    "## Sampling "
   ]
  },
  {
   "cell_type": "code",
   "execution_count": 47,
   "id": "8a5f4551-532b-42ba-afd1-008d3caf2ae0",
   "metadata": {},
   "outputs": [],
   "source": [
    "from miniai.fid import ImageEval"
   ]
  },
  {
   "cell_type": "code",
   "execution_count": 61,
   "id": "9a4a2b1e-e51c-46fc-843b-cd744cc4d5c3",
   "metadata": {},
   "outputs": [],
   "source": [
    "cmodel = torch.load('/home/models/data_aug2.pkl')\n",
    "del(cmodel[8])\n",
    "del(cmodel[7])\n",
    "\n",
    "bs = 2048\n",
    "tds2 = dsd.with_transform(transformi)\n",
    "dls2 = DataLoaders.from_dd(tds, bs, num_workers=fc.defaults.cpus)\n",
    "\n",
    "dt = dls2.train\n",
    "xb,yb = next(iter(dt))\n",
    "\n",
    "ie = ImageEval(cmodel, dls2, cbs=[DeviceCB()])"
   ]
  },
  {
   "cell_type": "code",
   "execution_count": 62,
   "id": "bcb9817e-d017-4f14-8499-51262bcd333b",
   "metadata": {},
   "outputs": [],
   "source": [
    "sz = (512,1,32,32)"
   ]
  },
  {
   "cell_type": "code",
   "execution_count": 63,
   "id": "86cdb5cc-5630-42a3-8cc2-32a878d8b4b3",
   "metadata": {},
   "outputs": [],
   "source": [
    "sz = (2048,1,32,32)"
   ]
  },
  {
   "cell_type": "code",
   "execution_count": 64,
   "id": "83e24ae4-d1c0-44ab-8bc3-2b5bc25072b4",
   "metadata": {},
   "outputs": [],
   "source": [
    "def sigmas_karras(n, sigma_min=0.01, sigma_max=80., rho=7.):\n",
    "    ramp = torch.linspace(0, 1, n)\n",
    "    min_inv_rho = sigma_min**(1/rho)\n",
    "    max_inv_rho = sigma_max**(1/rho)\n",
    "    sigmas = (max_inv_rho + ramp * (min_inv_rho-max_inv_rho))**rho\n",
    "    return torch.cat([sigmas, tensor([0.])]).cuda()\n",
    "\n",
    "def denoise(model, x, sig):\n",
    "    sig = sig[None] #* torch.ones((len(x),1), device=x.device)\n",
    "    c_skip,c_out,c_in = scalings(sig)\n",
    "    return model((x*c_in, sig))*c_out + x*c_skip"
   ]
  },
  {
   "cell_type": "code",
   "execution_count": 65,
   "id": "e7053f72-9862-44dd-bd98-90254f145df0",
   "metadata": {},
   "outputs": [],
   "source": [
    "def get_ancestral_step(sigma_from, sigma_to, eta=1.):\n",
    "    if not eta: return sigma_to, 0.\n",
    "    var_to,var_from = sigma_to**2,sigma_from**2\n",
    "    sigma_up = min(sigma_to, eta * (var_to * (var_from-var_to)/var_from)**0.5)\n",
    "    return (var_to-sigma_up**2)**0.5, sigma_up\n",
    "\n",
    "@torch.no_grad()\n",
    "def sample_euler_ancestral(x, sigs, i, model, eta=1.):\n",
    "    sig,sig2 = sigs[i],sigs[i+1]\n",
    "    denoised = denoise(model, x, sig)\n",
    "    sigma_down,sigma_up = get_ancestral_step(sig, sig2, eta=eta)\n",
    "    x = x + (x-denoised)/sig*(sigma_down-sig)\n",
    "    return x + torch.randn_like(x)*sigma_up"
   ]
  },
  {
   "cell_type": "code",
   "execution_count": 66,
   "id": "edb2b8e8-d3f8-4255-b5ff-6c3693a07f06",
   "metadata": {},
   "outputs": [],
   "source": [
    "@torch.no_grad()\n",
    "def sample_euler(x, sigs, i, model):\n",
    "    sig,sig2 = sigs[i],sigs[i+1]\n",
    "    denoised = denoise(model, x, sig)\n",
    "    return x + (x-denoised)/sig*(sig2-sig)\n",
    "\n",
    "@torch.no_grad()\n",
    "def sample_heun(x, sigs, i, model, s_churn=0., s_tmin=0., s_tmax=float('inf'), s_noise=1.):\n",
    "    sig,sig2 = sigs[i],sigs[i+1]\n",
    "    n = len(sigs)\n",
    "    gamma = min(s_churn/(n-1), 2**0.5-1) if s_tmin<=sig<=s_tmax else 0.\n",
    "    eps = torch.randn_like(x) * s_noise\n",
    "    sigma_hat = sig * (gamma+1)\n",
    "    if gamma > 0: x = x + eps * (sigma_hat**2-sig**2)**0.5\n",
    "    denoised = denoise(model, x, sig)\n",
    "    d = (x-denoised)/sig\n",
    "    dt = sig2-sigma_hat\n",
    "    x_2 = x + d*dt\n",
    "    if sig2==0: return x_2\n",
    "    denoised_2 = denoise(model, x_2, sig2)\n",
    "    d_2 = (x_2-denoised_2)/sig2\n",
    "    d_prime = (d+d_2)/2\n",
    "    return x + d_prime*dt\n"
   ]
  },
  {
   "cell_type": "code",
   "execution_count": 67,
   "id": "b2441222-5d87-47c9-81de-ac35f3e1130a",
   "metadata": {},
   "outputs": [],
   "source": [
    "def sample(sampler, model, steps=100, sigma_max=80., **kwargs):\n",
    "    preds = []\n",
    "    x = torch.randn(sz).cuda()*sigma_max\n",
    "    sigs = sigmas_karras(steps, sigma_max=sigma_max)\n",
    "    for i in progress_bar(range(len(sigs)-1)):\n",
    "        x = sampler(x, sigs, i, model, **kwargs)\n",
    "        preds.append(x)\n",
    "    return preds"
   ]
  },
  {
   "cell_type": "code",
   "execution_count": 68,
   "id": "39f00168-71b0-4ab4-a57f-21e7c6ef4f5b",
   "metadata": {},
   "outputs": [],
   "source": [
    "from scipy import integrate"
   ]
  },
  {
   "cell_type": "code",
   "execution_count": 69,
   "id": "282f31f6-7ba6-434d-a0c4-ebc9d01a2f96",
   "metadata": {},
   "outputs": [],
   "source": [
    "def linear_multistep_coeff(order, t, i, j):\n",
    "    if order-1 > i: raise ValueError(f'Order {order} too high for step {i}')\n",
    "    def fn(tau):\n",
    "        prod = 1.\n",
    "        for k in range(order):\n",
    "            if j == k: continue\n",
    "            prod *= (tau-t[i-k]) / (t[i-j]-t[i-k])\n",
    "        return prod\n",
    "    return integrate.quad(fn, t[i], t[i+1], epsrel=1e-4)[0]\n",
    "\n",
    "@torch.no_grad()\n",
    "def sample_lms(model, steps=100, order=4, sigma_max=80.):\n",
    "    preds = []\n",
    "    x = torch.randn(sz).cuda()*sigma_max\n",
    "    sigs = sigmas_karras(steps, sigma_max=sigma_max)\n",
    "    ds = []\n",
    "    for i in progress_bar(range(len(sigs)-1)):\n",
    "        sig = sigs[i]\n",
    "        denoised = denoise(model, x, sig)\n",
    "        d = (x-denoised)/sig\n",
    "        ds.append(d)\n",
    "        if len(ds) > order: ds.pop(0)\n",
    "        cur_order = min(i+1, order)\n",
    "        coeffs = [linear_multistep_coeff(cur_order, sigs, i, j) for j in range(cur_order)]\n",
    "        x = x + sum(coeff*d for coeff, d in zip(coeffs, reversed(ds)))\n",
    "        preds.append(x)\n",
    "    return preds"
   ]
  },
  {
   "cell_type": "code",
   "execution_count": 70,
   "id": "d046bf50-bd92-41a1-aff3-583c1de2112e",
   "metadata": {},
   "outputs": [
    {
     "data": {
      "text/html": [
       "\n",
       "<style>\n",
       "    /* Turns off some styling */\n",
       "    progress {\n",
       "        /* gets rid of default border in Firefox and Opera. */\n",
       "        border: none;\n",
       "        /* Needs to be in here for Safari polyfill so background images work as expected. */\n",
       "        background-size: auto;\n",
       "    }\n",
       "    progress:not([value]), progress:not([value])::-webkit-progress-bar {\n",
       "        background: repeating-linear-gradient(45deg, #7e7e7e, #7e7e7e 10px, #5c5c5c 10px, #5c5c5c 20px);\n",
       "    }\n",
       "    .progress-bar-interrupted, .progress-bar-interrupted::-webkit-progress-bar {\n",
       "        background: #F44336;\n",
       "    }\n",
       "</style>\n"
      ],
      "text/plain": [
       "<IPython.core.display.HTML object>"
      ]
     },
     "metadata": {},
     "output_type": "display_data"
    },
    {
     "data": {
      "text/html": [
       "\n",
       "    <div>\n",
       "      <progress value='20' class='' max='20' style='width:300px; height:20px; vertical-align: middle;'></progress>\n",
       "      100.00% [20/20 00:04&lt;00:00]\n",
       "    </div>\n",
       "    "
      ],
      "text/plain": [
       "<IPython.core.display.HTML object>"
      ]
     },
     "metadata": {},
     "output_type": "display_data"
    }
   ],
   "source": [
    "preds = sample_lms(model, steps=20, order=3)\n",
    "# preds = sample(sample_euler_ancestral, model, steps=100, eta=1.)\n",
    "# preds = sample(sample_euler, model, steps=100)\n",
    "# preds = sample(sample_heun, model, steps=20, s_churn=0.5)"
   ]
  },
  {
   "cell_type": "code",
   "execution_count": 71,
   "id": "3ba17c77-221c-4d92-8b8a-8a08d49edd66",
   "metadata": {},
   "outputs": [
    {
     "data": {
      "text/plain": [
       "(tensor(-1.08032, device='cuda:0'), tensor(1.37845, device='cuda:0'))"
      ]
     },
     "execution_count": 71,
     "metadata": {},
     "output_type": "execute_result"
    }
   ],
   "source": [
    "s = preds[-1]\n",
    "s.min(),s.max()"
   ]
  },
  {
   "cell_type": "code",
   "execution_count": 72,
   "id": "be524bc6-5440-40c1-acdb-3db84265f411",
   "metadata": {},
   "outputs": [
    {
     "data": {
      "image/png": "[encoded data removed]",
      "text/plain": [
       "<Figure size 525x525 with 25 Axes>"
      ]
     },
     "metadata": {},
     "output_type": "display_data"
    }
   ],
   "source": [
    "show_images(s[:25].clamp(-1,1), imsize=1.5)"
   ]
  },
  {
   "cell_type": "code",
   "execution_count": 73,
   "id": "c634d647-e9d8-46b4-8c99-e2d0b6ae31ba",
   "metadata": {},
   "outputs": [
    {
     "data": {
      "text/plain": [
       "(0.9232177734375, 0.009685005061328411, torch.Size([2048, 1, 32, 32]))"
      ]
     },
     "execution_count": 73,
     "metadata": {},
     "output_type": "execute_result"
    }
   ],
   "source": [
    "# lms 20\n",
    "ie.fid(s),ie.kid(s),s.shape"
   ]
  },
  {
   "cell_type": "code",
   "execution_count": 74,
   "id": "a22b9df0-2d43-4623-a402-b0b84240d986",
   "metadata": {},
   "outputs": [
    {
     "data": {
      "text/html": [
       "\n",
       "<style>\n",
       "    /* Turns off some styling */\n",
       "    progress {\n",
       "        /* gets rid of default border in Firefox and Opera. */\n",
       "        border: none;\n",
       "        /* Needs to be in here for Safari polyfill so background images work as expected. */\n",
       "        background-size: auto;\n",
       "    }\n",
       "    progress:not([value]), progress:not([value])::-webkit-progress-bar {\n",
       "        background: repeating-linear-gradient(45deg, #7e7e7e, #7e7e7e 10px, #5c5c5c 10px, #5c5c5c 20px);\n",
       "    }\n",
       "    .progress-bar-interrupted, .progress-bar-interrupted::-webkit-progress-bar {\n",
       "        background: #F44336;\n",
       "    }\n",
       "</style>\n"
      ],
      "text/plain": [
       "<IPython.core.display.HTML object>"
      ]
     },
     "metadata": {},
     "output_type": "display_data"
    },
    {
     "data": {
      "text/html": [
       "\n",
       "    <div>\n",
       "      <progress value='20' class='' max='20' style='width:300px; height:20px; vertical-align: middle;'></progress>\n",
       "      100.00% [20/20 00:04&lt;00:00]\n",
       "    </div>\n",
       "    "
      ],
      "text/plain": [
       "<IPython.core.display.HTML object>"
      ]
     },
     "metadata": {},
     "output_type": "display_data"
    },
    {
     "data": {
      "text/plain": [
       "(1.2525634765625, 0.007465990725904703, torch.Size([2048, 1, 32, 32]))"
      ]
     },
     "execution_count": 74,
     "metadata": {},
     "output_type": "execute_result"
    }
   ],
   "source": [
    "preds = sample_lms(model, steps=20, order=3)\n",
    "s = preds[-1]\n",
    "ie.fid(s),ie.kid(s),s.shape"
   ]
  },
  {
   "cell_type": "code",
   "execution_count": 75,
   "id": "534f4559-c4cb-44cb-80e6-95045047104f",
   "metadata": {},
   "outputs": [
    {
     "data": {
      "text/html": [
       "\n",
       "<style>\n",
       "    /* Turns off some styling */\n",
       "    progress {\n",
       "        /* gets rid of default border in Firefox and Opera. */\n",
       "        border: none;\n",
       "        /* Needs to be in here for Safari polyfill so background images work as expected. */\n",
       "        background-size: auto;\n",
       "    }\n",
       "    progress:not([value]), progress:not([value])::-webkit-progress-bar {\n",
       "        background: repeating-linear-gradient(45deg, #7e7e7e, #7e7e7e 10px, #5c5c5c 10px, #5c5c5c 20px);\n",
       "    }\n",
       "    .progress-bar-interrupted, .progress-bar-interrupted::-webkit-progress-bar {\n",
       "        background: #F44336;\n",
       "    }\n",
       "</style>\n"
      ],
      "text/plain": [
       "<IPython.core.display.HTML object>"
      ]
     },
     "metadata": {},
     "output_type": "display_data"
    },
    {
     "data": {
      "text/html": [
       "\n",
       "    <div>\n",
       "      <progress value='20' class='' max='20' style='width:300px; height:20px; vertical-align: middle;'></progress>\n",
       "      100.00% [20/20 00:04&lt;00:00]\n",
       "    </div>\n",
       "    "
      ],
      "text/plain": [
       "<IPython.core.display.HTML object>"
      ]
     },
     "metadata": {},
     "output_type": "display_data"
    },
    {
     "data": {
      "text/plain": [
       "(1.0601959228515625, 0.00790930911898613, torch.Size([2048, 1, 32, 32]))"
      ]
     },
     "execution_count": 75,
     "metadata": {},
     "output_type": "execute_result"
    }
   ],
   "source": [
    "preds = sample_lms(model, steps=20, order=3)\n",
    "s = preds[-1]\n",
    "ie.fid(s),ie.kid(s),s.shape"
   ]
  },
  {
   "cell_type": "code",
   "execution_count": null,
   "id": "2682da98-effa-4708-b988-ff5afbbd4bb5",
   "metadata": {},
   "outputs": [],
   "source": []
  },
  {
   "cell_type": "code",
   "execution_count": null,
   "id": "ae18a956-b4c4-4d1b-9395-4fe0a83b01f3",
   "metadata": {},
   "outputs": [],
   "source": []
  }
 ],
 "metadata": {
  "kernelspec": {
   "display_name": "c22penv",
   "language": "python",
   "name": "c22penv"
  },
  "language_info": {
   "codemirror_mode": {
    "name": "ipython",
    "version": 3
   },
   "file_extension": ".py",
   "mimetype": "text/x-python",
   "name": "python",
   "nbconvert_exporter": "python",
   "pygments_lexer": "ipython3",
   "version": "3.9.15"
  }
 },
 "nbformat": 4,
 "nbformat_minor": 5
}

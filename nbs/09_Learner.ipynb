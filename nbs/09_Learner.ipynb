{
 "cells": [
  {
   "cell_type": "code",
   "execution_count": 1,
   "id": "01d7af9b",
   "metadata": {},
   "outputs": [],
   "source": [
    "#| default_exp learner"
   ]
  },
  {
   "cell_type": "code",
   "execution_count": 2,
   "id": "929071ff",
   "metadata": {},
   "outputs": [],
   "source": [
    "#|export\n",
    "import pickle,gzip,math,os,time,shutil,torch,matplotlib as mpl,numpy as np,matplotlib.pyplot as plt\n",
    "import fastcore.all as fc\n",
    "from collections.abc import Mapping\n",
    "from pathlib import Path\n",
    "from operator import attrgetter,itemgetter\n",
    "from functools import partial\n",
    "from copy import copy\n",
    "from contextlib import contextmanager\n",
    "\n",
    "from torch import tensor,nn,optim\n",
    "from torch.utils.data import DataLoader,default_collate\n",
    "import torch.nn.functional as F\n",
    "import torchvision.transforms.functional as TF\n",
    "from datasets import load_dataset,load_dataset_builder\n",
    "\n",
    "from miniai.datasets import *\n",
    "from miniai.conv import *\n",
    "\n",
    "from fastprogress import progress_bar,master_bar"
   ]
  },
  {
   "cell_type": "code",
   "execution_count": 3,
   "id": "c15b364b",
   "metadata": {},
   "outputs": [],
   "source": [
    "from fastcore.test import test_close\n",
    "\n",
    "torch.set_printoptions(precision=2, linewidth=140, sci_mode=False)\n",
    "torch.manual_seed(1)\n",
    "mpl.rcParams['image.cmap'] = 'gray'\n",
    "\n",
    "import logging\n",
    "logging.disable(logging.WARNING)"
   ]
  },
  {
   "cell_type": "markdown",
   "id": "78633fab",
   "metadata": {},
   "source": [
    "Note that included now is the fastprogress bar and also the fastcore.test, test_close function"
   ]
  },
  {
   "cell_type": "markdown",
   "id": "7f98f954",
   "metadata": {},
   "source": [
    "## Learner "
   ]
  },
  {
   "cell_type": "markdown",
   "id": "75a1b214",
   "metadata": {},
   "source": [
    "### Setup data and dataloader.  \n",
    "Mnist fashion will be used again but in this case for a classification problem rather than as an autoencode as in the last notebook"
   ]
  },
  {
   "cell_type": "code",
   "execution_count": 4,
   "id": "6a918950",
   "metadata": {},
   "outputs": [
    {
     "data": {
      "application/vnd.jupyter.widget-view+json": {
       "model_id": "a730e61bf17c45b8a07b9a72e321156a",
       "version_major": 2,
       "version_minor": 0
      },
      "text/plain": [
       "  0%|          | 0/2 [00:00<?, ?it/s]"
      ]
     },
     "metadata": {},
     "output_type": "display_data"
    }
   ],
   "source": [
    "x,y = 'image','label'\n",
    "name = \"fashion_mnist\"\n",
    "dsd = load_dataset(name)"
   ]
  },
  {
   "cell_type": "code",
   "execution_count": 5,
   "id": "3a9a34fc",
   "metadata": {},
   "outputs": [],
   "source": [
    "@inplace\n",
    "def transformi(b): b[x] = [torch.flatten(TF.to_tensor(o)) for o in b[x]]"
   ]
  },
  {
   "cell_type": "code",
   "execution_count": 6,
   "id": "3fee4eb1",
   "metadata": {},
   "outputs": [],
   "source": [
    "bs = 1024\n",
    "tds = dsd.with_transform(transformi)"
   ]
  },
  {
   "cell_type": "code",
   "execution_count": 7,
   "id": "f00daad0",
   "metadata": {},
   "outputs": [
    {
     "data": {
      "text/plain": [
       "DatasetDict({\n",
       "    train: Dataset({\n",
       "        features: ['image', 'label'],\n",
       "        num_rows: 60000\n",
       "    })\n",
       "    test: Dataset({\n",
       "        features: ['image', 'label'],\n",
       "        num_rows: 10000\n",
       "    })\n",
       "})"
      ]
     },
     "execution_count": 7,
     "metadata": {},
     "output_type": "execute_result"
    }
   ],
   "source": [
    "dsd"
   ]
  },
  {
   "cell_type": "code",
   "execution_count": 8,
   "id": "207fb9da",
   "metadata": {},
   "outputs": [],
   "source": [
    "#|export\n",
    "class DataLoaders:\n",
    "    \"\"\" Class to create train and validate dataloaders from a dataset\n",
    "    \"\"\"\n",
    "    \n",
    "    def __init__(self, *dls): self.train, self.valid = dls[:2]\n",
    "    \n",
    "    @classmethod\n",
    "    def from_dd(cls, dd, batch_size, as_tuple=True, **kwargs):\n",
    "        return cls(*[DataLoader(ds, batch_size, collate_fn=collate_dict(ds), **kwargs) for ds in dd.values()]) "
   ]
  },
  {
   "cell_type": "code",
   "execution_count": 9,
   "id": "8f90504f",
   "metadata": {},
   "outputs": [
    {
     "data": {
      "text/plain": [
       "(torch.Size([16, 784]),\n",
       " tensor([9, 0, 0, 3, 0, 2, 7, 2, 5, 5, 0, 9, 5, 5, 7, 9]))"
      ]
     },
     "execution_count": 9,
     "metadata": {},
     "output_type": "execute_result"
    }
   ],
   "source": [
    "dls = DataLoaders.from_dd(tds, batch_size=bs, num_workers=4)\n",
    "dt = dls.train\n",
    "xb, yb = next(iter(dt))\n",
    "xb[:16].shape, yb[:16]"
   ]
  },
  {
   "cell_type": "markdown",
   "id": "be87909f",
   "metadata": {},
   "source": [
    "### Basic Learner\n",
    "\n",
    "Start of with a basic but limited and rigid model, which will then be developed to facilitate additional features to optimise the training"
   ]
  },
  {
   "cell_type": "code",
   "execution_count": 10,
   "id": "520d623a",
   "metadata": {},
   "outputs": [],
   "source": [
    "class Learner:\n",
    "    def __init__(self, model, dls, loss_func, lr, opt_func=optim.SGD): fc.store_attr()\n",
    "    \n",
    "    def one_batch(self):\n",
    "        \"\"\" Calculate the predictions and loss for the batch.  If training then carry out optimisation\n",
    "        calculate stats for the batch\n",
    "        \"\"\"\n",
    "        self.xb, self.yb = to_device(self.batch)\n",
    "        self.preds = self.model(self.xb)\n",
    "        self.loss = self.loss_func(self.preds, self.yb)\n",
    "        if self.model.training:\n",
    "            self.loss.backward()\n",
    "            self.opt.step()\n",
    "            self.opt.zero_grad()\n",
    "        with torch.no_grad():\n",
    "            self.calc_stats()\n",
    "        \n",
    "        \n",
    "    def calc_stats(self):\n",
    "        \"\"\" Calculate accuracy, losses and number of sample in a batch and append to summary lists\n",
    "        \"\"\"\n",
    "        acc = (self.preds.argmax(dim=1) == self.yb).float().sum()\n",
    "        self.acc.append(acc)\n",
    "        nb = len(xb)\n",
    "        self.ns.append(nb)\n",
    "        self.losses.append(self.loss*nb)\n",
    "        \n",
    "        \n",
    "    \n",
    "    def one_epoch(self, train):\n",
    "        \"\"\" Execute one epoch in either train or eval mode\n",
    "        Execute all batches\n",
    "        Print training accuracy and progress\n",
    "        \"\"\"\n",
    "        self.model.training = train\n",
    "        dl = dls.train if train else self.dls.valid\n",
    "        n = len(dl)\n",
    "        for self.batch_num, self.batch in enumerate(dl):\n",
    "            self.one_batch()\n",
    "        total_samples = sum(self.ns)\n",
    "        print(f'{self.epoch},  {self.model.training}, {sum(self.losses).item()/total_samples}, {sum(self.acc).item()/total_samples}')\n",
    "        #\n",
    "    \n",
    "    def fit(self, n_epochs):\n",
    "        \"\"\" train and evaluate model over n_epochs.  To do so:\n",
    "        Create optimizer\n",
    "        Create empyt lists for losses, accuracy and number if samples\n",
    "        Send the model to the correct device\n",
    "        Iterate through each epoch for train and then eval\n",
    "        \"\"\"\n",
    "        self.acc, self.losses, self.ns = [], [], []\n",
    "        self.model.to(def_device)\n",
    "        self.opt = optim.SGD(self.model.parameters(), lr=self.lr)\n",
    "        self.n_epochs = n_epochs\n",
    "        for self.epoch in range(n_epochs):\n",
    "            self.one_epoch(train=True)\n",
    "            self.one_epoch(train=False)    "
   ]
  },
  {
   "cell_type": "code",
   "execution_count": 11,
   "id": "f7cab351",
   "metadata": {},
   "outputs": [],
   "source": [
    "m,nh = 28*28,50\n",
    "model = nn.Sequential(nn.Linear(m,nh), nn.ReLU(), nn.Linear(nh,10))"
   ]
  },
  {
   "cell_type": "code",
   "execution_count": 12,
   "id": "71b40d3e",
   "metadata": {},
   "outputs": [
    {
     "name": "stdout",
     "output_type": "stream",
     "text": [
      "0,  True, 1.182267787092823, 0.5915320444915254\n",
      "0,  False, 1.131643433501755, 0.6031476449275363\n"
     ]
    }
   ],
   "source": [
    "learn = Learner(model, dls, F.cross_entropy, lr=0.2)\n",
    "learn.fit(1)"
   ]
  },
  {
   "cell_type": "markdown",
   "id": "44bcfb84",
   "metadata": {},
   "source": [
    "### Basic Callbacks Learner\n",
    "\n",
    "The first step to make the training more flexible is to add callbacks.  These allow the model training to be interupted and changed as required.  The callback concept will make use of Exceptions, which are a powerful way in which to manage execution flow"
   ]
  },
  {
   "cell_type": "code",
   "execution_count": 13,
   "id": "96e113fa",
   "metadata": {},
   "outputs": [],
   "source": [
    "#|export\n",
    "class CancelFitException(Exception): pass\n",
    "class CancelBatchException(Exception): pass\n",
    "class CancelEpochException(Exception): pass"
   ]
  },
  {
   "cell_type": "code",
   "execution_count": 14,
   "id": "9961bfb7",
   "metadata": {},
   "outputs": [],
   "source": [
    "#|export\n",
    "def run_cbs(cbs, method_nm, learn=None):\n",
    "    for cb in sorted(cbs, key=attrgetter('order')):\n",
    "        # if there is a callback with the name then return it else return None\n",
    "        method = getattr(cb, method_nm, None)\n",
    "        # if the callback is not None then execute it\n",
    "        if method is not None: method(learn)"
   ]
  },
  {
   "cell_type": "markdown",
   "id": "601c9ee5",
   "metadata": {},
   "source": [
    "Create a callback class that can be inherited by actual callbacks"
   ]
  },
  {
   "cell_type": "code",
   "execution_count": 15,
   "id": "1627f6e6",
   "metadata": {},
   "outputs": [],
   "source": [
    "#|export\n",
    "class Callback(): order = 0"
   ]
  },
  {
   "cell_type": "code",
   "execution_count": 16,
   "id": "e8f0cbfa",
   "metadata": {},
   "outputs": [],
   "source": [
    "class CompletionCB(Callback):\n",
    "    \"\"\" Callback to track and print out the number of batches\n",
    "    \"\"\"\n",
    "    def before_fit(self, learn): self.count = 0\n",
    "    def after_batch(self, learn): self.count += 1\n",
    "    def after_fit(self, learn): print(f'Completed {self.count} batches')"
   ]
  },
  {
   "cell_type": "markdown",
   "id": "6fcdc911",
   "metadata": {},
   "source": [
    "To run the callback it is wrapped as a list and then executed using the run_cbs function"
   ]
  },
  {
   "cell_type": "code",
   "execution_count": 17,
   "id": "ea954aaf",
   "metadata": {},
   "outputs": [
    {
     "name": "stdout",
     "output_type": "stream",
     "text": [
      "Completed 1 batches\n"
     ]
    }
   ],
   "source": [
    "cbs = [CompletionCB()]\n",
    "run_cbs(cbs, 'before_fit')\n",
    "run_cbs(cbs, 'after_batch')\n",
    "run_cbs(cbs, 'after_fit')"
   ]
  },
  {
   "cell_type": "markdown",
   "id": "d2ff84b1",
   "metadata": {},
   "source": [
    "The learner can be updated to call the callbacks before_batch,  after_batch, before_epoch, after epochs, before_fit, after_fit.  The epoch, batch and fit can be terminated by any of the callback raising a Cancel Exception\n",
    "\n",
    "To enable this the learner has to be passed the callback.  Also each callback is passed an attribute learn that contains the learner, hence the callback has access to all of the learner attributes"
   ]
  },
  {
   "cell_type": "code",
   "execution_count": 18,
   "id": "ef373cbe",
   "metadata": {},
   "outputs": [],
   "source": [
    "class Learner():\n",
    "    def __init__(self, model, dls, loss_func, lr, cbs, opt_func=optim.SGD):\n",
    "        fc.store_attr()\n",
    "        # Assign the learner with all of its attributes to each of the callbacks\n",
    "        for cb in cbs: cb.learn = self\n",
    "            \n",
    "    def one_batch(self):\n",
    "        self.xb, self.yb = to_device(self.batch)\n",
    "        self.preds = self.model(self.xb)\n",
    "        self.loss = self.loss_func(self.preds, self.yb)\n",
    "        if self.model.training:\n",
    "            self.loss.backward()\n",
    "            self.opt.step()\n",
    "            self.opt.zero_grad()\n",
    "            \n",
    "    def one_epoch(self, train):\n",
    "        \"\"\" Execute one epoch in either train or eval mode\n",
    "        Execute all batches\n",
    "        Print training accuracy and progress\n",
    "        \"\"\"\n",
    "        # Why are these two lines before the \"before_epoch\" try?\n",
    "        self.model.training = train\n",
    "        dl = dls.train if train else self.dls.valid\n",
    "        try:\n",
    "            self.callback('before_epoch')\n",
    "            n = len(dl)\n",
    "            for self.batch_num, self.batch in enumerate(dl):\n",
    "                try:\n",
    "                    self.callback('before_batch')\n",
    "                    self.one_batch()\n",
    "                    self.callback('after_batch')\n",
    "                except CancelBatchException: pass    \n",
    "            self.callback('after_epoch')\n",
    "        except CancelEpochException: pass\n",
    "            \n",
    "    \n",
    "    def fit(self, n_epochs):\n",
    "        \"\"\" train and evaluate model over n_epochs.  To do so:\n",
    "        Create optimizer\n",
    "        Send the model to the correct device\n",
    "        Iterate through each epoch for train and then eval\n",
    "        \"\"\"\n",
    "        self.model.to(def_device)\n",
    "        self.opt = optim.SGD(self.model.parameters(), lr=self.lr)\n",
    "        try:\n",
    "            self.callback('before_fit')\n",
    "            self.n_epochs = n_epochs\n",
    "            for self.epoch in range(n_epochs):\n",
    "                self.one_epoch(train=True)\n",
    "                self.one_epoch(train=False)\n",
    "            self.callback('after_fit')\n",
    "        except CancelFitException: pass\n",
    "    \n",
    "    def callback(self, method_nm):\n",
    "        run_cbs(self.cbs, method_nm, self)"
   ]
  },
  {
   "cell_type": "code",
   "execution_count": 19,
   "id": "26ba1fcf",
   "metadata": {},
   "outputs": [],
   "source": [
    "m,nh = 28*28,50\n",
    "def get_model(): return nn.Sequential(nn.Linear(m,nh), nn.ReLU(), nn.Linear(nh,10))"
   ]
  },
  {
   "cell_type": "code",
   "execution_count": 20,
   "id": "c1ee2459",
   "metadata": {},
   "outputs": [
    {
     "name": "stdout",
     "output_type": "stream",
     "text": [
      "Completed 69 batches\n"
     ]
    }
   ],
   "source": [
    "model = get_model()\n",
    "learn = Learner(model, dls, F.cross_entropy, lr=0.2, cbs=[CompletionCB()])\n",
    "learn.fit(1)"
   ]
  },
  {
   "cell_type": "code",
   "execution_count": 21,
   "id": "3c6b8d21",
   "metadata": {},
   "outputs": [],
   "source": [
    "#| export\n",
    "class SingleBatchCB(Callback):\n",
    "    order = 1\n",
    "    def after_batch(self, learn): raise CancelFitException()"
   ]
  },
  {
   "cell_type": "markdown",
   "id": "d106aa73",
   "metadata": {},
   "source": [
    "## Add in the Metrics \n",
    "\n",
    "Firstly create a generic class that all metrics can inherit"
   ]
  },
  {
   "cell_type": "code",
   "execution_count": 22,
   "id": "cf527d8b",
   "metadata": {},
   "outputs": [],
   "source": [
    "class Metric:\n",
    "    \"\"\" Class to store accumulated metrics and to then calculate the value when required.  Values will all\n",
    "    be stored in self.vals, number of samples in self.ns\n",
    "    \n",
    "    Classes inheriting from this will overwrite the calc method\n",
    "    \n",
    "    Assumes that the metrics will be returned as means and not sums\n",
    "    \"\"\"\n",
    "    def __init__(self):\n",
    "        self.reset()\n",
    "        \n",
    "    def reset(self):\n",
    "        self.vals, self.ns = [], []\n",
    "        \n",
    "    def add(self, \n",
    "            inp, # inputs to use to calculate metrics (usually the preds)\n",
    "            targ=None, # targets to compare preds against\n",
    "            n=1 # number of samples (usually size of the batch)\n",
    "           ):\n",
    "        self.last = self.calc(inp, targ)\n",
    "        self.vals.append(self.last)\n",
    "        self.ns.append(n)\n",
    "    \n",
    "    @property\n",
    "    def value(self):\n",
    "        ns = tensor(self.ns)\n",
    "        return (tensor(self.vals) * ns).sum() / ns.sum()\n",
    "    \n",
    "    def calc(self, inps, targs):\n",
    "        \"\"\" To be overwritten by inherited classes\n",
    "        \"\"\"\n",
    "        return inps   "
   ]
  },
  {
   "cell_type": "markdown",
   "id": "16611ab2",
   "metadata": {},
   "source": [
    "Use the above class to calculate the accuracy metric"
   ]
  },
  {
   "cell_type": "code",
   "execution_count": 23,
   "id": "e9376bb7",
   "metadata": {},
   "outputs": [],
   "source": [
    "class Accuracy(Metric):\n",
    "    def calc(self, inps, targs):\n",
    "        acc = (inps == targs).float().mean()\n",
    "        return acc"
   ]
  },
  {
   "cell_type": "raw",
   "id": "6216af83",
   "metadata": {},
   "source": [
    "Introduce tests for the accuracy metric"
   ]
  },
  {
   "cell_type": "code",
   "execution_count": 24,
   "id": "0b83e227",
   "metadata": {},
   "outputs": [
    {
     "data": {
      "text/plain": [
       "tensor(0.45)"
      ]
     },
     "execution_count": 24,
     "metadata": {},
     "output_type": "execute_result"
    }
   ],
   "source": [
    "acc = Accuracy()\n",
    "acc.add(tensor([0, 1, 2, 0, 1, 2]), tensor([0, 1, 1, 2, 1, 0]), 6)\n",
    "acc.add(tensor([1, 1, 2, 0, 1]), tensor([0, 1, 1, 2, 1]), 5)\n",
    "acc.value"
   ]
  },
  {
   "cell_type": "code",
   "execution_count": 25,
   "id": "d047644d",
   "metadata": {},
   "outputs": [
    {
     "data": {
      "text/plain": [
       "(tensor(0.62), 0.62)"
      ]
     },
     "execution_count": 25,
     "metadata": {},
     "output_type": "execute_result"
    }
   ],
   "source": [
    "loss = Metric()\n",
    "loss.add(0.6, n=32)\n",
    "loss.add(0.9, n=2)\n",
    "loss.value, round((0.6*32+0.9*2)/(32+2), 2)"
   ]
  },
  {
   "cell_type": "markdown",
   "id": "094d61b3",
   "metadata": {},
   "source": [
    "### Add some basic callbacks to move model and data to the correct device"
   ]
  },
  {
   "cell_type": "code",
   "execution_count": 26,
   "id": "81a6978d",
   "metadata": {},
   "outputs": [],
   "source": [
    "#|export\n",
    "class DeviceCB(Callback):\n",
    "    def before_fit(self, learn):\n",
    "        learn.model.to(def_device)\n",
    "    def before_batch(self, learn):\n",
    "        learn.batch = to_device(learn.batch, def_device)"
   ]
  },
  {
   "cell_type": "markdown",
   "id": "eb056db5",
   "metadata": {},
   "source": [
    "The above metrics can be replaced by the torcheval library.  Instead of the above methods it has .update, .compute and .reset"
   ]
  },
  {
   "cell_type": "raw",
   "id": "595f1d8b",
   "metadata": {},
   "source": [
    "!pip install torcheval"
   ]
  },
  {
   "cell_type": "code",
   "execution_count": 27,
   "id": "d99e2c24",
   "metadata": {},
   "outputs": [],
   "source": [
    "#|export\n",
    "from torcheval.metrics import MulticlassAccuracy, Mean"
   ]
  },
  {
   "cell_type": "code",
   "execution_count": 28,
   "id": "d0b76409",
   "metadata": {},
   "outputs": [
    {
     "data": {
      "text/plain": [
       "tensor(0.50)"
      ]
     },
     "execution_count": 28,
     "metadata": {},
     "output_type": "execute_result"
    }
   ],
   "source": [
    "metric = MulticlassAccuracy()\n",
    "metric.update(tensor([0, 2, 1, 3]), tensor([0, 1, 2, 3]))\n",
    "metric.compute()"
   ]
  },
  {
   "cell_type": "code",
   "execution_count": 29,
   "id": "b7926034",
   "metadata": {},
   "outputs": [
    {
     "data": {
      "text/plain": [
       "tensor(nan)"
      ]
     },
     "execution_count": 29,
     "metadata": {},
     "output_type": "execute_result"
    }
   ],
   "source": [
    "metric.reset()\n",
    "metric.compute()"
   ]
  },
  {
   "cell_type": "markdown",
   "id": "30d250de",
   "metadata": {},
   "source": [
    "Develop a metrics callback that allows any required metrics to be calculated as part of the training process using callbacks\n",
    "\n",
    "This requires a function to move any tensors back to the cpu to make processing easier"
   ]
  },
  {
   "cell_type": "code",
   "execution_count": 30,
   "id": "a1bd5317",
   "metadata": {},
   "outputs": [],
   "source": [
    "class Learner():\n",
    "    def __init__(self, model, dls, loss_func, lr, cbs, opt_func=optim.SGD):\n",
    "        fc.store_attr()\n",
    "        # Assign the learner with all of its attributes to each of the callbacks\n",
    "        for cb in cbs: cb.learn = self\n",
    "            \n",
    "    def one_batch(self):\n",
    "        self.preds = self.model(self.batch[0])\n",
    "        self.loss = self.loss_func(self.preds, self.batch[1])\n",
    "        if self.model.training:\n",
    "            self.loss.backward()\n",
    "            self.opt.step()\n",
    "            self.opt.zero_grad()\n",
    "            \n",
    "    def one_epoch(self, train):\n",
    "        \"\"\" Execute one epoch in either train or eval mode\n",
    "        Execute all batches\n",
    "        Print training accuracy and progress\n",
    "        \"\"\"\n",
    "        # Why are these two lines before the \"before_epoch\" try?\n",
    "        self.model.training = train\n",
    "        dl = dls.train if train else self.dls.valid\n",
    "        try:\n",
    "            self.callback('before_epoch')\n",
    "            n = len(dl)\n",
    "            for self.batch_num, self.batch in enumerate(dl):\n",
    "                try:\n",
    "                    self.callback('before_batch')\n",
    "                    self.one_batch()\n",
    "                    self.callback('after_batch')\n",
    "                except CancelBatchException: pass    \n",
    "            self.callback('after_epoch')\n",
    "        except CancelEpochException: pass\n",
    "            \n",
    "    \n",
    "    def fit(self, n_epochs):\n",
    "        \"\"\" train and evaluate model over n_epochs.  To do so:\n",
    "        Create optimizer\n",
    "        Send the model to the correct device\n",
    "        Iterate through each epoch for train and then eval\n",
    "        \"\"\"\n",
    "        self.model.to(def_device)\n",
    "        self.opt = optim.SGD(self.model.parameters(), lr=self.lr)\n",
    "        try:\n",
    "            self.callback('before_fit')\n",
    "            self.n_epochs = n_epochs\n",
    "            for self.epoch in range(n_epochs):\n",
    "                self.one_epoch(train=True)\n",
    "                self.one_epoch(train=False)\n",
    "            self.callback('after_fit')\n",
    "        except CancelFitException: pass\n",
    "    \n",
    "    def callback(self, method_nm):\n",
    "        run_cbs(self.cbs, method_nm, self)"
   ]
  },
  {
   "cell_type": "code",
   "execution_count": 31,
   "id": "70329d82",
   "metadata": {},
   "outputs": [],
   "source": [
    "#|export\n",
    "def to_cpu(x):\n",
    "    \"\"\"recursive function that breaks lists and tuples into individual items moves them to the cpu\n",
    "    and then returns the original item with all of the parts moved\n",
    "    \"\"\"\n",
    "    if isinstance(x, Mapping): return {k: to_cpu(v) for k, v in x.items()}\n",
    "    if isinstance(x, list): return [to_cpu(v) for v in x]\n",
    "    if isinstance(x, tuple): return tuple(to_cpu(list(x)))\n",
    "    return x.detach().cpu()"
   ]
  },
  {
   "cell_type": "code",
   "execution_count": 32,
   "id": "b64ee03b",
   "metadata": {},
   "outputs": [],
   "source": [
    "#|export\n",
    "class MetricsCB(Callback):\n",
    "    def __init__(self, *ms, **metrics):\n",
    "        # Assign all metrics supplied as list items to attributes\n",
    "        for o in ms:\n",
    "            # Create a metrics dictionary to facilitate easy access\n",
    "            metrics[type(o).__name__()] = o\n",
    "        self.metrics = metrics\n",
    "        self.all_metrics = copy(metrics)\n",
    "        self.all_metrics['loss'] = self.loss = Mean()\n",
    "\n",
    "    \n",
    "    def _log(self, \n",
    "             d # list of metrics to print for each epoch\n",
    "            ):\n",
    "        \"\"\" Print summary of the logs every epoch\n",
    "        \"\"\"\n",
    "        print(self.learn.epoch, self.learn.model.training, d)\n",
    "        \n",
    "    def before_fit(self, learn):\n",
    "        # Assign this metrics instance to the learner\n",
    "        learn.metrics = self\n",
    "        \n",
    "    def before_epoch(self, learn):\n",
    "        # Reset metrics\n",
    "        [o.reset() for o in self.all_metrics.values()]\n",
    "        \n",
    "    def after_epoch(self, learn):\n",
    "        # Print summary of metrics\n",
    "        log = {k: f'{v.compute():.3f}' for k, v in self.all_metrics.items()}\n",
    "        log['epoch'] = learn.epoch\n",
    "        log['train'] = learn.model.training\n",
    "        # Trigger printing of the metrics\n",
    "        self._log(log)\n",
    "        \n",
    "    def after_batch(self, learn):\n",
    "        # Update metrics\n",
    "        # put x, and y onto cpu\n",
    "        x, y  = to_cpu(learn.batch)\n",
    "        # put preds onto cpu and calculate metric for each metric\n",
    "        for m in self.metrics.values():\n",
    "            m.update(to_cpu(learn.preds), y)\n",
    "        # update the loss (Note that loss has been instantiated from the Mean class where the weight is used)\n",
    "        self.loss.update(to_cpu(learn.loss), weight=len(x))\n",
    "        "
   ]
  },
  {
   "cell_type": "code",
   "execution_count": 33,
   "id": "52e575eb",
   "metadata": {},
   "outputs": [
    {
     "name": "stdout",
     "output_type": "stream",
     "text": [
      "0 True {'accuracy': '0.603', 'loss': '1.182', 'epoch': 0, 'train': True}\n",
      "0 False {'accuracy': '0.690', 'loss': '0.849', 'epoch': 0, 'train': False}\n"
     ]
    }
   ],
   "source": [
    "model = get_model()\n",
    "metrics = MetricsCB(accuracy=MulticlassAccuracy())\n",
    "learn = Learner(model, dls, F.cross_entropy, lr=0.2, cbs=[DeviceCB(), metrics])\n",
    "learn.fit(1)"
   ]
  },
  {
   "cell_type": "markdown",
   "id": "3220a46c",
   "metadata": {},
   "source": [
    "### Flexible Learner\n",
    "To make the learner more flexible use can be made of a context manager. This allows linking of before and after callbacks for a specific part of training.  The before is called when the context manager is applied, and the after when the contect manager exits"
   ]
  },
  {
   "cell_type": "code",
   "execution_count": 34,
   "id": "d0da6ca6",
   "metadata": {},
   "outputs": [],
   "source": [
    "@contextmanager\n",
    "def callback_ctx(cbmeth, nm):\n",
    "    try:\n",
    "        cbmeth(f'before_{nm}')\n",
    "        yield\n",
    "        cbmeth(f'after_{nm}')\n",
    "    except globals()[f'Cancel{nm.title()}Exception']: pass\n",
    "    finally: cbmeth(f'cleanup_{nm}')"
   ]
  },
  {
   "cell_type": "code",
   "execution_count": 35,
   "id": "24477e6a",
   "metadata": {},
   "outputs": [],
   "source": [
    "#|export\n",
    "class Learner():\n",
    "    def __init__(self, model, dls, loss_func=F.mse_loss, lr=0.1, cbs=None, opt_func=optim.SGD):\n",
    "        cbs = fc.L(cbs)\n",
    "        self.cb_ctx = partial(callback_ctx, self.callback)\n",
    "        fc.store_attr()        \n",
    "                                 \n",
    "    def one_epoch(self, train):\n",
    "        self.model.train(train)\n",
    "        self.dl = self.dls.train if train else self.dls.valid\n",
    "        with self.cb_ctx('epoch'):\n",
    "            for self.iter,self.batch in enumerate(self.dl):\n",
    "                with self.cb_ctx('batch'):\n",
    "                    self.predict()\n",
    "                    self.get_loss()\n",
    "                    if self.training:\n",
    "                        self.backward()\n",
    "                        self.step()\n",
    "                        self.zero_grad()\n",
    "            \n",
    "    \n",
    "    def fit(self, n_epochs=1, train=True, valid=True, cbs=None, lr=None):\n",
    "        \"\"\" train and evaluate model over n_epochs.  To do so:\n",
    "        Create optimizer\n",
    "        Send the model to the correct device\n",
    "        Iterate through each epoch for train and then eval\n",
    "        \"\"\"\n",
    "        cbs = fc.L(cbs)\n",
    "        for cb in cbs: self.cbs.append(cb)\n",
    "        try:\n",
    "            self.n_epochs = n_epochs\n",
    "            self.epochs = range(n_epochs)\n",
    "            self.opt = self.opt_func(self.model.parameters(), self.lr if lr is None else lr)\n",
    "            with self.cb_ctx('fit'):\n",
    "                for self.epoch in self.epochs:\n",
    "                    if train: self.one_epoch(train=True)\n",
    "                    if valid:\n",
    "                        with torch.no_grad():\n",
    "                            self.one_epoch(train=False)\n",
    "        finally:\n",
    "            for cb in cbs: self.cbs.remove(cb)\n",
    "                \n",
    "    def __getattr__(self, name):\n",
    "        \"\"\" by setting this up the functions named below become additional callbacks\n",
    "        \"\"\"\n",
    "        if name in ('predict', 'get_loss', 'backward', 'step', 'zero_grad'):\n",
    "            return partial(self.callback, name)\n",
    "        raise AttributeError(name)\n",
    "    \n",
    "    def callback(self, method_nm):\n",
    "        run_cbs(self.cbs, method_nm, self)\n",
    "        \n",
    "    @property\n",
    "    def training(self): return self.model.training\n",
    "    "
   ]
  },
  {
   "cell_type": "markdown",
   "id": "2ee94253",
   "metadata": {},
   "source": [
    "The above requires the callbacks mentioned to be put in place.  It is also desirable to add a progress callback so that the status of training can be seen"
   ]
  },
  {
   "cell_type": "code",
   "execution_count": 36,
   "id": "a8f4323d",
   "metadata": {},
   "outputs": [],
   "source": [
    "#|export\n",
    "class ProgressCB(Callback):\n",
    "    \"\"\" Need to make sure that this callback is higher in the order than the metrics callback so that results \n",
    "    are updated.\n",
    "    \n",
    "    The progress callbar will both plot a bar of the progress through the epochs and also a sub bar of \n",
    "    progress through the batches of an epoch\n",
    "    \n",
    "    It also outputs a summary of loss and updates the plot after each batch\n",
    "    \n",
    "    \"\"\"\n",
    "    order = MetricsCB.order + 1\n",
    "    \n",
    "    def __init__(self, plot=False): self.plot=plot\n",
    "        \n",
    "    def before_fit(self, learn):\n",
    "        # Replace epochs with the master bar to enable plotting progress\n",
    "        learn.epochs = self.mbar = master_bar(learn.epochs)\n",
    "        # Replace teh learner metrics log with the log from this class\n",
    "        self.first = True\n",
    "        if hasattr(learn, 'metrics'): learn.metrics._log = self._log\n",
    "        self.losses = []\n",
    "        \n",
    "    def _log(self, d):\n",
    "        \"\"\" Write the metrics and loss to the output\n",
    "        \"\"\"\n",
    "        if self.first:\n",
    "            self.mbar.write(list(d), table=True)\n",
    "            self.first=False\n",
    "        self.mbar.write(list(d.values()), table=True)\n",
    "    \n",
    "    def before_epoch(self, learn):\n",
    "        \"\"\" Setup the second progress bar for the batches\n",
    "        \"\"\"\n",
    "        learn.dl = progress_bar(learn.dl, leave=False, parent=self.mbar)\n",
    "    \n",
    "    def after_batch(self, learn):\n",
    "        learn.dl.comment = f\"{learn.loss:.3f}\"\n",
    "        if self.plot and hasattr(learn, 'metrics') and learn.model.training:\n",
    "            self.losses.append(learn.loss.item())\n",
    "            # when a collection or list is passed to fc.L.range it returns a range that is based upon the \n",
    "            # length of the collection\n",
    "            self.mbar.update_graph([[fc.L.range(self.losses), self.losses]])"
   ]
  },
  {
   "cell_type": "code",
   "execution_count": 37,
   "id": "20fb4a58",
   "metadata": {},
   "outputs": [],
   "source": [
    "#|export\n",
    "class TrainCB(Callback):\n",
    "    def predict(self, learn): learn.preds = learn.model(learn.batch[0])\n",
    "    def get_loss(self, learn): learn.loss = learn.loss_func(learn.preds, learn.batch[1])\n",
    "    def backward(self, learn): learn.loss.backward()\n",
    "    def step(self, learn): learn.opt.step()\n",
    "    def zero_grad(self, learn): learn.opt.zero_grad()"
   ]
  },
  {
   "cell_type": "markdown",
   "id": "a57f89fe",
   "metadata": {},
   "source": [
    "Test the learner and callbacks"
   ]
  },
  {
   "cell_type": "code",
   "execution_count": 38,
   "id": "a9cbdbb3",
   "metadata": {},
   "outputs": [],
   "source": [
    "model = get_model()"
   ]
  },
  {
   "cell_type": "code",
   "execution_count": 39,
   "id": "9599ca2f",
   "metadata": {},
   "outputs": [],
   "source": [
    "metrics = MetricsCB(accuracy=MulticlassAccuracy())\n",
    "cbs = [TrainCB(), DeviceCB(), metrics, ProgressCB(plot=True)]"
   ]
  },
  {
   "cell_type": "code",
   "execution_count": 40,
   "id": "3f1cef31",
   "metadata": {},
   "outputs": [
    {
     "data": {
      "text/plain": [
       "(#4) [<__main__.TrainCB object at 0x7fb6ad3089a0>,<__main__.DeviceCB object at 0x7fb6ad308b20>,<__main__.MetricsCB object at 0x7fb6ad3084f0>,<__main__.ProgressCB object at 0x7fb6ad1aef70>]"
      ]
     },
     "execution_count": 40,
     "metadata": {},
     "output_type": "execute_result"
    }
   ],
   "source": [
    "fc.L(cbs)"
   ]
  },
  {
   "cell_type": "code",
   "execution_count": 41,
   "id": "53d4b18b",
   "metadata": {},
   "outputs": [
    {
     "data": {
      "text/html": [
       "\n",
       "<style>\n",
       "    /* Turns off some styling */\n",
       "    progress {\n",
       "        /* gets rid of default border in Firefox and Opera. */\n",
       "        border: none;\n",
       "        /* Needs to be in here for Safari polyfill so background images work as expected. */\n",
       "        background-size: auto;\n",
       "    }\n",
       "    progress:not([value]), progress:not([value])::-webkit-progress-bar {\n",
       "        background: repeating-linear-gradient(45deg, #7e7e7e, #7e7e7e 10px, #5c5c5c 10px, #5c5c5c 20px);\n",
       "    }\n",
       "    .progress-bar-interrupted, .progress-bar-interrupted::-webkit-progress-bar {\n",
       "        background: #F44336;\n",
       "    }\n",
       "</style>\n"
      ],
      "text/plain": [
       "<IPython.core.display.HTML object>"
      ]
     },
     "metadata": {},
     "output_type": "display_data"
    },
    {
     "data": {
      "text/html": [
       "<table border=\"1\" class=\"dataframe\">\n",
       "  <thead>\n",
       "    <tr style=\"text-align: left;\">\n",
       "      <th>accuracy</th>\n",
       "      <th>loss</th>\n",
       "      <th>epoch</th>\n",
       "      <th>train</th>\n",
       "    </tr>\n",
       "  </thead>\n",
       "  <tbody>\n",
       "    <tr>\n",
       "      <td>0.610</td>\n",
       "      <td>1.154</td>\n",
       "      <td>0</td>\n",
       "      <td>True</td>\n",
       "    </tr>\n",
       "    <tr>\n",
       "      <td>0.681</td>\n",
       "      <td>0.839</td>\n",
       "      <td>0</td>\n",
       "      <td>False</td>\n",
       "    </tr>\n",
       "  </tbody>\n",
       "</table>"
      ],
      "text/plain": [
       "<IPython.core.display.HTML object>"
      ]
     },
     "metadata": {},
     "output_type": "display_data"
    },
    {
     "data": {
      "image/png": "[encoded data removed]",
      "text/plain": [
       "<Figure size 600x400 with 1 Axes>"
      ]
     },
     "metadata": {},
     "output_type": "display_data"
    }
   ],
   "source": [
    "learn = Learner(model, dls, F.cross_entropy, lr=0.2, cbs=cbs)\n",
    "learn.fit(1)"
   ]
  },
  {
   "cell_type": "markdown",
   "id": "aa598040",
   "metadata": {},
   "source": [
    "### TrainLearner and MomentumLearner subclass\n",
    "This model demonstrates that rather than resetting the gradients after every optimisation step, it is possible to retain a proportion of them and build the next iteration starting from that point, which is more or less equivalent to a momentum model"
   ]
  },
  {
   "cell_type": "code",
   "execution_count": 42,
   "id": "923a6562",
   "metadata": {},
   "outputs": [],
   "source": [
    "#|export\n",
    "class TrainLearner(Learner):\n",
    "    def predict(self): self.preds = self.model(self.batch[0])\n",
    "    def get_loss(self): self.loss = self.loss_func(self.preds, self.batch[1])\n",
    "    def backward(self): self.loss.backward()\n",
    "    def step(self): self.opt.step()\n",
    "    def zero_grad(self): self.opt.zero_grad()"
   ]
  },
  {
   "cell_type": "code",
   "execution_count": 46,
   "id": "e5b675f7",
   "metadata": {},
   "outputs": [],
   "source": [
    "#|export\n",
    "class MomentumLearner(TrainLearner):\n",
    "    def __init__(self, model, dls, loss_func, lr=None, cbs=None, opt_func=optim.SGD, mom=0.85):\n",
    "        self.mom=mom\n",
    "        super().__init__(model, dls, loss_func, lr, cbs, opt_func)\n",
    "\n",
    "    def zero_grad(self):\n",
    "        with torch.no_grad():\n",
    "            for p in self.model.parameters(): p.grad *= self.mom"
   ]
  },
  {
   "cell_type": "code",
   "execution_count": 47,
   "id": "04497f7e",
   "metadata": {},
   "outputs": [
    {
     "data": {
      "text/html": [
       "\n",
       "<style>\n",
       "    /* Turns off some styling */\n",
       "    progress {\n",
       "        /* gets rid of default border in Firefox and Opera. */\n",
       "        border: none;\n",
       "        /* Needs to be in here for Safari polyfill so background images work as expected. */\n",
       "        background-size: auto;\n",
       "    }\n",
       "    progress:not([value]), progress:not([value])::-webkit-progress-bar {\n",
       "        background: repeating-linear-gradient(45deg, #7e7e7e, #7e7e7e 10px, #5c5c5c 10px, #5c5c5c 20px);\n",
       "    }\n",
       "    .progress-bar-interrupted, .progress-bar-interrupted::-webkit-progress-bar {\n",
       "        background: #F44336;\n",
       "    }\n",
       "</style>\n"
      ],
      "text/plain": [
       "<IPython.core.display.HTML object>"
      ]
     },
     "metadata": {},
     "output_type": "display_data"
    },
    {
     "data": {
      "text/html": [
       "<table border=\"1\" class=\"dataframe\">\n",
       "  <thead>\n",
       "    <tr style=\"text-align: left;\">\n",
       "      <th>accuracy</th>\n",
       "      <th>loss</th>\n",
       "      <th>epoch</th>\n",
       "      <th>train</th>\n",
       "    </tr>\n",
       "  </thead>\n",
       "  <tbody>\n",
       "    <tr>\n",
       "      <td>0.673</td>\n",
       "      <td>0.951</td>\n",
       "      <td>0</td>\n",
       "      <td>True</td>\n",
       "    </tr>\n",
       "    <tr>\n",
       "      <td>0.809</td>\n",
       "      <td>0.534</td>\n",
       "      <td>0</td>\n",
       "      <td>False</td>\n",
       "    </tr>\n",
       "  </tbody>\n",
       "</table>"
      ],
      "text/plain": [
       "<IPython.core.display.HTML object>"
      ]
     },
     "metadata": {},
     "output_type": "display_data"
    },
    {
     "data": {
      "image/png": "[encoded data removed]",
      "text/plain": [
       "<Figure size 600x400 with 1 Axes>"
      ]
     },
     "metadata": {},
     "output_type": "display_data"
    }
   ],
   "source": [
    "# NB: No TrainCB\n",
    "metrics = MetricsCB(accuracy=MulticlassAccuracy())\n",
    "cbs = [DeviceCB(), metrics, ProgressCB(plot=True)]\n",
    "learn = MomentumLearner(get_model(), dls, F.cross_entropy, lr=0.2, cbs=cbs)\n",
    "learn.fit(1)"
   ]
  },
  {
   "cell_type": "markdown",
   "id": "0be010ab",
   "metadata": {},
   "source": [
    "### LRFinderDB"
   ]
  },
  {
   "cell_type": "code",
   "execution_count": 48,
   "id": "966a2629",
   "metadata": {},
   "outputs": [],
   "source": [
    "class LRFinderCB(Callback):\n",
    "    def __init__(self, lr_mult=1.3): fc.store_attr()\n",
    "    \n",
    "    def before_fit(self, learn):\n",
    "        self.losses, self.lrs = [], []\n",
    "        self.min = math.inf\n",
    "        \n",
    "    def after_batch(self, learn):\n",
    "        # add lr and loss to lists\n",
    "        # update plot\n",
    "        # check whether to continue, if so\n",
    "        # update lr, \n",
    "        if not learn.model.training: raise CancelEpochException()\n",
    "        self.lrs.append(learn.opt.param_groups[0]['lr'])\n",
    "        loss = to_cpu(learn.loss)\n",
    "        self.losses.append(loss)\n",
    "        if loss < self.min: self.min=loss\n",
    "        # test of starting to become unstable\n",
    "        if loss > self.min * 3: raise CancelFitException()\n",
    "        # update the learning rates in the param_groups\n",
    "        for group in learn.opt.param_groups:\n",
    "            group['lr'] *= self.lr_mult"
   ]
  },
  {
   "cell_type": "code",
   "execution_count": 49,
   "id": "89939ed1",
   "metadata": {},
   "outputs": [
    {
     "data": {
      "text/html": [
       "\n",
       "<style>\n",
       "    /* Turns off some styling */\n",
       "    progress {\n",
       "        /* gets rid of default border in Firefox and Opera. */\n",
       "        border: none;\n",
       "        /* Needs to be in here for Safari polyfill so background images work as expected. */\n",
       "        background-size: auto;\n",
       "    }\n",
       "    progress:not([value]), progress:not([value])::-webkit-progress-bar {\n",
       "        background: repeating-linear-gradient(45deg, #7e7e7e, #7e7e7e 10px, #5c5c5c 10px, #5c5c5c 20px);\n",
       "    }\n",
       "    .progress-bar-interrupted, .progress-bar-interrupted::-webkit-progress-bar {\n",
       "        background: #F44336;\n",
       "    }\n",
       "</style>\n"
      ],
      "text/plain": [
       "<IPython.core.display.HTML object>"
      ]
     },
     "metadata": {},
     "output_type": "display_data"
    },
    {
     "data": {
      "text/html": [
       "\n",
       "    <div>\n",
       "      <progress value='0' class='' max='1' style='width:300px; height:20px; vertical-align: middle;'></progress>\n",
       "      0.00% [0/1 00:00&lt;?]\n",
       "    </div>\n",
       "    \n",
       "\n",
       "\n",
       "    <div>\n",
       "      <progress value='23' class='' max='59' style='width:300px; height:20px; vertical-align: middle;'></progress>\n",
       "      38.98% [23/59 00:02&lt;00:04 1.572]\n",
       "    </div>\n",
       "    "
      ],
      "text/plain": [
       "<IPython.core.display.HTML object>"
      ]
     },
     "metadata": {},
     "output_type": "display_data"
    }
   ],
   "source": [
    "lrfinder = LRFinderCB()\n",
    "cbs = [DeviceCB(), metrics, ProgressCB(), lrfinder]\n",
    "learn = MomentumLearner(get_model(), dls, F.cross_entropy, lr=1.e-3, cbs=cbs)\n",
    "learn.fit(1)"
   ]
  },
  {
   "cell_type": "code",
   "execution_count": 50,
   "id": "04703000",
   "metadata": {},
   "outputs": [
    {
     "data": {
      "image/png": "[encoded data removed]",
      "text/plain": [
       "<Figure size 640x480 with 1 Axes>"
      ]
     },
     "metadata": {},
     "output_type": "display_data"
    }
   ],
   "source": [
    "plt.plot(lrfinder.lrs, lrfinder.losses)\n",
    "plt.xscale('log')"
   ]
  },
  {
   "cell_type": "markdown",
   "id": "3f5592b6",
   "metadata": {},
   "source": [
    "The above can be improved by using the ExponentialLR scheduler built into Pytorch"
   ]
  },
  {
   "cell_type": "code",
   "execution_count": 51,
   "id": "7a045eb1",
   "metadata": {},
   "outputs": [],
   "source": [
    "#|export\n",
    "from torch.optim.lr_scheduler import ExponentialLR"
   ]
  },
  {
   "cell_type": "code",
   "execution_count": 53,
   "id": "1a238e07",
   "metadata": {},
   "outputs": [],
   "source": [
    "#|export\n",
    "class LRFinderCB(Callback):\n",
    "    def __init__(self, gamma=1.3, max_mult=3): fc.store_attr()\n",
    "    \n",
    "    def before_fit(self, learn):\n",
    "        self.losses, self.lrs = [], []\n",
    "        self.sched = ExponentialLR(learn.opt, gamma=self.gamma)\n",
    "        self.min = math.inf\n",
    "        \n",
    "    def after_batch(self, learn):\n",
    "        # add lr and loss to lists\n",
    "        # update plot\n",
    "        # check whether to continue, if so\n",
    "        # update lr, \n",
    "        if not learn.model.training: raise CancelEpochException()\n",
    "        self.lrs.append(learn.opt.param_groups[0]['lr'])\n",
    "        loss = to_cpu(learn.loss)\n",
    "        self.losses.append(loss)\n",
    "        if loss < self.min: self.min=loss\n",
    "        # test of starting to become unstable\n",
    "        if loss > self.min * self.max_mult: raise CancelFitException()\n",
    "        # update the learning rates in the param_groups\n",
    "        self.sched.step()\n",
    "        \n",
    "    def cleanup_fit(self, learn):\n",
    "        plt.plot(self.lrs, self.losses)\n",
    "        plt.xscale('log')"
   ]
  },
  {
   "cell_type": "code",
   "execution_count": 54,
   "id": "13da0605",
   "metadata": {},
   "outputs": [
    {
     "data": {
      "text/html": [
       "\n",
       "<style>\n",
       "    /* Turns off some styling */\n",
       "    progress {\n",
       "        /* gets rid of default border in Firefox and Opera. */\n",
       "        border: none;\n",
       "        /* Needs to be in here for Safari polyfill so background images work as expected. */\n",
       "        background-size: auto;\n",
       "    }\n",
       "    progress:not([value]), progress:not([value])::-webkit-progress-bar {\n",
       "        background: repeating-linear-gradient(45deg, #7e7e7e, #7e7e7e 10px, #5c5c5c 10px, #5c5c5c 20px);\n",
       "    }\n",
       "    .progress-bar-interrupted, .progress-bar-interrupted::-webkit-progress-bar {\n",
       "        background: #F44336;\n",
       "    }\n",
       "</style>\n"
      ],
      "text/plain": [
       "<IPython.core.display.HTML object>"
      ]
     },
     "metadata": {},
     "output_type": "display_data"
    },
    {
     "data": {
      "text/html": [
       "\n",
       "    <div>\n",
       "      <progress value='0' class='' max='1' style='width:300px; height:20px; vertical-align: middle;'></progress>\n",
       "      0.00% [0/1 00:00&lt;?]\n",
       "    </div>\n",
       "    \n",
       "\n",
       "\n",
       "    <div>\n",
       "      <progress value='33' class='' max='59' style='width:300px; height:20px; vertical-align: middle;'></progress>\n",
       "      55.93% [33/59 00:03&lt;00:03 2.793]\n",
       "    </div>\n",
       "    "
      ],
      "text/plain": [
       "<IPython.core.display.HTML object>"
      ]
     },
     "metadata": {},
     "output_type": "display_data"
    },
    {
     "data": {
      "image/png": "[encoded data removed]",
      "text/plain": [
       "<Figure size 640x480 with 1 Axes>"
      ]
     },
     "metadata": {},
     "output_type": "display_data"
    }
   ],
   "source": [
    "lrfind = LRFinderCB()\n",
    "cbs = [DeviceCB(), ProgressCB(), lrfind]\n",
    "learn = MomentumLearner(get_model(), dls, F.cross_entropy, lr=1e-4, cbs=cbs)\n",
    "learn.fit(1)"
   ]
  },
  {
   "cell_type": "code",
   "execution_count": 56,
   "id": "ec0b42e3",
   "metadata": {},
   "outputs": [],
   "source": [
    "#|export\n",
    "@fc.patch\n",
    "def lr_find(self:Learner, gamma=1.3, max_mult=3, start_lr=1e-5, max_epochs=10):\n",
    "    self.fit(max_epochs, lr=start_lr, cbs=LRFinderCB(gamma=gamma, max_mult=max_mult))"
   ]
  },
  {
   "cell_type": "code",
   "execution_count": 57,
   "id": "ec7c91f4",
   "metadata": {
    "scrolled": true
   },
   "outputs": [
    {
     "data": {
      "text/html": [
       "\n",
       "<style>\n",
       "    /* Turns off some styling */\n",
       "    progress {\n",
       "        /* gets rid of default border in Firefox and Opera. */\n",
       "        border: none;\n",
       "        /* Needs to be in here for Safari polyfill so background images work as expected. */\n",
       "        background-size: auto;\n",
       "    }\n",
       "    progress:not([value]), progress:not([value])::-webkit-progress-bar {\n",
       "        background: repeating-linear-gradient(45deg, #7e7e7e, #7e7e7e 10px, #5c5c5c 10px, #5c5c5c 20px);\n",
       "    }\n",
       "    .progress-bar-interrupted, .progress-bar-interrupted::-webkit-progress-bar {\n",
       "        background: #F44336;\n",
       "    }\n",
       "</style>\n"
      ],
      "text/plain": [
       "<IPython.core.display.HTML object>"
      ]
     },
     "metadata": {},
     "output_type": "display_data"
    },
    {
     "data": {
      "text/html": [
       "\n",
       "    <div>\n",
       "      <progress value='0' class='' max='10' style='width:300px; height:20px; vertical-align: middle;'></progress>\n",
       "      0.00% [0/10 00:00&lt;?]\n",
       "    </div>\n",
       "    \n",
       "\n",
       "\n",
       "    <div>\n",
       "      <progress value='22' class='' max='59' style='width:300px; height:20px; vertical-align: middle;'></progress>\n",
       "      37.29% [22/59 00:02&lt;00:04 1.300]\n",
       "    </div>\n",
       "    "
      ],
      "text/plain": [
       "<IPython.core.display.HTML object>"
      ]
     },
     "metadata": {},
     "output_type": "display_data"
    },
    {
     "data": {
      "image/png": "[encoded data removed]",
      "text/plain": [
       "<Figure size 640x480 with 1 Axes>"
      ]
     },
     "metadata": {},
     "output_type": "display_data"
    }
   ],
   "source": [
    "MomentumLearner(get_model(), dls, F.cross_entropy, cbs=cbs).lr_find(max_mult=3)"
   ]
  },
  {
   "cell_type": "markdown",
   "id": "b3a70942",
   "metadata": {},
   "source": [
    "## Updated versions since the lesson"
   ]
  },
  {
   "cell_type": "markdown",
   "id": "4966afa7",
   "metadata": {},
   "source": [
    "After the lesson we noticed that `contextlib.context_manager` has a surprising \"feature\" which doesn't let us raise an exception before the `yield`. Therefore we've replaced the context manager with this one:"
   ]
  },
  {
   "cell_type": "code",
   "execution_count": 58,
   "id": "6d0e13de",
   "metadata": {},
   "outputs": [],
   "source": [
    "#| export\n",
    "class callback_ctx:\n",
    "    def __init__(self, cbmeth, nm): self.nm,self.cbmeth = nm,cbmeth\n",
    "    def __enter__(self): self.cbmeth(f'before_{self.nm}')\n",
    "    def __exit__ (self, exc_type, exc_val, traceback):\n",
    "        chk_exc = globals()[f'Cancel{self.nm.title()}Exception']\n",
    "        try:\n",
    "            if not exc_type: self.cbmeth(f'after_{self.nm}')\n",
    "            return exc_type==chk_exc\n",
    "        except chk_exc: pass\n",
    "        finally: self.cbmeth(f'cleanup_{self.nm}')"
   ]
  },
  {
   "cell_type": "markdown",
   "id": "671ba11a",
   "metadata": {},
   "source": [
    "## Export "
   ]
  },
  {
   "cell_type": "code",
   "execution_count": 1,
   "id": "53954d03",
   "metadata": {},
   "outputs": [],
   "source": [
    "import nbdev; nbdev.nbdev_export()"
   ]
  },
  {
   "cell_type": "code",
   "execution_count": null,
   "id": "0d6ceb26",
   "metadata": {},
   "outputs": [],
   "source": []
  }
 ],
 "metadata": {
  "kernelspec": {
   "display_name": "Python 3 (ipykernel)",
   "language": "python",
   "name": "python3"
  },
  "language_info": {
   "codemirror_mode": {
    "name": "ipython",
    "version": 3
   },
   "file_extension": ".py",
   "mimetype": "text/x-python",
   "name": "python",
   "nbconvert_exporter": "python",
   "pygments_lexer": "ipython3",
   "version": "3.9.13"
  }
 },
 "nbformat": 4,
 "nbformat_minor": 5
}

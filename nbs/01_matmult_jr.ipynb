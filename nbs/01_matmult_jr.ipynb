{
 "cells": [
  {
   "cell_type": "markdown",
   "id": "141a00d8",
   "metadata": {},
   "source": [
    "### Notebook for the first part of the course, that is to get to the point where the matrix multiplication capability has been generated\n",
    "\n",
    "This is for the course in late 2022"
   ]
  },
  {
   "cell_type": "code",
   "execution_count": 1,
   "id": "680acba5",
   "metadata": {},
   "outputs": [],
   "source": [
    "from pathlib import Path\n",
    "import pickle, gzip, math, os, time, shutil, matplotlib as mpl, matplotlib.pyplot as plt\n",
    "from urllib.request import urlretrieve"
   ]
  },
  {
   "cell_type": "markdown",
   "id": "a0a6aefa",
   "metadata": {},
   "source": [
    "### Get Data "
   ]
  },
  {
   "cell_type": "code",
   "execution_count": 3,
   "id": "75eb507d",
   "metadata": {},
   "outputs": [],
   "source": [
    "MNIST_URL='https://github.com/mnielsen/neural-networks-and-deep-learning/blob/master/data/mnist.pkl.gz?raw=true'\n",
    "path_to_data = Path('/Users/johnrichmond/datasets') / Path('data')\n",
    "path_to_data.mkdir(exist_ok=True)\n",
    "path_gz = path_to_data / 'mnist.pkg.gz'"
   ]
  },
  {
   "cell_type": "markdown",
   "id": "87b64195",
   "metadata": {},
   "source": [
    "https://docs.python.org/3/library/urllib.request.html\n",
    "\n",
    "Will use urllib to load the mnist library"
   ]
  },
  {
   "cell_type": "code",
   "execution_count": 4,
   "id": "b0ab1fb0",
   "metadata": {},
   "outputs": [],
   "source": [
    "if not path_gz.exists():  urlretrieve(MNIST_URL, path_gz)"
   ]
  },
  {
   "cell_type": "code",
   "execution_count": 5,
   "id": "cf3558c4",
   "metadata": {},
   "outputs": [
    {
     "data": {
      "text/plain": [
       "PosixPath('/Users/johnrichmond/datasets/data')"
      ]
     },
     "execution_count": 5,
     "metadata": {},
     "output_type": "execute_result"
    }
   ],
   "source": [
    "path_to_data"
   ]
  },
  {
   "cell_type": "code",
   "execution_count": 5,
   "id": "b414ed49",
   "metadata": {},
   "outputs": [
    {
     "name": "stdout",
     "output_type": "stream",
     "text": [
      "ls: /Unsers/johnrichmond/datasets/data: No such file or directory\r\n"
     ]
    }
   ],
   "source": [
    "!ls /Unsers/johnrichmond/datasets/data"
   ]
  },
  {
   "cell_type": "code",
   "execution_count": 6,
   "id": "88562922",
   "metadata": {},
   "outputs": [],
   "source": [
    "with gzip.open(path_gz) as f:\n",
    "    ((x_train, y_train), (x_valid, y_valid), _) = pickle.load(f, encoding='latin')"
   ]
  },
  {
   "cell_type": "code",
   "execution_count": 7,
   "id": "4f7f7aa6",
   "metadata": {},
   "outputs": [
    {
     "data": {
      "text/plain": [
       "[0.0,\n",
       " 0.0,\n",
       " 0.0,\n",
       " 0.19140625,\n",
       " 0.9296875,\n",
       " 0.98828125,\n",
       " 0.98828125,\n",
       " 0.98828125,\n",
       " 0.98828125,\n",
       " 0.98828125]"
      ]
     },
     "execution_count": 7,
     "metadata": {},
     "output_type": "execute_result"
    }
   ],
   "source": [
    "lst = list(x_train[0])\n",
    "vals = lst[200:210]\n",
    "vals"
   ]
  },
  {
   "cell_type": "markdown",
   "id": "6238673d",
   "metadata": {},
   "source": [
    "Create a function to return chunks of the data using until it is exhausted"
   ]
  },
  {
   "cell_type": "code",
   "execution_count": 8,
   "id": "3ba3693e",
   "metadata": {},
   "outputs": [],
   "source": [
    "def chunks(x, size):\n",
    "    for i in range(0, len(x), size): yield(x[i:i+size])"
   ]
  },
  {
   "cell_type": "code",
   "execution_count": 9,
   "id": "6d6733d0",
   "metadata": {},
   "outputs": [
    {
     "data": {
      "text/plain": [
       "[[0.0, 0.0, 0.0, 0.19140625, 0.9296875],\n",
       " [0.98828125, 0.98828125, 0.98828125, 0.98828125, 0.98828125]]"
      ]
     },
     "execution_count": 9,
     "metadata": {},
     "output_type": "execute_result"
    }
   ],
   "source": [
    "list(chunks(vals,5))"
   ]
  },
  {
   "cell_type": "markdown",
   "id": "5d1d6a89",
   "metadata": {},
   "source": [
    "Now use the list to put data into the form that it can be plotted"
   ]
  },
  {
   "cell_type": "code",
   "execution_count": 10,
   "id": "6ea79671",
   "metadata": {},
   "outputs": [
    {
     "data": {
      "text/plain": [
       "<matplotlib.image.AxesImage at 0x7fec52a51e50>"
      ]
     },
     "execution_count": 10,
     "metadata": {},
     "output_type": "execute_result"
    },
    {
     "data": {
      "image/png": "[encoded data removed]",
      "text/plain": [
       "<Figure size 640x480 with 1 Axes>"
      ]
     },
     "metadata": {},
     "output_type": "display_data"
    }
   ],
   "source": [
    "img = list(chunks(lst, 28))\n",
    "mpl.rcParams['image.cmap'] = 'gray'\n",
    "plt.imshow(img)"
   ]
  },
  {
   "cell_type": "markdown",
   "id": "0b329e23",
   "metadata": {},
   "source": [
    "Introduction to itertools and islice \n",
    "https://docs.python.org/3/library/itertools.html"
   ]
  },
  {
   "cell_type": "code",
   "execution_count": 11,
   "id": "820c1d32",
   "metadata": {},
   "outputs": [],
   "source": [
    "from itertools import islice"
   ]
  },
  {
   "cell_type": "code",
   "execution_count": 15,
   "id": "575b1863",
   "metadata": {},
   "outputs": [],
   "source": [
    "it = iter(vals)"
   ]
  },
  {
   "cell_type": "code",
   "execution_count": 16,
   "id": "9f9270f4",
   "metadata": {},
   "outputs": [
    {
     "data": {
      "text/plain": [
       "[0.0, 0.0, 0.0, 0.19140625, 0.9296875]"
      ]
     },
     "execution_count": 16,
     "metadata": {},
     "output_type": "execute_result"
    }
   ],
   "source": [
    "list(islice(it,5))"
   ]
  },
  {
   "cell_type": "code",
   "execution_count": 17,
   "id": "db3f4b4b",
   "metadata": {},
   "outputs": [
    {
     "data": {
      "text/plain": [
       "[0.98828125, 0.98828125, 0.98828125, 0.98828125, 0.98828125]"
      ]
     },
     "execution_count": 17,
     "metadata": {},
     "output_type": "execute_result"
    }
   ],
   "source": [
    "list(islice(it, 5))"
   ]
  },
  {
   "cell_type": "code",
   "execution_count": 18,
   "id": "68daf8c8",
   "metadata": {},
   "outputs": [],
   "source": [
    "it = iter(lst)\n",
    "img = list(iter(lambda: list(islice(it, 28)), []))"
   ]
  },
  {
   "cell_type": "code",
   "execution_count": 19,
   "id": "544f4ebe",
   "metadata": {},
   "outputs": [
    {
     "data": {
      "text/plain": [
       "<matplotlib.image.AxesImage at 0x7fec50d0bf10>"
      ]
     },
     "execution_count": 19,
     "metadata": {},
     "output_type": "execute_result"
    },
    {
     "data": {
      "image/png": "[encoded data removed]",
      "text/plain": [
       "<Figure size 640x480 with 1 Axes>"
      ]
     },
     "metadata": {},
     "output_type": "display_data"
    }
   ],
   "source": [
    "plt.imshow(img)"
   ]
  },
  {
   "cell_type": "markdown",
   "id": "d85de424",
   "metadata": {},
   "source": [
    "### Tensors and matricies "
   ]
  },
  {
   "cell_type": "code",
   "execution_count": 20,
   "id": "b8a2b056",
   "metadata": {},
   "outputs": [
    {
     "data": {
      "text/plain": [
       "0.6015625"
      ]
     },
     "execution_count": 20,
     "metadata": {},
     "output_type": "execute_result"
    }
   ],
   "source": [
    "img[10][11]"
   ]
  },
  {
   "cell_type": "code",
   "execution_count": 21,
   "id": "3cf55407",
   "metadata": {},
   "outputs": [],
   "source": [
    "class Matrix():\n",
    "    def __init__(self, xs):\n",
    "        self.xs = xs\n",
    "    \n",
    "    def __getitem__(self, idxs):\n",
    "        return self.xs[idxs[0]][idxs[1]]"
   ]
  },
  {
   "cell_type": "code",
   "execution_count": 22,
   "id": "0c3986df",
   "metadata": {},
   "outputs": [],
   "source": [
    "mat = Matrix(img)"
   ]
  },
  {
   "cell_type": "code",
   "execution_count": 23,
   "id": "0b37a9b8",
   "metadata": {},
   "outputs": [
    {
     "data": {
      "text/plain": [
       "0.6015625"
      ]
     },
     "execution_count": 23,
     "metadata": {},
     "output_type": "execute_result"
    }
   ],
   "source": [
    "mat[10,11]"
   ]
  },
  {
   "cell_type": "code",
   "execution_count": 24,
   "id": "77fc4668",
   "metadata": {},
   "outputs": [],
   "source": [
    "import torch\n",
    "from torch import tensor"
   ]
  },
  {
   "cell_type": "code",
   "execution_count": 25,
   "id": "520cfdbf",
   "metadata": {},
   "outputs": [
    {
     "data": {
      "text/plain": [
       "torch.Size([10000])"
      ]
     },
     "execution_count": 25,
     "metadata": {},
     "output_type": "execute_result"
    }
   ],
   "source": [
    "x_train,y_train,x_valid,y_valid = map(tensor, (x_train, y_train, x_valid, y_valid))\n",
    "y_valid.shape"
   ]
  },
  {
   "cell_type": "code",
   "execution_count": 26,
   "id": "7dbd87e9",
   "metadata": {},
   "outputs": [
    {
     "data": {
      "text/plain": [
       "torch.Size([50000, 784])"
      ]
     },
     "execution_count": 26,
     "metadata": {},
     "output_type": "execute_result"
    }
   ],
   "source": [
    "x_train.shape"
   ]
  },
  {
   "cell_type": "code",
   "execution_count": 27,
   "id": "c8723793",
   "metadata": {},
   "outputs": [],
   "source": [
    "x_train = x_train.reshape([-1, 28, 28])"
   ]
  },
  {
   "cell_type": "code",
   "execution_count": 28,
   "id": "2b4e4da3",
   "metadata": {},
   "outputs": [
    {
     "data": {
      "text/plain": [
       "torch.Size([50000, 28, 28])"
      ]
     },
     "execution_count": 28,
     "metadata": {},
     "output_type": "execute_result"
    }
   ],
   "source": [
    "x_train.shape"
   ]
  },
  {
   "cell_type": "markdown",
   "id": "a664daf7",
   "metadata": {},
   "source": [
    "### Random Numbers"
   ]
  },
  {
   "cell_type": "code",
   "execution_count": 29,
   "id": "b450e9f0",
   "metadata": {},
   "outputs": [],
   "source": [
    "rnd_state = None\n",
    "def seed(a):\n",
    "    global rnd_state\n",
    "    a, x = divmod(a, 30268)\n",
    "    a, y = divmod(a, 30306)\n",
    "    a, z = divmod(a, 30322)\n",
    "    rnd_state = int(x)+1, int(y)+1, int(z)+1"
   ]
  },
  {
   "cell_type": "code",
   "execution_count": 30,
   "id": "1fcd0f90",
   "metadata": {},
   "outputs": [
    {
     "data": {
      "text/plain": [
       "(4976, 20238, 499)"
      ]
     },
     "execution_count": 30,
     "metadata": {},
     "output_type": "execute_result"
    }
   ],
   "source": [
    "seed(457428938475)\n",
    "rnd_state"
   ]
  },
  {
   "cell_type": "code",
   "execution_count": 31,
   "id": "b758a82f",
   "metadata": {},
   "outputs": [],
   "source": [
    "def my_rand():\n",
    "    global rnd_state\n",
    "    x, y, z = rnd_state\n",
    "    x = (171 * x) % 30269\n",
    "    y = (172 * y) % 30307\n",
    "    z = (170 * z) % 30323\n",
    "    rnd_state = x,y,z\n",
    "    return (x/30269 + y/30307 + z/30323) % 1.0"
   ]
  },
  {
   "cell_type": "code",
   "execution_count": 32,
   "id": "505440bf",
   "metadata": {},
   "outputs": [
    {
     "data": {
      "text/plain": [
       "(0.7645251082582081, 0.7920889799553945)"
      ]
     },
     "execution_count": 32,
     "metadata": {},
     "output_type": "execute_result"
    }
   ],
   "source": [
    "my_rand(), my_rand()"
   ]
  },
  {
   "cell_type": "code",
   "execution_count": 33,
   "id": "0654242b",
   "metadata": {},
   "outputs": [
    {
     "name": "stdout",
     "output_type": "stream",
     "text": [
      "in parent 0.06912886811267205\n",
      "in child 0.06912886811267205\n"
     ]
    }
   ],
   "source": [
    "# os.fork() returns 0, hence false for the child\n",
    "if os.fork(): print(f'in parent {my_rand()}')\n",
    "else:\n",
    "    print(f'in child {my_rand()}')"
   ]
  },
  {
   "cell_type": "code",
   "execution_count": 34,
   "id": "3969d046",
   "metadata": {},
   "outputs": [
    {
     "name": "stdout",
     "output_type": "stream",
     "text": [
      "in parent tensor([0.8320])\n",
      "in child tensor([0.8320])\n"
     ]
    }
   ],
   "source": [
    "if os.fork(): print(f'in parent {torch.rand(1)}')\n",
    "else:\n",
    "    print(f'in child {torch.rand(1)}')"
   ]
  },
  {
   "cell_type": "code",
   "execution_count": 35,
   "id": "0c0ed5f5",
   "metadata": {},
   "outputs": [
    {
     "data": {
      "text/plain": [
       "[<matplotlib.lines.Line2D at 0x7fec4cf0c100>]"
      ]
     },
     "execution_count": 35,
     "metadata": {},
     "output_type": "execute_result"
    },
    {
     "data": {
      "image/png": "[encoded data removed]",
      "text/plain": [
       "<Figure size 640x480 with 1 Axes>"
      ]
     },
     "metadata": {},
     "output_type": "display_data"
    }
   ],
   "source": [
    "plt.plot([my_rand() for _ in range(50)])"
   ]
  },
  {
   "cell_type": "code",
   "execution_count": 36,
   "id": "47708eb6",
   "metadata": {},
   "outputs": [
    {
     "data": {
      "text/plain": [
       "(array([ 959.,  972., 1036., 1019., 1037.,  971.,  997., 1000., 1036.,\n",
       "         973.]),\n",
       " array([6.60514437e-06, 1.00005135e-01, 2.00003666e-01, 3.00002196e-01,\n",
       "        4.00000726e-01, 4.99999256e-01, 5.99997787e-01, 6.99996317e-01,\n",
       "        7.99994847e-01, 8.99993378e-01, 9.99991908e-01]),\n",
       " <BarContainer object of 10 artists>)"
      ]
     },
     "execution_count": 36,
     "metadata": {},
     "output_type": "execute_result"
    },
    {
     "data": {
      "image/png": "[encoded data removed]",
      "text/plain": [
       "<Figure size 640x480 with 1 Axes>"
      ]
     },
     "metadata": {},
     "output_type": "display_data"
    }
   ],
   "source": [
    "plt.hist([my_rand() for _ in range(10000)])"
   ]
  },
  {
   "cell_type": "code",
   "execution_count": 37,
   "id": "fbbde473",
   "metadata": {},
   "outputs": [
    {
     "name": "stdout",
     "output_type": "stream",
     "text": [
      "The slowest run took 18.41 times longer than the fastest. This could mean that an intermediate result is being cached.\n",
      "202 µs ± 310 µs per loop (mean ± std. dev. of 7 runs, 10 loops each)\n"
     ]
    }
   ],
   "source": [
    "%timeit -n 10 torch.randn(784,10)"
   ]
  },
  {
   "cell_type": "code",
   "execution_count": 38,
   "id": "dd7ca438",
   "metadata": {},
   "outputs": [
    {
     "name": "stdout",
     "output_type": "stream",
     "text": [
      "5.88 ms ± 358 µs per loop (mean ± std. dev. of 7 runs, 10 loops each)\n"
     ]
    }
   ],
   "source": [
    "%timeit -n 10 chunks([my_rand() for _ in range(7840)], 10)"
   ]
  },
  {
   "cell_type": "markdown",
   "id": "5033a32a",
   "metadata": {},
   "source": [
    "clearly pytorch is very optimised"
   ]
  },
  {
   "cell_type": "markdown",
   "id": "eec741ce",
   "metadata": {},
   "source": [
    "### Matrix Multiiplication "
   ]
  },
  {
   "cell_type": "code",
   "execution_count": 39,
   "id": "ddfbe616",
   "metadata": {},
   "outputs": [],
   "source": [
    "weights = torch.randn(784,10)\n",
    "bias = torch.zeros(10)"
   ]
  },
  {
   "cell_type": "code",
   "execution_count": 40,
   "id": "ec393a28",
   "metadata": {},
   "outputs": [],
   "source": [
    "m1 = x_valid[:5]\n",
    "m2 = weights"
   ]
  },
  {
   "cell_type": "code",
   "execution_count": 41,
   "id": "0d5c08b0",
   "metadata": {},
   "outputs": [
    {
     "data": {
      "text/plain": [
       "(torch.Size([5, 784]), torch.Size([784, 10]))"
      ]
     },
     "execution_count": 41,
     "metadata": {},
     "output_type": "execute_result"
    }
   ],
   "source": [
    "m1.shape,m2.shape"
   ]
  },
  {
   "cell_type": "code",
   "execution_count": 42,
   "id": "a9528f0b",
   "metadata": {},
   "outputs": [],
   "source": [
    "def my_matmul(m1,  m2):\n",
    "    ld = m1.shape[-1]\n",
    "    nrow = m1.shape[0]\n",
    "    ncol = m2.shape[-1]\n",
    "    res = torch.zeros(nrow, ncol)\n",
    "    for row in range(nrow):\n",
    "        for col in range(ncol):\n",
    "            for elem in range(ld):\n",
    "                res[row, col] += m1[row, elem] * m2[elem, col]\n",
    "    return res"
   ]
  },
  {
   "cell_type": "code",
   "execution_count": 43,
   "id": "a16cf296",
   "metadata": {},
   "outputs": [
    {
     "data": {
      "text/plain": [
       "tensor([[ -9.8059,   6.2303,   1.4751,  -5.2005,   0.4335,   0.7038,   7.6098],\n",
       "        [-13.5486,  16.3671,   1.8007,  -3.9269,  -5.1790, -13.6882,  -4.0373],\n",
       "        [ -4.8082,   4.8965,   1.0627,  -4.4259,   6.7147,   0.7432,   7.1297]])"
      ]
     },
     "execution_count": 43,
     "metadata": {},
     "output_type": "execute_result"
    }
   ],
   "source": [
    "res = my_matmul(m1, m2)\n",
    "res[2:12, 3:15]"
   ]
  },
  {
   "cell_type": "code",
   "execution_count": 44,
   "id": "58409209",
   "metadata": {},
   "outputs": [],
   "source": [
    "test_torch = torch.matmul(m1, m2)"
   ]
  },
  {
   "cell_type": "code",
   "execution_count": 45,
   "id": "c8515434",
   "metadata": {},
   "outputs": [
    {
     "data": {
      "text/plain": [
       "tensor([[ -9.8059,   6.2303,   1.4751,  -5.2005,   0.4335,   0.7038,   7.6098],\n",
       "        [-13.5486,  16.3671,   1.8007,  -3.9269,  -5.1790, -13.6882,  -4.0373],\n",
       "        [ -4.8082,   4.8965,   1.0627,  -4.4259,   6.7147,   0.7432,   7.1297]])"
      ]
     },
     "execution_count": 45,
     "metadata": {},
     "output_type": "execute_result"
    }
   ],
   "source": [
    "test_torch[2:12, 3:15]"
   ]
  },
  {
   "cell_type": "code",
   "execution_count": 46,
   "id": "e79c550d",
   "metadata": {},
   "outputs": [
    {
     "name": "stdout",
     "output_type": "stream",
     "text": [
      "CPU times: user 754 ms, sys: 8.15 ms, total: 762 ms\n",
      "Wall time: 767 ms\n"
     ]
    }
   ],
   "source": [
    "%time _=my_matmul(m1, m2)"
   ]
  },
  {
   "cell_type": "markdown",
   "id": "6fc482e5",
   "metadata": {},
   "source": [
    "### Numba "
   ]
  },
  {
   "cell_type": "code",
   "execution_count": 47,
   "id": "fbda77ac",
   "metadata": {},
   "outputs": [],
   "source": [
    "from numba import njit"
   ]
  },
  {
   "cell_type": "code",
   "execution_count": 48,
   "id": "81983c78",
   "metadata": {},
   "outputs": [],
   "source": [
    "@njit\n",
    "def dot(a,b):\n",
    "    res = 0.\n",
    "    for i in range(len(a)): res+=a[i]*b[i]\n",
    "    return res"
   ]
  },
  {
   "cell_type": "code",
   "execution_count": 49,
   "id": "1982c701",
   "metadata": {},
   "outputs": [],
   "source": [
    "def my_numba_matmul(m1,  m2):\n",
    "    ld = m1.shape[-1]\n",
    "    nrow = m1.shape[0]\n",
    "    ncol = m2.shape[-1]\n",
    "    res = torch.zeros(nrow, ncol)\n",
    "    for row in range(nrow):\n",
    "        for col in range(ncol):\n",
    "            res[row, col] = dot(m1[row, :], m2[:, col])\n",
    "    return res"
   ]
  },
  {
   "cell_type": "code",
   "execution_count": 50,
   "id": "47235759",
   "metadata": {},
   "outputs": [],
   "source": [
    "m1a,m2a = m1.numpy(),m2.numpy()"
   ]
  },
  {
   "cell_type": "code",
   "execution_count": 51,
   "id": "336a3bc4",
   "metadata": {},
   "outputs": [
    {
     "name": "stdout",
     "output_type": "stream",
     "text": [
      "CPU times: user 618 ms, sys: 186 ms, total: 803 ms\n",
      "Wall time: 815 ms\n"
     ]
    }
   ],
   "source": [
    "%time _=my_numba_matmul(m1a, m2a)"
   ]
  },
  {
   "cell_type": "code",
   "execution_count": 52,
   "id": "b91e7595",
   "metadata": {},
   "outputs": [],
   "source": [
    "from fastcore.test import *"
   ]
  },
  {
   "cell_type": "code",
   "execution_count": 53,
   "id": "a2bb70f3",
   "metadata": {},
   "outputs": [],
   "source": [
    "test_close(my_numba_matmul(m1a, m2a), res.numpy())"
   ]
  },
  {
   "cell_type": "markdown",
   "id": "fbad51a6",
   "metadata": {},
   "source": [
    "### Elementwise Ops"
   ]
  },
  {
   "cell_type": "code",
   "execution_count": 54,
   "id": "97254ee5",
   "metadata": {},
   "outputs": [
    {
     "data": {
      "text/plain": [
       "(tensor([10.,  6., -4.]), tensor([2., 8., 7.]))"
      ]
     },
     "execution_count": 54,
     "metadata": {},
     "output_type": "execute_result"
    }
   ],
   "source": [
    "a = tensor([10., 6, -4])\n",
    "b = tensor([2., 8, 7])\n",
    "a,b"
   ]
  },
  {
   "cell_type": "code",
   "execution_count": 55,
   "id": "628653c7",
   "metadata": {},
   "outputs": [],
   "source": [
    "m = torch.arange(1, 10).float().reshape(-1,3)"
   ]
  },
  {
   "cell_type": "markdown",
   "id": "23bbf637",
   "metadata": {},
   "source": [
    "Frobenius norm:\n",
    "\n",
    "$$\\| A \\|_F = \\left( \\sum_{i,j=1}^n | a_{ij} |^2 \\right)^{1/2}$$\n",
    "\n",
    "*Hint*: you don't normally need to write equations in LaTeX yourself, instead, you can click 'edit' in Wikipedia and copy the LaTeX from there (which is what I did for the above equation). Or on arxiv.org, click \"Download: Other formats\" in the top right, then \"Download source\"; rename the downloaded file to end in `.tgz` if it doesn't already, and you should find the source there, including the equations to copy and paste. This is the source LaTeX that I pasted to render the equation above:\n",
    "\n",
    "```latex\n",
    "$$\\| A \\|_F = \\left( \\sum_{i,j=1}^n | a_{ij} |^2 \\right)^{1/2}$$\n",
    "```"
   ]
  },
  {
   "cell_type": "code",
   "execution_count": 56,
   "id": "a2f8ddd0",
   "metadata": {},
   "outputs": [
    {
     "data": {
      "text/plain": [
       "tensor(16.8819)"
      ]
     },
     "execution_count": 56,
     "metadata": {},
     "output_type": "execute_result"
    }
   ],
   "source": [
    "es = (m*m).sum().sqrt()\n",
    "es"
   ]
  },
  {
   "cell_type": "markdown",
   "id": "2f96661d",
   "metadata": {},
   "source": [
    "### Broadcasting"
   ]
  },
  {
   "cell_type": "markdown",
   "id": "39cae4a5",
   "metadata": {},
   "source": [
    "The term **broadcasting** describes how arrays with different shapes are treated during arithmetic operations.  The term broadcasting was first used by Numpy.\n",
    "\n",
    "From the [Numpy Documentation](https://docs.scipy.org/doc/numpy-1.10.0/user/basics.broadcasting.html):\n",
    "\n",
    "    The term broadcasting describes how numpy treats arrays with \n",
    "    different shapes during arithmetic operations. Subject to certain \n",
    "    constraints, the smaller array is “broadcast” across the larger \n",
    "    array so that they have compatible shapes. Broadcasting provides a \n",
    "    means of vectorizing array operations so that looping occurs in C\n",
    "    instead of Python. It does this without making needless copies of \n",
    "    data and usually leads to efficient algorithm implementations.\n",
    "    \n",
    "In addition to the efficiency of broadcasting, it allows developers to write less code, which typically leads to fewer errors.\n",
    "\n",
    "*This section was adapted from [Chapter 4](http://nbviewer.jupyter.org/github/fastai/numerical-linear-algebra/blob/master/nbs/4.%20Compressed%20Sensing%20of%20CT%20Scans%20with%20Robust%20Regression.ipynb#4.-Compressed-Sensing-of-CT-Scans-with-Robust-Regression) of the fast.ai [Computational Linear Algebra](https://github.com/fastai/numerical-linear-algebra) course.*"
   ]
  },
  {
   "cell_type": "markdown",
   "id": "8faeda22",
   "metadata": {},
   "source": [
    "#### Broadcast vector to matrix"
   ]
  },
  {
   "cell_type": "code",
   "execution_count": 57,
   "id": "adeafb15",
   "metadata": {},
   "outputs": [],
   "source": [
    "c = tensor([10.,20,30])"
   ]
  },
  {
   "cell_type": "code",
   "execution_count": 58,
   "id": "c7d36e37",
   "metadata": {},
   "outputs": [
    {
     "data": {
      "text/plain": [
       "(torch.Size([3]), torch.Size([3, 3]))"
      ]
     },
     "execution_count": 58,
     "metadata": {},
     "output_type": "execute_result"
    }
   ],
   "source": [
    "c.shape, m.shape"
   ]
  },
  {
   "cell_type": "code",
   "execution_count": 59,
   "id": "49b7893f",
   "metadata": {},
   "outputs": [
    {
     "data": {
      "text/plain": [
       "tensor([[11., 22., 33.],\n",
       "        [14., 25., 36.],\n",
       "        [17., 28., 39.]])"
      ]
     },
     "execution_count": 59,
     "metadata": {},
     "output_type": "execute_result"
    }
   ],
   "source": [
    "c+m"
   ]
  },
  {
   "cell_type": "markdown",
   "id": "a64a4301",
   "metadata": {},
   "source": [
    "In this case c has an additinal dimension added and the row is duplicated across each new row.  This effect can be see using the expand_as method"
   ]
  },
  {
   "cell_type": "code",
   "execution_count": 60,
   "id": "096dc5a6",
   "metadata": {},
   "outputs": [
    {
     "data": {
      "text/plain": [
       "tensor([[10., 20., 30.],\n",
       "        [10., 20., 30.],\n",
       "        [10., 20., 30.]])"
      ]
     },
     "execution_count": 60,
     "metadata": {},
     "output_type": "execute_result"
    }
   ],
   "source": [
    "t = c.expand_as(m); t"
   ]
  },
  {
   "cell_type": "code",
   "execution_count": 61,
   "id": "77b53f64",
   "metadata": {},
   "outputs": [
    {
     "data": {
      "text/plain": [
       " 10.0\n",
       " 20.0\n",
       " 30.0\n",
       "[torch.storage._TypedStorage(dtype=torch.float32, device=cpu) of size 3]"
      ]
     },
     "execution_count": 61,
     "metadata": {},
     "output_type": "execute_result"
    }
   ],
   "source": [
    "t.storage()"
   ]
  },
  {
   "cell_type": "markdown",
   "id": "a2b173d3",
   "metadata": {},
   "source": [
    "So although it shows as a 3x3 matrix it is stored as a vector.  This makes use of the same stride concept as is used in convolutions, it t has a stride of 1"
   ]
  },
  {
   "cell_type": "code",
   "execution_count": 62,
   "id": "107886e2",
   "metadata": {},
   "outputs": [
    {
     "data": {
      "text/plain": [
       "((0, 1), torch.Size([3, 3]))"
      ]
     },
     "execution_count": 62,
     "metadata": {},
     "output_type": "execute_result"
    }
   ],
   "source": [
    "t.stride(), t.shape"
   ]
  },
  {
   "cell_type": "markdown",
   "id": "dc889f31",
   "metadata": {},
   "source": [
    "There are several ways to expand dimensions in torch.  The most common are unsqueeze or to use none to create a new dimension as follows:"
   ]
  },
  {
   "cell_type": "code",
   "execution_count": 63,
   "id": "ebd7d377",
   "metadata": {},
   "outputs": [
    {
     "data": {
      "text/plain": [
       "(tensor([[10., 20., 30.]]), tensor([[10., 20., 30.]]))"
      ]
     },
     "execution_count": 63,
     "metadata": {},
     "output_type": "execute_result"
    }
   ],
   "source": [
    "c.unsqueeze(0), c[None, :]"
   ]
  },
  {
   "cell_type": "raw",
   "id": "35412c71",
   "metadata": {},
   "source": [
    "Or going the other way"
   ]
  },
  {
   "cell_type": "code",
   "execution_count": 64,
   "id": "7220ab36",
   "metadata": {},
   "outputs": [
    {
     "data": {
      "text/plain": [
       "(tensor([[10.],\n",
       "         [20.],\n",
       "         [30.]]),\n",
       " tensor([[10.],\n",
       "         [20.],\n",
       "         [30.]]),\n",
       " tensor([[10.],\n",
       "         [20.],\n",
       "         [30.]]))"
      ]
     },
     "execution_count": 64,
     "metadata": {},
     "output_type": "execute_result"
    }
   ],
   "source": [
    "c.unsqueeze(1), c[:, None], c[...,None]"
   ]
  },
  {
   "cell_type": "markdown",
   "id": "eeae7771",
   "metadata": {},
   "source": [
    "You can always skip trailling ':'s. And '...' means '*all preceding dimensions*'"
   ]
  },
  {
   "cell_type": "code",
   "execution_count": 65,
   "id": "4d43cdf7",
   "metadata": {},
   "outputs": [
    {
     "data": {
      "text/plain": [
       "(tensor([[10., 20., 30.]]), torch.Size([1, 3]))"
      ]
     },
     "execution_count": 65,
     "metadata": {},
     "output_type": "execute_result"
    }
   ],
   "source": [
    "c[None], c[None].shape"
   ]
  },
  {
   "cell_type": "markdown",
   "id": "1a16e58f",
   "metadata": {},
   "source": [
    "### Broadcasting Rules"
   ]
  },
  {
   "cell_type": "markdown",
   "id": "14e92f1b",
   "metadata": {},
   "source": [
    "When operating on two arrays/tensors, Numpy/PyTorch compares their shapes element-wise. It starts with the **trailing dimensions**, and works its way forward. Two dimensions are **compatible** when\n",
    "\n",
    "- they are equal, or\n",
    "- one of them is 1, in which case that dimension is broadcasted to make it the same size\n",
    "\n",
    "Arrays do not need to have the same number of dimensions. For example, if you have a `256*256*3` array of RGB values, and you want to scale each color in the image by a different value, you can multiply the image by a one-dimensional array with 3 values. Lining up the sizes of the trailing axes of these arrays according to the broadcast rules, shows that they are compatible:\n",
    "\n",
    "    Image  (3d array): 256 x 256 x 3\n",
    "    Scale  (1d array):             3\n",
    "    Result (3d array): 256 x 256 x 3\n",
    "\n",
    "The [numpy documentation](https://docs.scipy.org/doc/numpy-1.13.0/user/basics.broadcasting.html#general-broadcasting-rules) includes several examples of what dimensions can and can not be broadcast together."
   ]
  },
  {
   "cell_type": "code",
   "execution_count": 66,
   "id": "1ce67535",
   "metadata": {},
   "outputs": [
    {
     "data": {
      "text/plain": [
       "tensor([100., 400., 900.])"
      ]
     },
     "execution_count": 66,
     "metadata": {},
     "output_type": "execute_result"
    }
   ],
   "source": [
    "c*c"
   ]
  },
  {
   "cell_type": "code",
   "execution_count": 67,
   "id": "47ae885b",
   "metadata": {},
   "outputs": [
    {
     "data": {
      "text/plain": [
       "(torch.Size([3]), torch.Size([1, 3]))"
      ]
     },
     "execution_count": 67,
     "metadata": {},
     "output_type": "execute_result"
    }
   ],
   "source": [
    "c.shape, c[None].shape"
   ]
  },
  {
   "cell_type": "code",
   "execution_count": 68,
   "id": "b0d36908",
   "metadata": {},
   "outputs": [
    {
     "data": {
      "text/plain": [
       "(tensor([[100., 400., 900.]]), torch.Size([1, 3]))"
      ]
     },
     "execution_count": 68,
     "metadata": {},
     "output_type": "execute_result"
    }
   ],
   "source": [
    "c*c[None], (c*c[None]).shape"
   ]
  },
  {
   "cell_type": "markdown",
   "id": "f6e1e0a7",
   "metadata": {},
   "source": [
    "In this case the first dims are the same and the scond dim only exists in one, where it is one, hence the first c has a dim added and made equal to one prior to multiplication"
   ]
  },
  {
   "cell_type": "code",
   "execution_count": 69,
   "id": "fe545ee5",
   "metadata": {},
   "outputs": [
    {
     "data": {
      "text/plain": [
       "(torch.Size([1, 3]), torch.Size([3, 1]))"
      ]
     },
     "execution_count": 69,
     "metadata": {},
     "output_type": "execute_result"
    }
   ],
   "source": [
    "c[None,:].shape,  c[:,None].shape"
   ]
  },
  {
   "cell_type": "code",
   "execution_count": 70,
   "id": "30dac369",
   "metadata": {},
   "outputs": [
    {
     "data": {
      "text/plain": [
       "(tensor([[10., 20., 30.],\n",
       "         [10., 20., 30.],\n",
       "         [10., 20., 30.]]),\n",
       " tensor([[10., 10., 10.],\n",
       "         [20., 20., 20.],\n",
       "         [30., 30., 30.]]))"
      ]
     },
     "execution_count": 70,
     "metadata": {},
     "output_type": "execute_result"
    }
   ],
   "source": [
    "c[None,:].expand_as(m),  c[:,None].expand_as(m)"
   ]
  },
  {
   "cell_type": "markdown",
   "id": "1dfaafae",
   "metadata": {},
   "source": [
    "In this case both arrays are expanded in the dim having a unit entry to give the above.  Note that we have expanded in different dimensions\n"
   ]
  },
  {
   "cell_type": "code",
   "execution_count": 71,
   "id": "9f0a9677",
   "metadata": {},
   "outputs": [
    {
     "data": {
      "text/plain": [
       "tensor([[100., 200., 300.],\n",
       "        [200., 400., 600.],\n",
       "        [300., 600., 900.]])"
      ]
     },
     "execution_count": 71,
     "metadata": {},
     "output_type": "execute_result"
    }
   ],
   "source": [
    "c[None,:] * c[:,None]"
   ]
  },
  {
   "cell_type": "markdown",
   "id": "3b20ab7e",
   "metadata": {},
   "source": [
    "###  Matmul with broadcasting"
   ]
  },
  {
   "cell_type": "code",
   "execution_count": 72,
   "id": "39d75fee",
   "metadata": {},
   "outputs": [
    {
     "data": {
      "text/plain": [
       "(torch.Size([784]), torch.Size([784, 10]))"
      ]
     },
     "execution_count": 72,
     "metadata": {},
     "output_type": "execute_result"
    }
   ],
   "source": [
    "digit = m1[0]\n",
    "digit.shape,m2.shape"
   ]
  },
  {
   "cell_type": "markdown",
   "id": "2fd8cf8e",
   "metadata": {},
   "source": [
    "Multiple pixel values for an image and the weights (m2).  at present then can't be multiplied since the first dimensions don't match and neither is 1"
   ]
  },
  {
   "cell_type": "code",
   "execution_count": 73,
   "id": "d214f860",
   "metadata": {},
   "outputs": [],
   "source": [
    "def matmul(a, b):\n",
    "    (ar, ac), (br, bc) = a.shape, b.shape\n",
    "    c = torch.zeros([ar, bc])\n",
    "    for row in range(ar):\n",
    "        # note that in the line below adding the None on the right of a means that the rows become columns \n",
    "        # and the columns can then be broadcast across the columns of b giving a matrix that is shape ac, bc\n",
    "        # which can then be summed on the 0 dim to provide the values for the ith row of c\n",
    "        c[row] = (a[row, :, None] * b).sum(0)\n",
    "    return c"
   ]
  },
  {
   "cell_type": "code",
   "execution_count": 74,
   "id": "6e684385",
   "metadata": {},
   "outputs": [],
   "source": [
    "test_close(res,matmul(m1, m2))"
   ]
  },
  {
   "cell_type": "code",
   "execution_count": 75,
   "id": "43fb289b",
   "metadata": {},
   "outputs": [
    {
     "name": "stdout",
     "output_type": "stream",
     "text": [
      "343 µs ± 187 µs per loop (mean ± std. dev. of 7 runs, 10 loops each)\n"
     ]
    }
   ],
   "source": [
    "%timeit -n 10 _=matmul(m1, m2)"
   ]
  },
  {
   "cell_type": "code",
   "execution_count": 76,
   "id": "6229f4bf",
   "metadata": {},
   "outputs": [],
   "source": [
    "x_train = x_train.reshape(50000, -1)"
   ]
  },
  {
   "cell_type": "code",
   "execution_count": 77,
   "id": "a4943690",
   "metadata": {},
   "outputs": [],
   "source": [
    "# Apply to the whole matrix\n",
    "tr = matmul(x_train, weights)"
   ]
  },
  {
   "cell_type": "code",
   "execution_count": 78,
   "id": "0215eeda",
   "metadata": {},
   "outputs": [
    {
     "name": "stdout",
     "output_type": "stream",
     "text": [
      "CPU times: user 1.35 s, sys: 13.1 ms, total: 1.36 s\n",
      "Wall time: 1.37 s\n"
     ]
    }
   ],
   "source": [
    "%time _=matmul(x_train, weights)"
   ]
  },
  {
   "cell_type": "markdown",
   "id": "ca8ea6eb",
   "metadata": {},
   "source": [
    "### Einstein summation"
   ]
  },
  {
   "cell_type": "markdown",
   "id": "dae30547",
   "metadata": {},
   "source": [
    "[Einstein summation](https://ajcr.net/Basic-guide-to-einsum/) ([`einsum`](https://numpy.org/doc/stable/reference/generated/numpy.einsum.html)) is a compact representation for combining products and sums in a general way. The key rules are:\n",
    "\n",
    "- Repeating letters between input arrays means that values along those axes will be multiplied together.\n",
    "- Omitting a letter from the output means that values along that axis will be summed."
   ]
  },
  {
   "cell_type": "code",
   "execution_count": 79,
   "id": "ec06de9f",
   "metadata": {},
   "outputs": [],
   "source": [
    "def matmul(a,b):\n",
    "    return torch.einsum('ij,jk->ik', a, b)"
   ]
  },
  {
   "cell_type": "code",
   "execution_count": 80,
   "id": "25a1c835",
   "metadata": {},
   "outputs": [
    {
     "data": {
      "text/plain": [
       "(torch.Size([5, 784]), torch.Size([784, 10]))"
      ]
     },
     "execution_count": 80,
     "metadata": {},
     "output_type": "execute_result"
    }
   ],
   "source": [
    "m1.shape, m2.shape"
   ]
  },
  {
   "cell_type": "code",
   "execution_count": 81,
   "id": "f29cf465",
   "metadata": {},
   "outputs": [
    {
     "data": {
      "text/plain": [
       "tensor([[[ 0.2511, -5.5621,  0.0876, -3.1953],\n",
       "         [ 0.9445, -2.2308,  0.9471, -1.6744]],\n",
       "\n",
       "        [[ 0.2117, -0.3673,  0.3529, -0.6663],\n",
       "         [ 0.3634, -0.0850, -1.1573,  2.2852]],\n",
       "\n",
       "        [[ 0.5646,  0.7506,  0.3744, -0.8820],\n",
       "         [-2.0568, -2.2881, -3.2916, -0.9757]]])"
      ]
     },
     "execution_count": 81,
     "metadata": {},
     "output_type": "execute_result"
    }
   ],
   "source": [
    "As = torch.randn(3,2,5)\n",
    "Bs = torch.randn(3,5,4)\n",
    "torch.einsum('bij,bjk->bik', As, Bs)"
   ]
  },
  {
   "cell_type": "code",
   "execution_count": 82,
   "id": "fbb001d3",
   "metadata": {},
   "outputs": [
    {
     "data": {
      "text/plain": [
       "tensor([[ 0.6352, -5.0310, -2.4586, -2.8751],\n",
       "        [ 1.9462, -6.0367, -2.7016, -1.8206]])"
      ]
     },
     "execution_count": 82,
     "metadata": {},
     "output_type": "execute_result"
    }
   ],
   "source": [
    "As = torch.randn(2,5)\n",
    "Bs = torch.randn(5,4)\n",
    "torch.einsum('ij,jk->ik', As, Bs)"
   ]
  },
  {
   "cell_type": "code",
   "execution_count": 83,
   "id": "fd4caea7",
   "metadata": {},
   "outputs": [],
   "source": [
    "test_close(res,matmul(m1, m2), eps=1.e-3)"
   ]
  },
  {
   "cell_type": "code",
   "execution_count": 87,
   "id": "16e20d5f",
   "metadata": {},
   "outputs": [
    {
     "name": "stdout",
     "output_type": "stream",
     "text": [
      "The slowest run took 6.02 times longer than the fastest. This could mean that an intermediate result is being cached.\n",
      "74.9 µs ± 51.5 µs per loop (mean ± std. dev. of 7 runs, 5 loops each)\n"
     ]
    }
   ],
   "source": [
    "%timeit -n 5 _=matmul(m1, m2)"
   ]
  },
  {
   "cell_type": "markdown",
   "id": "194536e2",
   "metadata": {},
   "source": [
    "### Pytorch Op"
   ]
  },
  {
   "cell_type": "code",
   "execution_count": 84,
   "id": "77f654ca",
   "metadata": {},
   "outputs": [],
   "source": [
    "test_close(tr, x_train@weights, eps=1e-3)"
   ]
  },
  {
   "cell_type": "code",
   "execution_count": 88,
   "id": "034e810e",
   "metadata": {},
   "outputs": [
    {
     "name": "stdout",
     "output_type": "stream",
     "text": [
      "28.5 ms ± 2.4 ms per loop (mean ± std. dev. of 7 runs, 5 loops each)\n"
     ]
    }
   ],
   "source": [
    "%timeit -n 5 _=x_train@weights"
   ]
  },
  {
   "cell_type": "markdown",
   "id": "346ea7f2",
   "metadata": {},
   "source": [
    "### Cuda"
   ]
  },
  {
   "cell_type": "code",
   "execution_count": 102,
   "id": "f03fd030",
   "metadata": {},
   "outputs": [],
   "source": [
    "a = torch.rand(5,8)\n",
    "b = torch.rand(8,10)"
   ]
  },
  {
   "cell_type": "code",
   "execution_count": 103,
   "id": "17e43d76",
   "metadata": {},
   "outputs": [],
   "source": [
    "# Define a function that will perform multiplication for specified row column pairs\n",
    "def matmul(grid, a,b,c):\n",
    "    i,j = grid\n",
    "    if i < c.shape[0] and j < c.shape[1]:\n",
    "        tmp = 0.\n",
    "        for k in range(a.shape[1]): tmp += a[i, k] * b[k, j]\n",
    "        c[i,j] = tmp"
   ]
  },
  {
   "cell_type": "code",
   "execution_count": 104,
   "id": "e8ccf0f6",
   "metadata": {},
   "outputs": [
    {
     "data": {
      "text/plain": [
       "tensor([[3.0853, 0.0000, 0.0000, 0.0000, 0.0000, 0.0000, 0.0000, 0.0000, 0.0000,\n",
       "         0.0000],\n",
       "        [0.0000, 0.0000, 0.0000, 0.0000, 0.0000, 0.0000, 0.0000, 0.0000, 0.0000,\n",
       "         0.0000],\n",
       "        [0.0000, 0.0000, 0.0000, 0.0000, 0.0000, 0.0000, 0.0000, 0.0000, 0.0000,\n",
       "         0.0000],\n",
       "        [0.0000, 0.0000, 0.0000, 0.0000, 0.0000, 0.0000, 0.0000, 0.0000, 0.0000,\n",
       "         0.0000],\n",
       "        [0.0000, 0.0000, 0.0000, 0.0000, 0.0000, 0.0000, 0.0000, 0.0000, 0.0000,\n",
       "         0.0000]])"
      ]
     },
     "execution_count": 104,
     "metadata": {},
     "output_type": "execute_result"
    }
   ],
   "source": [
    "# So for just the 0,0 point we have\n",
    "(ar, ac), (br, bc) = a.shape, b.shape\n",
    "res = torch.zeros(ar, bc)\n",
    "matmul((0,0), m1, m2, res)\n",
    "res"
   ]
  },
  {
   "cell_type": "code",
   "execution_count": 106,
   "id": "75daff73",
   "metadata": {},
   "outputs": [],
   "source": [
    "def launch_kernel(kernel, grid_x, grid_y, *args, **kwargs):\n",
    "    for i in range(grid_x):\n",
    "        for j in range(grid_y): kernel((i,j), *args, **kwargs)"
   ]
  },
  {
   "cell_type": "code",
   "execution_count": 107,
   "id": "405abcab",
   "metadata": {},
   "outputs": [
    {
     "data": {
      "text/plain": [
       "tensor([[  3.0853,  -6.6982,  -3.5543,  -3.7494,  -1.9021, -10.1380,   6.9035,\n",
       "           5.0624, -11.3436,  -2.3460],\n",
       "        [  2.0391,   2.2280,  -7.9930, -14.0625,  14.0156,   2.5221,  16.7039,\n",
       "          -7.7319,  12.0608,  -7.5355],\n",
       "        [ -0.6708,   1.1113, -12.3503,  -9.8059,   6.2303,   1.4751,  -5.2005,\n",
       "           0.4335,   0.7038,   7.6098],\n",
       "        [-10.1180,  -6.3266,  -7.3202, -13.5486,  16.3671,   1.8007,  -3.9269,\n",
       "          -5.1790, -13.6882,  -4.0373],\n",
       "        [ -2.3448,  -1.8089,  -5.9940,  -4.8082,   4.8965,   1.0627,  -4.4259,\n",
       "           6.7147,   0.7432,   7.1297]])"
      ]
     },
     "execution_count": 107,
     "metadata": {},
     "output_type": "execute_result"
    }
   ],
   "source": [
    "res = torch.zeros(ar, bc)\n",
    "launch_kernel(matmul, ar, bc, m1, m2, res)\n",
    "res"
   ]
  },
  {
   "cell_type": "code",
   "execution_count": 108,
   "id": "b4b15695",
   "metadata": {},
   "outputs": [],
   "source": [
    "# Now import numba so that we can start to use parallel processing on the GPU\n",
    "from numba import cuda"
   ]
  },
  {
   "cell_type": "code",
   "execution_count": null,
   "id": "8c063a1e",
   "metadata": {},
   "outputs": [],
   "source": [
    "@cuda.jit\n",
    "def matmul(a,b,c):\n",
    "    i, j = cuda.grid(2)\n",
    "    if i < c.shape[0] and j < c.shape[1]:\n",
    "        tmp = 0.\n",
    "        for k in range(a.shape[1]): tmp += a[i, k] * b[k, j]\n",
    "        c[i,j] = tmp\n",
    "    cuda.syncthreads()"
   ]
  },
  {
   "cell_type": "code",
   "execution_count": null,
   "id": "74214846",
   "metadata": {},
   "outputs": [],
   "source": [
    "r = torch.zeros(x_train.shape[0], weights.shape[1])\n",
    "m1g,m2g,rg = cuda.to_device(x_train),cuda.to_device(weights),cuda.to_device(r)"
   ]
  },
  {
   "cell_type": "code",
   "execution_count": 111,
   "id": "86e34ddf",
   "metadata": {},
   "outputs": [
    {
     "data": {
      "text/plain": [
       "torch.Size([50000, 10])"
      ]
     },
     "execution_count": 111,
     "metadata": {},
     "output_type": "execute_result"
    }
   ],
   "source": [
    "r.shape"
   ]
  },
  {
   "cell_type": "code",
   "execution_count": null,
   "id": "d14c1cdc",
   "metadata": {},
   "outputs": [],
   "source": [
    "TPB = 16\n",
    "rr,rc = r.shape\n",
    "blockspergrid = (math.ceil(rr / TPB), math.ceil(rc / TPB))\n",
    "blockspergrid"
   ]
  },
  {
   "cell_type": "code",
   "execution_count": null,
   "id": "e67db433",
   "metadata": {},
   "outputs": [],
   "source": [
    "matmul[blockspergrid, (TPB,TPB)](m1g,m2g,rg)\n",
    "r = rg.copy_to_host()\n",
    "test_close(tr, r, eps=1.03)"
   ]
  },
  {
   "cell_type": "code",
   "execution_count": null,
   "id": "749d6ac3",
   "metadata": {},
   "outputs": [],
   "source": [
    "%%timeit -n 1\n",
    "matmul[blockspergrid, (TPB,TPB)](m1g,m2g,rg)\n",
    "r = rg.copy_to_host()"
   ]
  },
  {
   "cell_type": "code",
   "execution_count": null,
   "id": "37bc5d3f",
   "metadata": {},
   "outputs": [],
   "source": [
    "m1c,m2c = x_train.cuda(),weights.cuda()"
   ]
  },
  {
   "cell_type": "code",
   "execution_count": null,
   "id": "b8454c81",
   "metadata": {},
   "outputs": [],
   "source": [
    "%timeit -n 1 r==(m1c@m2c).cpu()"
   ]
  }
 ],
 "metadata": {
  "kernelspec": {
   "display_name": "Python 3 (ipykernel)",
   "language": "python",
   "name": "python3"
  },
  "language_info": {
   "codemirror_mode": {
    "name": "ipython",
    "version": 3
   },
   "file_extension": ".py",
   "mimetype": "text/x-python",
   "name": "python",
   "nbconvert_exporter": "python",
   "pygments_lexer": "ipython3",
   "version": "3.9.13"
  }
 },
 "nbformat": 4,
 "nbformat_minor": 5
}

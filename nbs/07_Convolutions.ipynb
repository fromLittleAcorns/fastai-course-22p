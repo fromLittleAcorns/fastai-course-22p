{
 "cells": [
  {
   "cell_type": "code",
   "execution_count": 1,
   "id": "92940d19",
   "metadata": {},
   "outputs": [],
   "source": [
    "#|default_exp conv"
   ]
  },
  {
   "cell_type": "markdown",
   "id": "15bfd08b",
   "metadata": {},
   "source": [
    "## Convolutions"
   ]
  },
  {
   "cell_type": "code",
   "execution_count": 2,
   "id": "c3cfe96e",
   "metadata": {},
   "outputs": [],
   "source": [
    "#|export\n",
    "import pickle,gzip,math,os,time,shutil,torch,matplotlib as mpl, numpy as np\n",
    "import pandas as pd,matplotlib.pyplot as plt\n",
    "from pathlib import Path\n",
    "from torch import tensor\n",
    "from torch import nn\n",
    "\n",
    "from torch.utils.data import DataLoader,default_collate\n",
    "from typing import Mapping\n",
    "\n",
    "from miniai.training import *\n",
    "from miniai.datasets import *"
   ]
  },
  {
   "cell_type": "code",
   "execution_count": 3,
   "id": "7dd72b95",
   "metadata": {},
   "outputs": [],
   "source": [
    "mpl.rcParams['image.cmap'] = 'gray'"
   ]
  },
  {
   "cell_type": "markdown",
   "id": "4efe4f27",
   "metadata": {},
   "source": [
    "## Get data"
   ]
  },
  {
   "cell_type": "code",
   "execution_count": 4,
   "id": "ab894899",
   "metadata": {},
   "outputs": [],
   "source": [
    "MNIST_URL='https://github.com/mnielsen/neural-networks-and-deep-learning/blob/master/data/mnist.pkl.gz?raw=true'\n",
    "path_to_data = Path('/home/datasets') / Path('data')\n",
    "path_to_data.mkdir(exist_ok=True)\n",
    "path_gz = path_to_data / 'mnist.pkg.gz'\n",
    "with gzip.open(path_gz, 'rb') as f: ((x_train, y_train), (x_valid, y_valid), _) = pickle.load(f, encoding='latin-1')\n",
    "x_train, y_train, x_valid, y_valid = map(tensor, [x_train, y_train, x_valid, y_valid])"
   ]
  },
  {
   "cell_type": "code",
   "execution_count": 5,
   "id": "681dec31",
   "metadata": {},
   "outputs": [],
   "source": [
    "x_imgs = x_train.view(-1, 28, 28)\n",
    "xv_imgs = x_valid.view(-1, 28, 28)"
   ]
  },
  {
   "cell_type": "code",
   "execution_count": 6,
   "id": "02351e4a",
   "metadata": {},
   "outputs": [],
   "source": [
    "# MAke the images a bit larger\n",
    "mpl.rcParams['figure.dpi'] = 30"
   ]
  },
  {
   "cell_type": "code",
   "execution_count": 7,
   "id": "ffa8ab0f",
   "metadata": {},
   "outputs": [
    {
     "data": {
      "image/png": "[encoded data removed]",
      "text/plain": [
       "<Figure size 192x144 with 1 Axes>"
      ]
     },
     "metadata": {},
     "output_type": "display_data"
    }
   ],
   "source": [
    "im3 = x_imgs[7]\n",
    "_ = show_image(im3)"
   ]
  },
  {
   "cell_type": "markdown",
   "id": "99f496f9",
   "metadata": {},
   "source": [
    "## Explore kernels "
   ]
  },
  {
   "cell_type": "code",
   "execution_count": 8,
   "id": "7e6456a8",
   "metadata": {},
   "outputs": [],
   "source": [
    "k_top_edge = torch.tensor([\n",
    "                          [-1,-1,-1],\n",
    "                          [0, 0, 0],\n",
    "                          [1, 1, 1]]).float()"
   ]
  },
  {
   "cell_type": "code",
   "execution_count": 9,
   "id": "101dd1af",
   "metadata": {},
   "outputs": [
    {
     "data": {
      "image/png": "[encoded data removed]",
      "text/plain": [
       "<Figure size 192x144 with 1 Axes>"
      ]
     },
     "metadata": {},
     "output_type": "display_data"
    }
   ],
   "source": [
    "show_image(k_top_edge, with_frame=True);"
   ]
  },
  {
   "cell_type": "markdown",
   "id": "49094d18",
   "metadata": {},
   "source": [
    "The filter will take any window of size 3×3 in our images, and if we name the pixel values like this:\n",
    "\n",
    "$$\\begin{matrix} a1 & a2 & a3 \\\\ a4 & a5 & a6 \\\\ a7 & a8 & a9 \\end{matrix}$$\n",
    "\n",
    "it will return $-a1-a2-a3+a7+a8+a9$."
   ]
  },
  {
   "cell_type": "markdown",
   "id": "4f5db445",
   "metadata": {},
   "source": [
    "Take a corner of the image and put into a dataframe"
   ]
  },
  {
   "cell_type": "code",
   "execution_count": 10,
   "id": "9c71ed8f",
   "metadata": {},
   "outputs": [
    {
     "data": {
      "text/html": [
       "<style type=\"text/css\">\n",
       "#T_3541a_row0_col0, #T_3541a_row0_col1, #T_3541a_row0_col2, #T_3541a_row0_col3, #T_3541a_row0_col4, #T_3541a_row0_col5, #T_3541a_row0_col6, #T_3541a_row0_col7, #T_3541a_row0_col8, #T_3541a_row0_col9, #T_3541a_row0_col10, #T_3541a_row0_col11, #T_3541a_row0_col12, #T_3541a_row0_col13, #T_3541a_row0_col14, #T_3541a_row0_col15, #T_3541a_row0_col16, #T_3541a_row0_col17, #T_3541a_row0_col18, #T_3541a_row0_col19, #T_3541a_row0_col20, #T_3541a_row0_col21, #T_3541a_row0_col22, #T_3541a_row1_col0, #T_3541a_row1_col1, #T_3541a_row1_col2, #T_3541a_row1_col3, #T_3541a_row1_col4, #T_3541a_row1_col5, #T_3541a_row1_col6, #T_3541a_row1_col7, #T_3541a_row1_col8, #T_3541a_row1_col9, #T_3541a_row1_col10, #T_3541a_row1_col11, #T_3541a_row1_col12, #T_3541a_row1_col13, #T_3541a_row1_col14, #T_3541a_row1_col15, #T_3541a_row1_col16, #T_3541a_row1_col17, #T_3541a_row1_col18, #T_3541a_row1_col19, #T_3541a_row1_col20, #T_3541a_row1_col21, #T_3541a_row1_col22, #T_3541a_row2_col0, #T_3541a_row2_col1, #T_3541a_row2_col2, #T_3541a_row2_col3, #T_3541a_row2_col4, #T_3541a_row2_col5, #T_3541a_row2_col6, #T_3541a_row2_col7, #T_3541a_row2_col8, #T_3541a_row2_col9, #T_3541a_row2_col10, #T_3541a_row2_col11, #T_3541a_row2_col12, #T_3541a_row2_col13, #T_3541a_row2_col14, #T_3541a_row2_col15, #T_3541a_row2_col16, #T_3541a_row2_col17, #T_3541a_row2_col18, #T_3541a_row2_col19, #T_3541a_row2_col20, #T_3541a_row2_col21, #T_3541a_row2_col22, #T_3541a_row3_col0, #T_3541a_row3_col1, #T_3541a_row3_col2, #T_3541a_row3_col3, #T_3541a_row3_col4, #T_3541a_row3_col5, #T_3541a_row3_col6, #T_3541a_row3_col7, #T_3541a_row3_col8, #T_3541a_row3_col9, #T_3541a_row3_col10, #T_3541a_row3_col11, #T_3541a_row3_col12, #T_3541a_row3_col13, #T_3541a_row3_col14, #T_3541a_row3_col15, #T_3541a_row3_col16, #T_3541a_row3_col17, #T_3541a_row3_col18, #T_3541a_row3_col19, #T_3541a_row3_col20, #T_3541a_row3_col21, #T_3541a_row3_col22, #T_3541a_row4_col0, #T_3541a_row4_col1, #T_3541a_row4_col2, #T_3541a_row4_col3, #T_3541a_row4_col4, #T_3541a_row4_col5, #T_3541a_row4_col6, #T_3541a_row4_col7, #T_3541a_row4_col8, #T_3541a_row4_col9, #T_3541a_row4_col10, #T_3541a_row4_col11, #T_3541a_row4_col12, #T_3541a_row4_col13, #T_3541a_row4_col14, #T_3541a_row4_col15, #T_3541a_row4_col16, #T_3541a_row4_col17, #T_3541a_row4_col18, #T_3541a_row4_col19, #T_3541a_row4_col20, #T_3541a_row4_col21, #T_3541a_row4_col22, #T_3541a_row5_col0, #T_3541a_row5_col1, #T_3541a_row5_col2, #T_3541a_row5_col3, #T_3541a_row5_col4, #T_3541a_row5_col5, #T_3541a_row5_col6, #T_3541a_row5_col7, #T_3541a_row5_col8, #T_3541a_row5_col9, #T_3541a_row5_col10, #T_3541a_row5_col22, #T_3541a_row6_col0, #T_3541a_row6_col1, #T_3541a_row6_col2, #T_3541a_row6_col3, #T_3541a_row6_col4, #T_3541a_row6_col5, #T_3541a_row6_col6, #T_3541a_row6_col7, #T_3541a_row6_col8, #T_3541a_row7_col0, #T_3541a_row7_col1, #T_3541a_row7_col2, #T_3541a_row7_col3, #T_3541a_row7_col4, #T_3541a_row7_col5, #T_3541a_row7_col6, #T_3541a_row7_col7, #T_3541a_row7_col8, #T_3541a_row8_col0, #T_3541a_row8_col1, #T_3541a_row8_col2, #T_3541a_row8_col3, #T_3541a_row8_col4, #T_3541a_row8_col5, #T_3541a_row8_col6, #T_3541a_row8_col7, #T_3541a_row8_col8, #T_3541a_row9_col0, #T_3541a_row9_col1, #T_3541a_row9_col2, #T_3541a_row9_col3, #T_3541a_row9_col4, #T_3541a_row9_col5, #T_3541a_row9_col6, #T_3541a_row9_col7, #T_3541a_row9_col8, #T_3541a_row9_col13, #T_3541a_row9_col14, #T_3541a_row9_col15, #T_3541a_row9_col16, #T_3541a_row10_col0, #T_3541a_row10_col1, #T_3541a_row10_col2, #T_3541a_row10_col3, #T_3541a_row10_col4, #T_3541a_row10_col5, #T_3541a_row10_col6, #T_3541a_row10_col7, #T_3541a_row10_col8, #T_3541a_row10_col9, #T_3541a_row10_col10, #T_3541a_row10_col11, #T_3541a_row10_col12, #T_3541a_row10_col13, #T_3541a_row10_col14, #T_3541a_row10_col15, #T_3541a_row10_col16, #T_3541a_row10_col22, #T_3541a_row11_col0, #T_3541a_row11_col1, #T_3541a_row11_col2, #T_3541a_row11_col3, #T_3541a_row11_col4, #T_3541a_row11_col5, #T_3541a_row11_col6, #T_3541a_row11_col7, #T_3541a_row11_col8, #T_3541a_row11_col9, #T_3541a_row11_col10, #T_3541a_row11_col11, #T_3541a_row11_col12, #T_3541a_row11_col13, #T_3541a_row11_col14, #T_3541a_row11_col15, #T_3541a_row11_col22, #T_3541a_row12_col0, #T_3541a_row12_col1, #T_3541a_row12_col2, #T_3541a_row12_col3, #T_3541a_row12_col4, #T_3541a_row12_col5, #T_3541a_row12_col6, #T_3541a_row12_col7, #T_3541a_row12_col8, #T_3541a_row12_col9, #T_3541a_row12_col10, #T_3541a_row12_col11, #T_3541a_row12_col12, #T_3541a_row12_col13, #T_3541a_row12_col22 {\n",
       "  font-size: 7pt;\n",
       "  background-color: #ffffff;\n",
       "  color: #000000;\n",
       "}\n",
       "#T_3541a_row5_col11 {\n",
       "  font-size: 7pt;\n",
       "  background-color: #ececec;\n",
       "  color: #000000;\n",
       "}\n",
       "#T_3541a_row5_col12 {\n",
       "  font-size: 7pt;\n",
       "  background-color: #e8e8e8;\n",
       "  color: #000000;\n",
       "}\n",
       "#T_3541a_row5_col13 {\n",
       "  font-size: 7pt;\n",
       "  background-color: #b0b0b0;\n",
       "  color: #000000;\n",
       "}\n",
       "#T_3541a_row5_col14, #T_3541a_row5_col15, #T_3541a_row5_col16, #T_3541a_row5_col17, #T_3541a_row5_col18, #T_3541a_row5_col19, #T_3541a_row6_col13, #T_3541a_row6_col20, #T_3541a_row7_col9, #T_3541a_row7_col10, #T_3541a_row7_col11, #T_3541a_row7_col12, #T_3541a_row7_col13, #T_3541a_row7_col20, #T_3541a_row7_col21, #T_3541a_row7_col22, #T_3541a_row8_col10, #T_3541a_row8_col11, #T_3541a_row8_col20, #T_3541a_row8_col21, #T_3541a_row8_col22, #T_3541a_row9_col20, #T_3541a_row10_col20, #T_3541a_row11_col20 {\n",
       "  font-size: 7pt;\n",
       "  background-color: #000000;\n",
       "  color: #f1f1f1;\n",
       "}\n",
       "#T_3541a_row5_col20 {\n",
       "  font-size: 7pt;\n",
       "  background-color: #626262;\n",
       "  color: #f1f1f1;\n",
       "}\n",
       "#T_3541a_row5_col21 {\n",
       "  font-size: 7pt;\n",
       "  background-color: #fcfcfc;\n",
       "  color: #000000;\n",
       "}\n",
       "#T_3541a_row6_col9 {\n",
       "  font-size: 7pt;\n",
       "  background-color: #dbdbdb;\n",
       "  color: #000000;\n",
       "}\n",
       "#T_3541a_row6_col10 {\n",
       "  font-size: 7pt;\n",
       "  background-color: #878787;\n",
       "  color: #f1f1f1;\n",
       "}\n",
       "#T_3541a_row6_col11 {\n",
       "  font-size: 7pt;\n",
       "  background-color: #212121;\n",
       "  color: #f1f1f1;\n",
       "}\n",
       "#T_3541a_row6_col12 {\n",
       "  font-size: 7pt;\n",
       "  background-color: #1e1e1e;\n",
       "  color: #f1f1f1;\n",
       "}\n",
       "#T_3541a_row6_col14, #T_3541a_row7_col14 {\n",
       "  font-size: 7pt;\n",
       "  background-color: #020202;\n",
       "  color: #f1f1f1;\n",
       "}\n",
       "#T_3541a_row6_col15, #T_3541a_row6_col16, #T_3541a_row6_col17, #T_3541a_row6_col18, #T_3541a_row6_col19, #T_3541a_row7_col15, #T_3541a_row7_col16, #T_3541a_row7_col17, #T_3541a_row7_col18, #T_3541a_row7_col19, #T_3541a_row8_col18, #T_3541a_row8_col19, #T_3541a_row9_col19, #T_3541a_row10_col19, #T_3541a_row11_col18, #T_3541a_row11_col19, #T_3541a_row12_col17, #T_3541a_row12_col18, #T_3541a_row12_col19 {\n",
       "  font-size: 7pt;\n",
       "  background-color: #010101;\n",
       "  color: #f1f1f1;\n",
       "}\n",
       "#T_3541a_row6_col21 {\n",
       "  font-size: 7pt;\n",
       "  background-color: #727272;\n",
       "  color: #f1f1f1;\n",
       "}\n",
       "#T_3541a_row6_col22 {\n",
       "  font-size: 7pt;\n",
       "  background-color: #dcdcdc;\n",
       "  color: #000000;\n",
       "}\n",
       "#T_3541a_row8_col9 {\n",
       "  font-size: 7pt;\n",
       "  background-color: #777777;\n",
       "  color: #f1f1f1;\n",
       "}\n",
       "#T_3541a_row8_col12 {\n",
       "  font-size: 7pt;\n",
       "  background-color: #1a1a1a;\n",
       "  color: #f1f1f1;\n",
       "}\n",
       "#T_3541a_row8_col13 {\n",
       "  font-size: 7pt;\n",
       "  background-color: #8f8f8f;\n",
       "  color: #f1f1f1;\n",
       "}\n",
       "#T_3541a_row8_col14, #T_3541a_row8_col15, #T_3541a_row8_col16 {\n",
       "  font-size: 7pt;\n",
       "  background-color: #909090;\n",
       "  color: #f1f1f1;\n",
       "}\n",
       "#T_3541a_row8_col17, #T_3541a_row11_col17 {\n",
       "  font-size: 7pt;\n",
       "  background-color: #525252;\n",
       "  color: #f1f1f1;\n",
       "}\n",
       "#T_3541a_row9_col9 {\n",
       "  font-size: 7pt;\n",
       "  background-color: #fdfdfd;\n",
       "  color: #000000;\n",
       "}\n",
       "#T_3541a_row9_col10, #T_3541a_row9_col11, #T_3541a_row9_col22 {\n",
       "  font-size: 7pt;\n",
       "  background-color: #f1f1f1;\n",
       "  color: #000000;\n",
       "}\n",
       "#T_3541a_row9_col12 {\n",
       "  font-size: 7pt;\n",
       "  background-color: #f4f4f4;\n",
       "  color: #000000;\n",
       "}\n",
       "#T_3541a_row9_col17, #T_3541a_row11_col21 {\n",
       "  font-size: 7pt;\n",
       "  background-color: #f8f8f8;\n",
       "  color: #000000;\n",
       "}\n",
       "#T_3541a_row9_col18 {\n",
       "  font-size: 7pt;\n",
       "  background-color: #1f1f1f;\n",
       "  color: #f1f1f1;\n",
       "}\n",
       "#T_3541a_row9_col21 {\n",
       "  font-size: 7pt;\n",
       "  background-color: #646464;\n",
       "  color: #f1f1f1;\n",
       "}\n",
       "#T_3541a_row10_col17 {\n",
       "  font-size: 7pt;\n",
       "  background-color: #c5c5c5;\n",
       "  color: #000000;\n",
       "}\n",
       "#T_3541a_row10_col18 {\n",
       "  font-size: 7pt;\n",
       "  background-color: #0c0c0c;\n",
       "  color: #f1f1f1;\n",
       "}\n",
       "#T_3541a_row10_col21 {\n",
       "  font-size: 7pt;\n",
       "  background-color: #828282;\n",
       "  color: #f1f1f1;\n",
       "}\n",
       "#T_3541a_row11_col16 {\n",
       "  font-size: 7pt;\n",
       "  background-color: #c3c3c3;\n",
       "  color: #000000;\n",
       "}\n",
       "#T_3541a_row12_col14 {\n",
       "  font-size: 7pt;\n",
       "  background-color: #c1c1c1;\n",
       "  color: #000000;\n",
       "}\n",
       "#T_3541a_row12_col15 {\n",
       "  font-size: 7pt;\n",
       "  background-color: #323232;\n",
       "  color: #f1f1f1;\n",
       "}\n",
       "#T_3541a_row12_col16 {\n",
       "  font-size: 7pt;\n",
       "  background-color: #070707;\n",
       "  color: #f1f1f1;\n",
       "}\n",
       "#T_3541a_row12_col20 {\n",
       "  font-size: 7pt;\n",
       "  background-color: #3c3c3c;\n",
       "  color: #f1f1f1;\n",
       "}\n",
       "#T_3541a_row12_col21 {\n",
       "  font-size: 7pt;\n",
       "  background-color: #fbfbfb;\n",
       "  color: #000000;\n",
       "}\n",
       "</style>\n",
       "<table id=\"T_3541a\">\n",
       "  <thead>\n",
       "    <tr>\n",
       "      <th class=\"blank level0\" >&nbsp;</th>\n",
       "      <th id=\"T_3541a_level0_col0\" class=\"col_heading level0 col0\" >0</th>\n",
       "      <th id=\"T_3541a_level0_col1\" class=\"col_heading level0 col1\" >1</th>\n",
       "      <th id=\"T_3541a_level0_col2\" class=\"col_heading level0 col2\" >2</th>\n",
       "      <th id=\"T_3541a_level0_col3\" class=\"col_heading level0 col3\" >3</th>\n",
       "      <th id=\"T_3541a_level0_col4\" class=\"col_heading level0 col4\" >4</th>\n",
       "      <th id=\"T_3541a_level0_col5\" class=\"col_heading level0 col5\" >5</th>\n",
       "      <th id=\"T_3541a_level0_col6\" class=\"col_heading level0 col6\" >6</th>\n",
       "      <th id=\"T_3541a_level0_col7\" class=\"col_heading level0 col7\" >7</th>\n",
       "      <th id=\"T_3541a_level0_col8\" class=\"col_heading level0 col8\" >8</th>\n",
       "      <th id=\"T_3541a_level0_col9\" class=\"col_heading level0 col9\" >9</th>\n",
       "      <th id=\"T_3541a_level0_col10\" class=\"col_heading level0 col10\" >10</th>\n",
       "      <th id=\"T_3541a_level0_col11\" class=\"col_heading level0 col11\" >11</th>\n",
       "      <th id=\"T_3541a_level0_col12\" class=\"col_heading level0 col12\" >12</th>\n",
       "      <th id=\"T_3541a_level0_col13\" class=\"col_heading level0 col13\" >13</th>\n",
       "      <th id=\"T_3541a_level0_col14\" class=\"col_heading level0 col14\" >14</th>\n",
       "      <th id=\"T_3541a_level0_col15\" class=\"col_heading level0 col15\" >15</th>\n",
       "      <th id=\"T_3541a_level0_col16\" class=\"col_heading level0 col16\" >16</th>\n",
       "      <th id=\"T_3541a_level0_col17\" class=\"col_heading level0 col17\" >17</th>\n",
       "      <th id=\"T_3541a_level0_col18\" class=\"col_heading level0 col18\" >18</th>\n",
       "      <th id=\"T_3541a_level0_col19\" class=\"col_heading level0 col19\" >19</th>\n",
       "      <th id=\"T_3541a_level0_col20\" class=\"col_heading level0 col20\" >20</th>\n",
       "      <th id=\"T_3541a_level0_col21\" class=\"col_heading level0 col21\" >21</th>\n",
       "      <th id=\"T_3541a_level0_col22\" class=\"col_heading level0 col22\" >22</th>\n",
       "    </tr>\n",
       "  </thead>\n",
       "  <tbody>\n",
       "    <tr>\n",
       "      <th id=\"T_3541a_level0_row0\" class=\"row_heading level0 row0\" >0</th>\n",
       "      <td id=\"T_3541a_row0_col0\" class=\"data row0 col0\" >0.00</td>\n",
       "      <td id=\"T_3541a_row0_col1\" class=\"data row0 col1\" >0.00</td>\n",
       "      <td id=\"T_3541a_row0_col2\" class=\"data row0 col2\" >0.00</td>\n",
       "      <td id=\"T_3541a_row0_col3\" class=\"data row0 col3\" >0.00</td>\n",
       "      <td id=\"T_3541a_row0_col4\" class=\"data row0 col4\" >0.00</td>\n",
       "      <td id=\"T_3541a_row0_col5\" class=\"data row0 col5\" >0.00</td>\n",
       "      <td id=\"T_3541a_row0_col6\" class=\"data row0 col6\" >0.00</td>\n",
       "      <td id=\"T_3541a_row0_col7\" class=\"data row0 col7\" >0.00</td>\n",
       "      <td id=\"T_3541a_row0_col8\" class=\"data row0 col8\" >0.00</td>\n",
       "      <td id=\"T_3541a_row0_col9\" class=\"data row0 col9\" >0.00</td>\n",
       "      <td id=\"T_3541a_row0_col10\" class=\"data row0 col10\" >0.00</td>\n",
       "      <td id=\"T_3541a_row0_col11\" class=\"data row0 col11\" >0.00</td>\n",
       "      <td id=\"T_3541a_row0_col12\" class=\"data row0 col12\" >0.00</td>\n",
       "      <td id=\"T_3541a_row0_col13\" class=\"data row0 col13\" >0.00</td>\n",
       "      <td id=\"T_3541a_row0_col14\" class=\"data row0 col14\" >0.00</td>\n",
       "      <td id=\"T_3541a_row0_col15\" class=\"data row0 col15\" >0.00</td>\n",
       "      <td id=\"T_3541a_row0_col16\" class=\"data row0 col16\" >0.00</td>\n",
       "      <td id=\"T_3541a_row0_col17\" class=\"data row0 col17\" >0.00</td>\n",
       "      <td id=\"T_3541a_row0_col18\" class=\"data row0 col18\" >0.00</td>\n",
       "      <td id=\"T_3541a_row0_col19\" class=\"data row0 col19\" >0.00</td>\n",
       "      <td id=\"T_3541a_row0_col20\" class=\"data row0 col20\" >0.00</td>\n",
       "      <td id=\"T_3541a_row0_col21\" class=\"data row0 col21\" >0.00</td>\n",
       "      <td id=\"T_3541a_row0_col22\" class=\"data row0 col22\" >0.00</td>\n",
       "    </tr>\n",
       "    <tr>\n",
       "      <th id=\"T_3541a_level0_row1\" class=\"row_heading level0 row1\" >1</th>\n",
       "      <td id=\"T_3541a_row1_col0\" class=\"data row1 col0\" >0.00</td>\n",
       "      <td id=\"T_3541a_row1_col1\" class=\"data row1 col1\" >0.00</td>\n",
       "      <td id=\"T_3541a_row1_col2\" class=\"data row1 col2\" >0.00</td>\n",
       "      <td id=\"T_3541a_row1_col3\" class=\"data row1 col3\" >0.00</td>\n",
       "      <td id=\"T_3541a_row1_col4\" class=\"data row1 col4\" >0.00</td>\n",
       "      <td id=\"T_3541a_row1_col5\" class=\"data row1 col5\" >0.00</td>\n",
       "      <td id=\"T_3541a_row1_col6\" class=\"data row1 col6\" >0.00</td>\n",
       "      <td id=\"T_3541a_row1_col7\" class=\"data row1 col7\" >0.00</td>\n",
       "      <td id=\"T_3541a_row1_col8\" class=\"data row1 col8\" >0.00</td>\n",
       "      <td id=\"T_3541a_row1_col9\" class=\"data row1 col9\" >0.00</td>\n",
       "      <td id=\"T_3541a_row1_col10\" class=\"data row1 col10\" >0.00</td>\n",
       "      <td id=\"T_3541a_row1_col11\" class=\"data row1 col11\" >0.00</td>\n",
       "      <td id=\"T_3541a_row1_col12\" class=\"data row1 col12\" >0.00</td>\n",
       "      <td id=\"T_3541a_row1_col13\" class=\"data row1 col13\" >0.00</td>\n",
       "      <td id=\"T_3541a_row1_col14\" class=\"data row1 col14\" >0.00</td>\n",
       "      <td id=\"T_3541a_row1_col15\" class=\"data row1 col15\" >0.00</td>\n",
       "      <td id=\"T_3541a_row1_col16\" class=\"data row1 col16\" >0.00</td>\n",
       "      <td id=\"T_3541a_row1_col17\" class=\"data row1 col17\" >0.00</td>\n",
       "      <td id=\"T_3541a_row1_col18\" class=\"data row1 col18\" >0.00</td>\n",
       "      <td id=\"T_3541a_row1_col19\" class=\"data row1 col19\" >0.00</td>\n",
       "      <td id=\"T_3541a_row1_col20\" class=\"data row1 col20\" >0.00</td>\n",
       "      <td id=\"T_3541a_row1_col21\" class=\"data row1 col21\" >0.00</td>\n",
       "      <td id=\"T_3541a_row1_col22\" class=\"data row1 col22\" >0.00</td>\n",
       "    </tr>\n",
       "    <tr>\n",
       "      <th id=\"T_3541a_level0_row2\" class=\"row_heading level0 row2\" >2</th>\n",
       "      <td id=\"T_3541a_row2_col0\" class=\"data row2 col0\" >0.00</td>\n",
       "      <td id=\"T_3541a_row2_col1\" class=\"data row2 col1\" >0.00</td>\n",
       "      <td id=\"T_3541a_row2_col2\" class=\"data row2 col2\" >0.00</td>\n",
       "      <td id=\"T_3541a_row2_col3\" class=\"data row2 col3\" >0.00</td>\n",
       "      <td id=\"T_3541a_row2_col4\" class=\"data row2 col4\" >0.00</td>\n",
       "      <td id=\"T_3541a_row2_col5\" class=\"data row2 col5\" >0.00</td>\n",
       "      <td id=\"T_3541a_row2_col6\" class=\"data row2 col6\" >0.00</td>\n",
       "      <td id=\"T_3541a_row2_col7\" class=\"data row2 col7\" >0.00</td>\n",
       "      <td id=\"T_3541a_row2_col8\" class=\"data row2 col8\" >0.00</td>\n",
       "      <td id=\"T_3541a_row2_col9\" class=\"data row2 col9\" >0.00</td>\n",
       "      <td id=\"T_3541a_row2_col10\" class=\"data row2 col10\" >0.00</td>\n",
       "      <td id=\"T_3541a_row2_col11\" class=\"data row2 col11\" >0.00</td>\n",
       "      <td id=\"T_3541a_row2_col12\" class=\"data row2 col12\" >0.00</td>\n",
       "      <td id=\"T_3541a_row2_col13\" class=\"data row2 col13\" >0.00</td>\n",
       "      <td id=\"T_3541a_row2_col14\" class=\"data row2 col14\" >0.00</td>\n",
       "      <td id=\"T_3541a_row2_col15\" class=\"data row2 col15\" >0.00</td>\n",
       "      <td id=\"T_3541a_row2_col16\" class=\"data row2 col16\" >0.00</td>\n",
       "      <td id=\"T_3541a_row2_col17\" class=\"data row2 col17\" >0.00</td>\n",
       "      <td id=\"T_3541a_row2_col18\" class=\"data row2 col18\" >0.00</td>\n",
       "      <td id=\"T_3541a_row2_col19\" class=\"data row2 col19\" >0.00</td>\n",
       "      <td id=\"T_3541a_row2_col20\" class=\"data row2 col20\" >0.00</td>\n",
       "      <td id=\"T_3541a_row2_col21\" class=\"data row2 col21\" >0.00</td>\n",
       "      <td id=\"T_3541a_row2_col22\" class=\"data row2 col22\" >0.00</td>\n",
       "    </tr>\n",
       "    <tr>\n",
       "      <th id=\"T_3541a_level0_row3\" class=\"row_heading level0 row3\" >3</th>\n",
       "      <td id=\"T_3541a_row3_col0\" class=\"data row3 col0\" >0.00</td>\n",
       "      <td id=\"T_3541a_row3_col1\" class=\"data row3 col1\" >0.00</td>\n",
       "      <td id=\"T_3541a_row3_col2\" class=\"data row3 col2\" >0.00</td>\n",
       "      <td id=\"T_3541a_row3_col3\" class=\"data row3 col3\" >0.00</td>\n",
       "      <td id=\"T_3541a_row3_col4\" class=\"data row3 col4\" >0.00</td>\n",
       "      <td id=\"T_3541a_row3_col5\" class=\"data row3 col5\" >0.00</td>\n",
       "      <td id=\"T_3541a_row3_col6\" class=\"data row3 col6\" >0.00</td>\n",
       "      <td id=\"T_3541a_row3_col7\" class=\"data row3 col7\" >0.00</td>\n",
       "      <td id=\"T_3541a_row3_col8\" class=\"data row3 col8\" >0.00</td>\n",
       "      <td id=\"T_3541a_row3_col9\" class=\"data row3 col9\" >0.00</td>\n",
       "      <td id=\"T_3541a_row3_col10\" class=\"data row3 col10\" >0.00</td>\n",
       "      <td id=\"T_3541a_row3_col11\" class=\"data row3 col11\" >0.00</td>\n",
       "      <td id=\"T_3541a_row3_col12\" class=\"data row3 col12\" >0.00</td>\n",
       "      <td id=\"T_3541a_row3_col13\" class=\"data row3 col13\" >0.00</td>\n",
       "      <td id=\"T_3541a_row3_col14\" class=\"data row3 col14\" >0.00</td>\n",
       "      <td id=\"T_3541a_row3_col15\" class=\"data row3 col15\" >0.00</td>\n",
       "      <td id=\"T_3541a_row3_col16\" class=\"data row3 col16\" >0.00</td>\n",
       "      <td id=\"T_3541a_row3_col17\" class=\"data row3 col17\" >0.00</td>\n",
       "      <td id=\"T_3541a_row3_col18\" class=\"data row3 col18\" >0.00</td>\n",
       "      <td id=\"T_3541a_row3_col19\" class=\"data row3 col19\" >0.00</td>\n",
       "      <td id=\"T_3541a_row3_col20\" class=\"data row3 col20\" >0.00</td>\n",
       "      <td id=\"T_3541a_row3_col21\" class=\"data row3 col21\" >0.00</td>\n",
       "      <td id=\"T_3541a_row3_col22\" class=\"data row3 col22\" >0.00</td>\n",
       "    </tr>\n",
       "    <tr>\n",
       "      <th id=\"T_3541a_level0_row4\" class=\"row_heading level0 row4\" >4</th>\n",
       "      <td id=\"T_3541a_row4_col0\" class=\"data row4 col0\" >0.00</td>\n",
       "      <td id=\"T_3541a_row4_col1\" class=\"data row4 col1\" >0.00</td>\n",
       "      <td id=\"T_3541a_row4_col2\" class=\"data row4 col2\" >0.00</td>\n",
       "      <td id=\"T_3541a_row4_col3\" class=\"data row4 col3\" >0.00</td>\n",
       "      <td id=\"T_3541a_row4_col4\" class=\"data row4 col4\" >0.00</td>\n",
       "      <td id=\"T_3541a_row4_col5\" class=\"data row4 col5\" >0.00</td>\n",
       "      <td id=\"T_3541a_row4_col6\" class=\"data row4 col6\" >0.00</td>\n",
       "      <td id=\"T_3541a_row4_col7\" class=\"data row4 col7\" >0.00</td>\n",
       "      <td id=\"T_3541a_row4_col8\" class=\"data row4 col8\" >0.00</td>\n",
       "      <td id=\"T_3541a_row4_col9\" class=\"data row4 col9\" >0.00</td>\n",
       "      <td id=\"T_3541a_row4_col10\" class=\"data row4 col10\" >0.00</td>\n",
       "      <td id=\"T_3541a_row4_col11\" class=\"data row4 col11\" >0.00</td>\n",
       "      <td id=\"T_3541a_row4_col12\" class=\"data row4 col12\" >0.00</td>\n",
       "      <td id=\"T_3541a_row4_col13\" class=\"data row4 col13\" >0.00</td>\n",
       "      <td id=\"T_3541a_row4_col14\" class=\"data row4 col14\" >0.00</td>\n",
       "      <td id=\"T_3541a_row4_col15\" class=\"data row4 col15\" >0.00</td>\n",
       "      <td id=\"T_3541a_row4_col16\" class=\"data row4 col16\" >0.00</td>\n",
       "      <td id=\"T_3541a_row4_col17\" class=\"data row4 col17\" >0.00</td>\n",
       "      <td id=\"T_3541a_row4_col18\" class=\"data row4 col18\" >0.00</td>\n",
       "      <td id=\"T_3541a_row4_col19\" class=\"data row4 col19\" >0.00</td>\n",
       "      <td id=\"T_3541a_row4_col20\" class=\"data row4 col20\" >0.00</td>\n",
       "      <td id=\"T_3541a_row4_col21\" class=\"data row4 col21\" >0.00</td>\n",
       "      <td id=\"T_3541a_row4_col22\" class=\"data row4 col22\" >0.00</td>\n",
       "    </tr>\n",
       "    <tr>\n",
       "      <th id=\"T_3541a_level0_row5\" class=\"row_heading level0 row5\" >5</th>\n",
       "      <td id=\"T_3541a_row5_col0\" class=\"data row5 col0\" >0.00</td>\n",
       "      <td id=\"T_3541a_row5_col1\" class=\"data row5 col1\" >0.00</td>\n",
       "      <td id=\"T_3541a_row5_col2\" class=\"data row5 col2\" >0.00</td>\n",
       "      <td id=\"T_3541a_row5_col3\" class=\"data row5 col3\" >0.00</td>\n",
       "      <td id=\"T_3541a_row5_col4\" class=\"data row5 col4\" >0.00</td>\n",
       "      <td id=\"T_3541a_row5_col5\" class=\"data row5 col5\" >0.00</td>\n",
       "      <td id=\"T_3541a_row5_col6\" class=\"data row5 col6\" >0.00</td>\n",
       "      <td id=\"T_3541a_row5_col7\" class=\"data row5 col7\" >0.00</td>\n",
       "      <td id=\"T_3541a_row5_col8\" class=\"data row5 col8\" >0.00</td>\n",
       "      <td id=\"T_3541a_row5_col9\" class=\"data row5 col9\" >0.00</td>\n",
       "      <td id=\"T_3541a_row5_col10\" class=\"data row5 col10\" >0.00</td>\n",
       "      <td id=\"T_3541a_row5_col11\" class=\"data row5 col11\" >0.15</td>\n",
       "      <td id=\"T_3541a_row5_col12\" class=\"data row5 col12\" >0.17</td>\n",
       "      <td id=\"T_3541a_row5_col13\" class=\"data row5 col13\" >0.41</td>\n",
       "      <td id=\"T_3541a_row5_col14\" class=\"data row5 col14\" >1.00</td>\n",
       "      <td id=\"T_3541a_row5_col15\" class=\"data row5 col15\" >0.99</td>\n",
       "      <td id=\"T_3541a_row5_col16\" class=\"data row5 col16\" >0.99</td>\n",
       "      <td id=\"T_3541a_row5_col17\" class=\"data row5 col17\" >0.99</td>\n",
       "      <td id=\"T_3541a_row5_col18\" class=\"data row5 col18\" >0.99</td>\n",
       "      <td id=\"T_3541a_row5_col19\" class=\"data row5 col19\" >0.99</td>\n",
       "      <td id=\"T_3541a_row5_col20\" class=\"data row5 col20\" >0.68</td>\n",
       "      <td id=\"T_3541a_row5_col21\" class=\"data row5 col21\" >0.02</td>\n",
       "      <td id=\"T_3541a_row5_col22\" class=\"data row5 col22\" >0.00</td>\n",
       "    </tr>\n",
       "    <tr>\n",
       "      <th id=\"T_3541a_level0_row6\" class=\"row_heading level0 row6\" >6</th>\n",
       "      <td id=\"T_3541a_row6_col0\" class=\"data row6 col0\" >0.00</td>\n",
       "      <td id=\"T_3541a_row6_col1\" class=\"data row6 col1\" >0.00</td>\n",
       "      <td id=\"T_3541a_row6_col2\" class=\"data row6 col2\" >0.00</td>\n",
       "      <td id=\"T_3541a_row6_col3\" class=\"data row6 col3\" >0.00</td>\n",
       "      <td id=\"T_3541a_row6_col4\" class=\"data row6 col4\" >0.00</td>\n",
       "      <td id=\"T_3541a_row6_col5\" class=\"data row6 col5\" >0.00</td>\n",
       "      <td id=\"T_3541a_row6_col6\" class=\"data row6 col6\" >0.00</td>\n",
       "      <td id=\"T_3541a_row6_col7\" class=\"data row6 col7\" >0.00</td>\n",
       "      <td id=\"T_3541a_row6_col8\" class=\"data row6 col8\" >0.00</td>\n",
       "      <td id=\"T_3541a_row6_col9\" class=\"data row6 col9\" >0.17</td>\n",
       "      <td id=\"T_3541a_row6_col10\" class=\"data row6 col10\" >0.54</td>\n",
       "      <td id=\"T_3541a_row6_col11\" class=\"data row6 col11\" >0.88</td>\n",
       "      <td id=\"T_3541a_row6_col12\" class=\"data row6 col12\" >0.88</td>\n",
       "      <td id=\"T_3541a_row6_col13\" class=\"data row6 col13\" >0.98</td>\n",
       "      <td id=\"T_3541a_row6_col14\" class=\"data row6 col14\" >0.99</td>\n",
       "      <td id=\"T_3541a_row6_col15\" class=\"data row6 col15\" >0.98</td>\n",
       "      <td id=\"T_3541a_row6_col16\" class=\"data row6 col16\" >0.98</td>\n",
       "      <td id=\"T_3541a_row6_col17\" class=\"data row6 col17\" >0.98</td>\n",
       "      <td id=\"T_3541a_row6_col18\" class=\"data row6 col18\" >0.98</td>\n",
       "      <td id=\"T_3541a_row6_col19\" class=\"data row6 col19\" >0.98</td>\n",
       "      <td id=\"T_3541a_row6_col20\" class=\"data row6 col20\" >0.98</td>\n",
       "      <td id=\"T_3541a_row6_col21\" class=\"data row6 col21\" >0.62</td>\n",
       "      <td id=\"T_3541a_row6_col22\" class=\"data row6 col22\" >0.05</td>\n",
       "    </tr>\n",
       "    <tr>\n",
       "      <th id=\"T_3541a_level0_row7\" class=\"row_heading level0 row7\" >7</th>\n",
       "      <td id=\"T_3541a_row7_col0\" class=\"data row7 col0\" >0.00</td>\n",
       "      <td id=\"T_3541a_row7_col1\" class=\"data row7 col1\" >0.00</td>\n",
       "      <td id=\"T_3541a_row7_col2\" class=\"data row7 col2\" >0.00</td>\n",
       "      <td id=\"T_3541a_row7_col3\" class=\"data row7 col3\" >0.00</td>\n",
       "      <td id=\"T_3541a_row7_col4\" class=\"data row7 col4\" >0.00</td>\n",
       "      <td id=\"T_3541a_row7_col5\" class=\"data row7 col5\" >0.00</td>\n",
       "      <td id=\"T_3541a_row7_col6\" class=\"data row7 col6\" >0.00</td>\n",
       "      <td id=\"T_3541a_row7_col7\" class=\"data row7 col7\" >0.00</td>\n",
       "      <td id=\"T_3541a_row7_col8\" class=\"data row7 col8\" >0.00</td>\n",
       "      <td id=\"T_3541a_row7_col9\" class=\"data row7 col9\" >0.70</td>\n",
       "      <td id=\"T_3541a_row7_col10\" class=\"data row7 col10\" >0.98</td>\n",
       "      <td id=\"T_3541a_row7_col11\" class=\"data row7 col11\" >0.98</td>\n",
       "      <td id=\"T_3541a_row7_col12\" class=\"data row7 col12\" >0.98</td>\n",
       "      <td id=\"T_3541a_row7_col13\" class=\"data row7 col13\" >0.98</td>\n",
       "      <td id=\"T_3541a_row7_col14\" class=\"data row7 col14\" >0.99</td>\n",
       "      <td id=\"T_3541a_row7_col15\" class=\"data row7 col15\" >0.98</td>\n",
       "      <td id=\"T_3541a_row7_col16\" class=\"data row7 col16\" >0.98</td>\n",
       "      <td id=\"T_3541a_row7_col17\" class=\"data row7 col17\" >0.98</td>\n",
       "      <td id=\"T_3541a_row7_col18\" class=\"data row7 col18\" >0.98</td>\n",
       "      <td id=\"T_3541a_row7_col19\" class=\"data row7 col19\" >0.98</td>\n",
       "      <td id=\"T_3541a_row7_col20\" class=\"data row7 col20\" >0.98</td>\n",
       "      <td id=\"T_3541a_row7_col21\" class=\"data row7 col21\" >0.98</td>\n",
       "      <td id=\"T_3541a_row7_col22\" class=\"data row7 col22\" >0.23</td>\n",
       "    </tr>\n",
       "    <tr>\n",
       "      <th id=\"T_3541a_level0_row8\" class=\"row_heading level0 row8\" >8</th>\n",
       "      <td id=\"T_3541a_row8_col0\" class=\"data row8 col0\" >0.00</td>\n",
       "      <td id=\"T_3541a_row8_col1\" class=\"data row8 col1\" >0.00</td>\n",
       "      <td id=\"T_3541a_row8_col2\" class=\"data row8 col2\" >0.00</td>\n",
       "      <td id=\"T_3541a_row8_col3\" class=\"data row8 col3\" >0.00</td>\n",
       "      <td id=\"T_3541a_row8_col4\" class=\"data row8 col4\" >0.00</td>\n",
       "      <td id=\"T_3541a_row8_col5\" class=\"data row8 col5\" >0.00</td>\n",
       "      <td id=\"T_3541a_row8_col6\" class=\"data row8 col6\" >0.00</td>\n",
       "      <td id=\"T_3541a_row8_col7\" class=\"data row8 col7\" >0.00</td>\n",
       "      <td id=\"T_3541a_row8_col8\" class=\"data row8 col8\" >0.00</td>\n",
       "      <td id=\"T_3541a_row8_col9\" class=\"data row8 col9\" >0.43</td>\n",
       "      <td id=\"T_3541a_row8_col10\" class=\"data row8 col10\" >0.98</td>\n",
       "      <td id=\"T_3541a_row8_col11\" class=\"data row8 col11\" >0.98</td>\n",
       "      <td id=\"T_3541a_row8_col12\" class=\"data row8 col12\" >0.90</td>\n",
       "      <td id=\"T_3541a_row8_col13\" class=\"data row8 col13\" >0.52</td>\n",
       "      <td id=\"T_3541a_row8_col14\" class=\"data row8 col14\" >0.52</td>\n",
       "      <td id=\"T_3541a_row8_col15\" class=\"data row8 col15\" >0.52</td>\n",
       "      <td id=\"T_3541a_row8_col16\" class=\"data row8 col16\" >0.52</td>\n",
       "      <td id=\"T_3541a_row8_col17\" class=\"data row8 col17\" >0.74</td>\n",
       "      <td id=\"T_3541a_row8_col18\" class=\"data row8 col18\" >0.98</td>\n",
       "      <td id=\"T_3541a_row8_col19\" class=\"data row8 col19\" >0.98</td>\n",
       "      <td id=\"T_3541a_row8_col20\" class=\"data row8 col20\" >0.98</td>\n",
       "      <td id=\"T_3541a_row8_col21\" class=\"data row8 col21\" >0.98</td>\n",
       "      <td id=\"T_3541a_row8_col22\" class=\"data row8 col22\" >0.23</td>\n",
       "    </tr>\n",
       "    <tr>\n",
       "      <th id=\"T_3541a_level0_row9\" class=\"row_heading level0 row9\" >9</th>\n",
       "      <td id=\"T_3541a_row9_col0\" class=\"data row9 col0\" >0.00</td>\n",
       "      <td id=\"T_3541a_row9_col1\" class=\"data row9 col1\" >0.00</td>\n",
       "      <td id=\"T_3541a_row9_col2\" class=\"data row9 col2\" >0.00</td>\n",
       "      <td id=\"T_3541a_row9_col3\" class=\"data row9 col3\" >0.00</td>\n",
       "      <td id=\"T_3541a_row9_col4\" class=\"data row9 col4\" >0.00</td>\n",
       "      <td id=\"T_3541a_row9_col5\" class=\"data row9 col5\" >0.00</td>\n",
       "      <td id=\"T_3541a_row9_col6\" class=\"data row9 col6\" >0.00</td>\n",
       "      <td id=\"T_3541a_row9_col7\" class=\"data row9 col7\" >0.00</td>\n",
       "      <td id=\"T_3541a_row9_col8\" class=\"data row9 col8\" >0.00</td>\n",
       "      <td id=\"T_3541a_row9_col9\" class=\"data row9 col9\" >0.02</td>\n",
       "      <td id=\"T_3541a_row9_col10\" class=\"data row9 col10\" >0.11</td>\n",
       "      <td id=\"T_3541a_row9_col11\" class=\"data row9 col11\" >0.11</td>\n",
       "      <td id=\"T_3541a_row9_col12\" class=\"data row9 col12\" >0.09</td>\n",
       "      <td id=\"T_3541a_row9_col13\" class=\"data row9 col13\" >0.00</td>\n",
       "      <td id=\"T_3541a_row9_col14\" class=\"data row9 col14\" >0.00</td>\n",
       "      <td id=\"T_3541a_row9_col15\" class=\"data row9 col15\" >0.00</td>\n",
       "      <td id=\"T_3541a_row9_col16\" class=\"data row9 col16\" >0.00</td>\n",
       "      <td id=\"T_3541a_row9_col17\" class=\"data row9 col17\" >0.05</td>\n",
       "      <td id=\"T_3541a_row9_col18\" class=\"data row9 col18\" >0.88</td>\n",
       "      <td id=\"T_3541a_row9_col19\" class=\"data row9 col19\" >0.98</td>\n",
       "      <td id=\"T_3541a_row9_col20\" class=\"data row9 col20\" >0.98</td>\n",
       "      <td id=\"T_3541a_row9_col21\" class=\"data row9 col21\" >0.67</td>\n",
       "      <td id=\"T_3541a_row9_col22\" class=\"data row9 col22\" >0.03</td>\n",
       "    </tr>\n",
       "    <tr>\n",
       "      <th id=\"T_3541a_level0_row10\" class=\"row_heading level0 row10\" >10</th>\n",
       "      <td id=\"T_3541a_row10_col0\" class=\"data row10 col0\" >0.00</td>\n",
       "      <td id=\"T_3541a_row10_col1\" class=\"data row10 col1\" >0.00</td>\n",
       "      <td id=\"T_3541a_row10_col2\" class=\"data row10 col2\" >0.00</td>\n",
       "      <td id=\"T_3541a_row10_col3\" class=\"data row10 col3\" >0.00</td>\n",
       "      <td id=\"T_3541a_row10_col4\" class=\"data row10 col4\" >0.00</td>\n",
       "      <td id=\"T_3541a_row10_col5\" class=\"data row10 col5\" >0.00</td>\n",
       "      <td id=\"T_3541a_row10_col6\" class=\"data row10 col6\" >0.00</td>\n",
       "      <td id=\"T_3541a_row10_col7\" class=\"data row10 col7\" >0.00</td>\n",
       "      <td id=\"T_3541a_row10_col8\" class=\"data row10 col8\" >0.00</td>\n",
       "      <td id=\"T_3541a_row10_col9\" class=\"data row10 col9\" >0.00</td>\n",
       "      <td id=\"T_3541a_row10_col10\" class=\"data row10 col10\" >0.00</td>\n",
       "      <td id=\"T_3541a_row10_col11\" class=\"data row10 col11\" >0.00</td>\n",
       "      <td id=\"T_3541a_row10_col12\" class=\"data row10 col12\" >0.00</td>\n",
       "      <td id=\"T_3541a_row10_col13\" class=\"data row10 col13\" >0.00</td>\n",
       "      <td id=\"T_3541a_row10_col14\" class=\"data row10 col14\" >0.00</td>\n",
       "      <td id=\"T_3541a_row10_col15\" class=\"data row10 col15\" >0.00</td>\n",
       "      <td id=\"T_3541a_row10_col16\" class=\"data row10 col16\" >0.00</td>\n",
       "      <td id=\"T_3541a_row10_col17\" class=\"data row10 col17\" >0.33</td>\n",
       "      <td id=\"T_3541a_row10_col18\" class=\"data row10 col18\" >0.95</td>\n",
       "      <td id=\"T_3541a_row10_col19\" class=\"data row10 col19\" >0.98</td>\n",
       "      <td id=\"T_3541a_row10_col20\" class=\"data row10 col20\" >0.98</td>\n",
       "      <td id=\"T_3541a_row10_col21\" class=\"data row10 col21\" >0.56</td>\n",
       "      <td id=\"T_3541a_row10_col22\" class=\"data row10 col22\" >0.00</td>\n",
       "    </tr>\n",
       "    <tr>\n",
       "      <th id=\"T_3541a_level0_row11\" class=\"row_heading level0 row11\" >11</th>\n",
       "      <td id=\"T_3541a_row11_col0\" class=\"data row11 col0\" >0.00</td>\n",
       "      <td id=\"T_3541a_row11_col1\" class=\"data row11 col1\" >0.00</td>\n",
       "      <td id=\"T_3541a_row11_col2\" class=\"data row11 col2\" >0.00</td>\n",
       "      <td id=\"T_3541a_row11_col3\" class=\"data row11 col3\" >0.00</td>\n",
       "      <td id=\"T_3541a_row11_col4\" class=\"data row11 col4\" >0.00</td>\n",
       "      <td id=\"T_3541a_row11_col5\" class=\"data row11 col5\" >0.00</td>\n",
       "      <td id=\"T_3541a_row11_col6\" class=\"data row11 col6\" >0.00</td>\n",
       "      <td id=\"T_3541a_row11_col7\" class=\"data row11 col7\" >0.00</td>\n",
       "      <td id=\"T_3541a_row11_col8\" class=\"data row11 col8\" >0.00</td>\n",
       "      <td id=\"T_3541a_row11_col9\" class=\"data row11 col9\" >0.00</td>\n",
       "      <td id=\"T_3541a_row11_col10\" class=\"data row11 col10\" >0.00</td>\n",
       "      <td id=\"T_3541a_row11_col11\" class=\"data row11 col11\" >0.00</td>\n",
       "      <td id=\"T_3541a_row11_col12\" class=\"data row11 col12\" >0.00</td>\n",
       "      <td id=\"T_3541a_row11_col13\" class=\"data row11 col13\" >0.00</td>\n",
       "      <td id=\"T_3541a_row11_col14\" class=\"data row11 col14\" >0.00</td>\n",
       "      <td id=\"T_3541a_row11_col15\" class=\"data row11 col15\" >0.00</td>\n",
       "      <td id=\"T_3541a_row11_col16\" class=\"data row11 col16\" >0.34</td>\n",
       "      <td id=\"T_3541a_row11_col17\" class=\"data row11 col17\" >0.74</td>\n",
       "      <td id=\"T_3541a_row11_col18\" class=\"data row11 col18\" >0.98</td>\n",
       "      <td id=\"T_3541a_row11_col19\" class=\"data row11 col19\" >0.98</td>\n",
       "      <td id=\"T_3541a_row11_col20\" class=\"data row11 col20\" >0.98</td>\n",
       "      <td id=\"T_3541a_row11_col21\" class=\"data row11 col21\" >0.05</td>\n",
       "      <td id=\"T_3541a_row11_col22\" class=\"data row11 col22\" >0.00</td>\n",
       "    </tr>\n",
       "    <tr>\n",
       "      <th id=\"T_3541a_level0_row12\" class=\"row_heading level0 row12\" >12</th>\n",
       "      <td id=\"T_3541a_row12_col0\" class=\"data row12 col0\" >0.00</td>\n",
       "      <td id=\"T_3541a_row12_col1\" class=\"data row12 col1\" >0.00</td>\n",
       "      <td id=\"T_3541a_row12_col2\" class=\"data row12 col2\" >0.00</td>\n",
       "      <td id=\"T_3541a_row12_col3\" class=\"data row12 col3\" >0.00</td>\n",
       "      <td id=\"T_3541a_row12_col4\" class=\"data row12 col4\" >0.00</td>\n",
       "      <td id=\"T_3541a_row12_col5\" class=\"data row12 col5\" >0.00</td>\n",
       "      <td id=\"T_3541a_row12_col6\" class=\"data row12 col6\" >0.00</td>\n",
       "      <td id=\"T_3541a_row12_col7\" class=\"data row12 col7\" >0.00</td>\n",
       "      <td id=\"T_3541a_row12_col8\" class=\"data row12 col8\" >0.00</td>\n",
       "      <td id=\"T_3541a_row12_col9\" class=\"data row12 col9\" >0.00</td>\n",
       "      <td id=\"T_3541a_row12_col10\" class=\"data row12 col10\" >0.00</td>\n",
       "      <td id=\"T_3541a_row12_col11\" class=\"data row12 col11\" >0.00</td>\n",
       "      <td id=\"T_3541a_row12_col12\" class=\"data row12 col12\" >0.00</td>\n",
       "      <td id=\"T_3541a_row12_col13\" class=\"data row12 col13\" >0.00</td>\n",
       "      <td id=\"T_3541a_row12_col14\" class=\"data row12 col14\" >0.36</td>\n",
       "      <td id=\"T_3541a_row12_col15\" class=\"data row12 col15\" >0.83</td>\n",
       "      <td id=\"T_3541a_row12_col16\" class=\"data row12 col16\" >0.96</td>\n",
       "      <td id=\"T_3541a_row12_col17\" class=\"data row12 col17\" >0.98</td>\n",
       "      <td id=\"T_3541a_row12_col18\" class=\"data row12 col18\" >0.98</td>\n",
       "      <td id=\"T_3541a_row12_col19\" class=\"data row12 col19\" >0.98</td>\n",
       "      <td id=\"T_3541a_row12_col20\" class=\"data row12 col20\" >0.80</td>\n",
       "      <td id=\"T_3541a_row12_col21\" class=\"data row12 col21\" >0.04</td>\n",
       "      <td id=\"T_3541a_row12_col22\" class=\"data row12 col22\" >0.00</td>\n",
       "    </tr>\n",
       "  </tbody>\n",
       "</table>\n"
      ],
      "text/plain": [
       "<pandas.io.formats.style.Styler at 0x7f504d8dfd00>"
      ]
     },
     "execution_count": 10,
     "metadata": {},
     "output_type": "execute_result"
    }
   ],
   "source": [
    "df = pd.DataFrame(im3[:13,:23])\n",
    "df.style.format(precision=2).set_properties(**{'font-size':'7pt'}).background_gradient('Greys')"
   ]
  },
  {
   "cell_type": "markdown",
   "id": "70e315ad",
   "metadata": {},
   "source": [
    "Compare the values at the top edge of the three and at the bottom edge of the three"
   ]
  },
  {
   "cell_type": "code",
   "execution_count": 11,
   "id": "a103592e",
   "metadata": {},
   "outputs": [
    {
     "data": {
      "text/plain": [
       "(tensor(2.9727), tensor(-2.9570))"
      ]
     },
     "execution_count": 11,
     "metadata": {},
     "output_type": "execute_result"
    }
   ],
   "source": [
    "(im3[3:6,14:17] * k_top_edge).sum(), (im3[7:10,14:17] * k_top_edge).sum()"
   ]
  },
  {
   "cell_type": "markdown",
   "id": "0987c33e",
   "metadata": {},
   "source": [
    "Create a function to apply a kernal from a specific starting point"
   ]
  },
  {
   "cell_type": "code",
   "execution_count": 12,
   "id": "6c3a3e38",
   "metadata": {},
   "outputs": [],
   "source": [
    "def apply_kernal(row, col, kernal):\n",
    "    return (im3[row-1: row+2, col-1: col+2] * kernal).sum()"
   ]
  },
  {
   "cell_type": "code",
   "execution_count": 13,
   "id": "b724af27",
   "metadata": {},
   "outputs": [
    {
     "data": {
      "text/plain": [
       "tensor(2.9727)"
      ]
     },
     "execution_count": 13,
     "metadata": {},
     "output_type": "execute_result"
    }
   ],
   "source": [
    "apply_kernal(4, 15, k_top_edge)"
   ]
  },
  {
   "cell_type": "markdown",
   "id": "a79931fc",
   "metadata": {},
   "source": [
    "Now apply the kernal over the image and plot the result"
   ]
  },
  {
   "cell_type": "code",
   "execution_count": 14,
   "id": "03767c3d",
   "metadata": {},
   "outputs": [
    {
     "data": {
      "image/png": "[encoded data removed]",
      "text/plain": [
       "<Figure size 192x144 with 1 Axes>"
      ]
     },
     "metadata": {},
     "output_type": "display_data"
    }
   ],
   "source": [
    "rng = range(1, im3.shape[0] -1)\n",
    "output_top_edge = tensor([[apply_kernal(i, j, k_top_edge) for j in rng] for i in rng]) \n",
    "_ = show_image(output_top_edge)"
   ]
  },
  {
   "cell_type": "markdown",
   "id": "96aa1844",
   "metadata": {},
   "source": [
    "The same can be done for other kernals"
   ]
  },
  {
   "cell_type": "markdown",
   "id": "a1e3476b",
   "metadata": {},
   "source": [
    "### Convolutions in PyTorch"
   ]
  },
  {
   "cell_type": "code",
   "execution_count": 15,
   "id": "7384484f",
   "metadata": {},
   "outputs": [],
   "source": [
    "import torch.nn.functional as F\n",
    "import torch"
   ]
  },
  {
   "cell_type": "markdown",
   "id": "5695ebe5",
   "metadata": {},
   "source": [
    "What to do if you have [2 months to complete your thesis](https://github.com/Yangqing/caffe/wiki/Convolution-in-Caffe:-a-memo)? Use [im2col](https://hal.inria.fr/inria-00112631/)."
   ]
  },
  {
   "cell_type": "markdown",
   "id": "48870b66",
   "metadata": {},
   "source": [
    "![image.png](attachment:image.png)"
   ]
  },
  {
   "cell_type": "markdown",
   "id": "c3fd44a4",
   "metadata": {},
   "source": [
    "Here's a sample [numpy implementation](https://github.com/3outeille/CNNumpy/blob/5394f13e7ed67a808a3e39fd381f168825d65ff5/src/fast/utils.py#L360)."
   ]
  },
  {
   "cell_type": "markdown",
   "id": "b25b24a3",
   "metadata": {},
   "source": [
    "The next part of the course notebook looks at convolutions using im2col.  To save time this is left for now and I will move straight onto the applicaion of pytorch convolutions"
   ]
  },
  {
   "cell_type": "code",
   "execution_count": 16,
   "id": "9c4ab818",
   "metadata": {},
   "outputs": [],
   "source": [
    "k_diag1_edge = tensor([[0, -1, 1],\n",
    "                    [-1, 1, 0],\n",
    "                    [1, 0, 0]]).float()"
   ]
  },
  {
   "cell_type": "code",
   "execution_count": 17,
   "id": "5e825867",
   "metadata": {},
   "outputs": [
    {
     "data": {
      "image/png": "[encoded data removed]",
      "text/plain": [
       "<Figure size 192x144 with 1 Axes>"
      ]
     },
     "metadata": {},
     "output_type": "display_data"
    }
   ],
   "source": [
    "show_image(k_diag1_edge, with_frame=True);"
   ]
  },
  {
   "cell_type": "code",
   "execution_count": 18,
   "id": "3aab794a",
   "metadata": {},
   "outputs": [],
   "source": [
    "k_diag2_edge = tensor([[0, 1, -1],\n",
    "                     [1, -1, 0],\n",
    "                     [-1, 0, 0]]).float()"
   ]
  },
  {
   "cell_type": "code",
   "execution_count": 19,
   "id": "ef43a2f7",
   "metadata": {},
   "outputs": [
    {
     "data": {
      "image/png": "[encoded data removed]",
      "text/plain": [
       "<Figure size 192x144 with 1 Axes>"
      ]
     },
     "metadata": {},
     "output_type": "display_data"
    }
   ],
   "source": [
    "show_image(k_diag2_edge, with_frame=True);"
   ]
  },
  {
   "cell_type": "code",
   "execution_count": 20,
   "id": "f255b9aa",
   "metadata": {},
   "outputs": [],
   "source": [
    "k_left_edge = torch.tensor([\n",
    "                          [-1, 1, 0],\n",
    "                          [-1, 1, 0],\n",
    "                          [-1, 1, 0]]).float()"
   ]
  },
  {
   "cell_type": "code",
   "execution_count": 21,
   "id": "f59b0163",
   "metadata": {},
   "outputs": [
    {
     "data": {
      "image/png": "[encoded data removed]",
      "text/plain": [
       "<Figure size 192x144 with 1 Axes>"
      ]
     },
     "metadata": {},
     "output_type": "display_data"
    }
   ],
   "source": [
    "show_image(k_left_edge, with_frame=True);"
   ]
  },
  {
   "cell_type": "markdown",
   "id": "0373566c",
   "metadata": {},
   "source": [
    "Stack the kernals and apply them to a batch of images"
   ]
  },
  {
   "cell_type": "code",
   "execution_count": 22,
   "id": "2ca1b579",
   "metadata": {},
   "outputs": [],
   "source": [
    "edge_kernels = torch.stack([k_diag1_edge, k_diag2_edge, k_left_edge, k_top_edge])"
   ]
  },
  {
   "cell_type": "code",
   "execution_count": 23,
   "id": "8539ed93",
   "metadata": {},
   "outputs": [
    {
     "data": {
      "text/plain": [
       "torch.Size([4, 3, 3])"
      ]
     },
     "execution_count": 23,
     "metadata": {},
     "output_type": "execute_result"
    }
   ],
   "source": [
    "edge_kernels.shape"
   ]
  },
  {
   "cell_type": "code",
   "execution_count": 24,
   "id": "0d35ed38",
   "metadata": {},
   "outputs": [
    {
     "data": {
      "text/plain": [
       "torch.Size([16, 1, 28, 28])"
      ]
     },
     "execution_count": 24,
     "metadata": {},
     "output_type": "execute_result"
    }
   ],
   "source": [
    "#Load a batch of images to process.  \n",
    "# Add an additional dimension to represent the channel, which needs to be after the batch dimension\n",
    "# also note that [:, None, :, :] is equivalent to[:, None], since the other dimensions are applied by default\n",
    "xb = x_imgs[:16][:, None, :, :]\n",
    "xb.shape"
   ]
  },
  {
   "cell_type": "code",
   "execution_count": 25,
   "id": "3059ec0f",
   "metadata": {},
   "outputs": [
    {
     "data": {
      "text/plain": [
       "torch.Size([4, 1, 3, 3])"
      ]
     },
     "execution_count": 25,
     "metadata": {},
     "output_type": "execute_result"
    }
   ],
   "source": [
    "# Add another dimension to the kernal array to facilitate batch operation\n",
    "edge_kernels = edge_kernels[:, None]\n",
    "edge_kernels.shape"
   ]
  },
  {
   "cell_type": "code",
   "execution_count": 26,
   "id": "7032ab24",
   "metadata": {},
   "outputs": [],
   "source": [
    "batch_features = F.conv2d(xb, weight=edge_kernels)"
   ]
  },
  {
   "cell_type": "code",
   "execution_count": 27,
   "id": "defb6ed4",
   "metadata": {},
   "outputs": [
    {
     "data": {
      "text/plain": [
       "torch.Size([16, 4, 26, 26])"
      ]
     },
     "execution_count": 27,
     "metadata": {},
     "output_type": "execute_result"
    }
   ],
   "source": [
    "batch_features.shape"
   ]
  },
  {
   "cell_type": "markdown",
   "id": "ba53f2f4",
   "metadata": {},
   "source": [
    "Since no padding has been applied one pixel has been lost all of the way around the boundary."
   ]
  },
  {
   "cell_type": "code",
   "execution_count": 28,
   "id": "e7ab4fce",
   "metadata": {},
   "outputs": [
    {
     "data": {
      "image/png": "[encoded data removed]",
      "text/plain": [
       "<Figure size 192x144 with 1 Axes>"
      ]
     },
     "metadata": {},
     "output_type": "display_data"
    }
   ],
   "source": [
    "img0 = xb[1, 0]\n",
    "show_image(img0);"
   ]
  },
  {
   "cell_type": "code",
   "execution_count": 29,
   "id": "61540cf1",
   "metadata": {},
   "outputs": [
    {
     "data": {
      "image/png": "[encoded data removed]",
      "text/plain": [
       "<Figure size 180x180 with 4 Axes>"
      ]
     },
     "metadata": {},
     "output_type": "display_data"
    }
   ],
   "source": [
    "# show how this is seen by each of the filters\n",
    "show_images([batch_features[1, i] for i in range(4)]);"
   ]
  },
  {
   "cell_type": "markdown",
   "id": "fd1b2fd9",
   "metadata": {},
   "source": [
    "### Strides and Padding "
   ]
  },
  {
   "cell_type": "markdown",
   "id": "bec851b8",
   "metadata": {},
   "source": [
    "<img src=\"images/chapter9_padconv.svg\" id=\"pad_conv\" caption=\"A convolution with padding\" alt=\"A convolution with padding\" width=\"600\">"
   ]
  },
  {
   "cell_type": "markdown",
   "id": "47032d70",
   "metadata": {},
   "source": [
    "With a 5×5 input, 4×4 kernel, and 2 pixels of padding, we end up with a 6×6 activation map."
   ]
  },
  {
   "cell_type": "markdown",
   "id": "86f14e56",
   "metadata": {},
   "source": [
    "<img alt=\"A 4×4 kernel with 5×5 input and 2 pixels of padding\" width=\"783\" caption=\"A 4×4 kernel with 5×5 input and 2 pixels of padding (courtesy of Vincent Dumoulin and Francesco Visin)\" id=\"four_by_five_conv\" src=\"images/att_00029.png\">"
   ]
  },
  {
   "cell_type": "markdown",
   "id": "b8b0b8b3",
   "metadata": {},
   "source": [
    "If we add a kernel of size `ks` by `ks` (with `ks` an odd number), the necessary padding on each side to keep the same shape is `ks//2`.\n",
    "\n",
    "We could move over two pixels after each kernel application. This is known as a *stride-2* convolution."
   ]
  },
  {
   "cell_type": "markdown",
   "id": "739fb5cf",
   "metadata": {},
   "source": [
    "<img alt=\"A 3×3 kernel with 5×5 input, stride-2 convolution, and 1 pixel of padding\" width=\"774\" caption=\"A 3×3 kernel with 5×5 input, stride-2 convolution, and 1 pixel of padding (courtesy of Vincent Dumoulin and Francesco Visin)\" id=\"three_by_five_conv\" src=\"images/att_00030.png\">"
   ]
  },
  {
   "cell_type": "markdown",
   "id": "d0fb1610",
   "metadata": {},
   "source": [
    "## Creating a CNN"
   ]
  },
  {
   "cell_type": "code",
   "execution_count": 30,
   "id": "8ae2c348",
   "metadata": {},
   "outputs": [],
   "source": [
    "# Define parameters for the mnist analysis\n",
    "n, m = x_train.shape\n",
    "c = y_train.max() + 1\n",
    "# Set the model to initially have a hidden layer of size 50\n",
    "nh = 50"
   ]
  },
  {
   "cell_type": "markdown",
   "id": "6ed25a42",
   "metadata": {},
   "source": [
    "Create a simple sequential model and a simple cnn model"
   ]
  },
  {
   "cell_type": "code",
   "execution_count": 31,
   "id": "669e20c3",
   "metadata": {},
   "outputs": [],
   "source": [
    "model = nn.Sequential(nn.Linear(m, nh), nn.ReLU(), nn.Linear(nh, c))"
   ]
  },
  {
   "cell_type": "code",
   "execution_count": 32,
   "id": "9849d5f4",
   "metadata": {},
   "outputs": [],
   "source": [
    "broken_cnn = nn.Sequential(nn.Conv2d(1, 30, kernel_size=3, padding=1),\n",
    "                          nn.ReLU(),\n",
    "                          nn.Conv2d(30, c, kernel_size=3, padding=1)\n",
    "                          )"
   ]
  },
  {
   "cell_type": "code",
   "execution_count": 33,
   "id": "e3ab5d0a",
   "metadata": {},
   "outputs": [
    {
     "data": {
      "text/plain": [
       "torch.Size([16, 10, 28, 28])"
      ]
     },
     "execution_count": 33,
     "metadata": {},
     "output_type": "execute_result"
    }
   ],
   "source": [
    "# Feed one batch of data through the cnn\n",
    "preds = broken_cnn(xb)\n",
    "preds.shape"
   ]
  },
  {
   "cell_type": "markdown",
   "id": "775eeecc",
   "metadata": {},
   "source": [
    "The above approach is very rigid and cumbersome.  To improve things create a conv layer where the input parameters can be specified as well as whether to use activations and what size the kernel it"
   ]
  },
  {
   "cell_type": "code",
   "execution_count": 34,
   "id": "dcca67b3",
   "metadata": {},
   "outputs": [],
   "source": [
    "#|export\n",
    "def conv(\n",
    "    ni: int, # Input length\n",
    "    nch: int, # number of channels output\n",
    "    ks: int=3, # Kernel size (should be an odd number)\n",
    "    stride: int=2, # Stride\n",
    "    act: bool=True # Whether to assign an activation layer to the output\n",
    "):\n",
    "    out = nn.Conv2d(ni, nch, kernel_size=ks, stride=stride, padding=ks//2)\n",
    "    if act: out = nn.Sequential(out, nn.ReLU())\n",
    "    return out"
   ]
  },
  {
   "cell_type": "markdown",
   "id": "0d5e40f6",
   "metadata": {},
   "source": [
    "Using the above conv layer creation a model can be created that progressively reduces the width of the array but increases the number of channels, until the final output, when flattened, gives the class predictions"
   ]
  },
  {
   "cell_type": "code",
   "execution_count": 35,
   "id": "07af3611",
   "metadata": {},
   "outputs": [],
   "source": [
    "simple_cnn = nn.Sequential(\n",
    "    conv(1, 4), # 14x14\n",
    "    conv(4, 8), # 7x7\n",
    "    conv(8, 16), # 4x4\n",
    "    conv(16, 16), # 2x2\n",
    "    conv(16, c, act=False), # 1x1\n",
    "    nn.Flatten()\n",
    ")"
   ]
  },
  {
   "cell_type": "code",
   "execution_count": 36,
   "id": "9a45ae3f",
   "metadata": {},
   "outputs": [
    {
     "data": {
      "text/plain": [
       "torch.Size([16, 10])"
      ]
     },
     "execution_count": 36,
     "metadata": {},
     "output_type": "execute_result"
    }
   ],
   "source": [
    "# pass the batch through simple_cnn to check output shape\n",
    "simple_cnn(xb).shape"
   ]
  },
  {
   "cell_type": "markdown",
   "id": "ea77e9e5",
   "metadata": {},
   "source": [
    "This is what is required, effectively a prediction of the probability of each class for each image"
   ]
  },
  {
   "cell_type": "markdown",
   "id": "d97eb2cf",
   "metadata": {},
   "source": [
    "### Create Dataset\n",
    "In this case the dataset will contain the images in 28x28 format instead of flattened"
   ]
  },
  {
   "cell_type": "code",
   "execution_count": 37,
   "id": "d336cf63",
   "metadata": {},
   "outputs": [],
   "source": [
    "x_imgs = x_train.view(-1, 1, 28, 28)\n",
    "xv_imgs = x_valid.view(-1, 1, 28, 28)\n",
    "train_ds, valid_ds = Dataset(x_imgs, y_train), Dataset(xv_imgs, y_valid)"
   ]
  },
  {
   "cell_type": "markdown",
   "id": "8f054beb",
   "metadata": {},
   "source": [
    "### Create functions to assign device and collate results"
   ]
  },
  {
   "cell_type": "code",
   "execution_count": 38,
   "id": "b0aceb7f",
   "metadata": {},
   "outputs": [],
   "source": [
    "test_df = DataLoader(train_ds, batch_size=16, shuffle=True, collate_fn=default_collate)"
   ]
  },
  {
   "cell_type": "code",
   "execution_count": 39,
   "id": "b88c0754",
   "metadata": {},
   "outputs": [],
   "source": [
    "xbt, ybt = next(iter(test_df))"
   ]
  },
  {
   "cell_type": "code",
   "execution_count": 40,
   "id": "ad56608a",
   "metadata": {},
   "outputs": [
    {
     "data": {
      "text/plain": [
       "(torch.Size([16, 1, 28, 28]), torch.Size([16]))"
      ]
     },
     "execution_count": 40,
     "metadata": {},
     "output_type": "execute_result"
    }
   ],
   "source": [
    "xbt.shape, ybt.shape "
   ]
  },
  {
   "cell_type": "markdown",
   "id": "13cd3b6c",
   "metadata": {},
   "source": [
    "The above shapes look correct"
   ]
  },
  {
   "cell_type": "markdown",
   "id": "6a98b5f7",
   "metadata": {},
   "source": [
    "### Create function to set device and move things onto device fron dataloader"
   ]
  },
  {
   "cell_type": "code",
   "execution_count": 50,
   "id": "67f71259",
   "metadata": {},
   "outputs": [],
   "source": [
    "#|export\n",
    "\n",
    "# Set device according to the availability of gpus\n",
    "#def_device = \"mps\" if torch.backends.mps.is_available() else \"cuda\" if torch.backends.cuda.is_available() \\\n",
    "#    else \"cpu\"\n",
    "def_device = \"cpu\" if torch.backends.mps.is_available() else \"cuda\" if torch.cuda.is_available() \\\n",
    "    else \"cpu\"\n",
    "\n",
    "def to_device(x, device=def_device):\n",
    "    # if x is a mapping then each of mapping targets needs to be moved to the device.  Needed to accomodate\n",
    "    # huggingface examples.  Note also that the applications of type(x) prior to the (o.to(dev) for o in x)\n",
    "    # results in the recreation of the tuple or list from the second part, which is a generator.\n",
    "    if isinstance(x, torch.Tensor): return x.to(device)\n",
    "    if isinstance(x, Mapping): return {k: v.to_device(device) for k, v in x.items()}\n",
    "    return type(x)(o.to(device) for o in x)\n",
    "\n",
    "def collate_device(b): return to_device(default_collate(b))"
   ]
  },
  {
   "cell_type": "markdown",
   "id": "529ba7cd",
   "metadata": {},
   "source": [
    "### Create DataLoader and Optimizer"
   ]
  },
  {
   "cell_type": "code",
   "execution_count": 51,
   "id": "939d9e22",
   "metadata": {},
   "outputs": [],
   "source": [
    "from torch import optim\n",
    "bs = 256\n",
    "lr = 0.4\n",
    "train_dl, valid_dl = get_dls(train_ds, valid_ds, bs, collate_fn=collate_device)\n",
    "opt = optim.SGD(simple_cnn.parameters(), lr=lr)"
   ]
  },
  {
   "cell_type": "markdown",
   "id": "63cfa134",
   "metadata": {},
   "source": [
    "### Train the model using an initial learning rate"
   ]
  },
  {
   "cell_type": "code",
   "execution_count": 52,
   "id": "263b1107",
   "metadata": {},
   "outputs": [
    {
     "data": {
      "text/plain": [
       "Sequential(\n",
       "  (0): Sequential(\n",
       "    (0): Conv2d(1, 4, kernel_size=(3, 3), stride=(2, 2), padding=(1, 1))\n",
       "    (1): ReLU()\n",
       "  )\n",
       "  (1): Sequential(\n",
       "    (0): Conv2d(4, 8, kernel_size=(3, 3), stride=(2, 2), padding=(1, 1))\n",
       "    (1): ReLU()\n",
       "  )\n",
       "  (2): Sequential(\n",
       "    (0): Conv2d(8, 16, kernel_size=(3, 3), stride=(2, 2), padding=(1, 1))\n",
       "    (1): ReLU()\n",
       "  )\n",
       "  (3): Sequential(\n",
       "    (0): Conv2d(16, 16, kernel_size=(3, 3), stride=(2, 2), padding=(1, 1))\n",
       "    (1): ReLU()\n",
       "  )\n",
       "  (4): Conv2d(16, 10, kernel_size=(3, 3), stride=(2, 2), padding=(1, 1))\n",
       "  (5): Flatten(start_dim=1, end_dim=-1)\n",
       ")"
      ]
     },
     "execution_count": 52,
     "metadata": {},
     "output_type": "execute_result"
    }
   ],
   "source": [
    "simple_cnn.to(def_device)"
   ]
  },
  {
   "cell_type": "code",
   "execution_count": 53,
   "id": "525a75e6",
   "metadata": {},
   "outputs": [
    {
     "name": "stdout",
     "output_type": "stream",
     "text": [
      "Epoch: 0, loss: 0.3881331980228424, acc: 0.8792999982833862\n",
      "Epoch: 1, loss: 0.17527948319911957, acc: 0.9434999823570251\n",
      "Epoch: 2, loss: 0.12457738816738129, acc: 0.9623000025749207\n",
      "Epoch: 3, loss: 0.09801269322633743, acc: 0.9714999794960022\n",
      "Epoch: 4, loss: 0.11559412628412247, acc: 0.9681999683380127\n"
     ]
    }
   ],
   "source": [
    "fit(5, simple_cnn, loss_func=F.cross_entropy, opt=opt, train_dl=train_dl, valid_dl=valid_dl)"
   ]
  },
  {
   "cell_type": "code",
   "execution_count": 54,
   "id": "c9cba959",
   "metadata": {},
   "outputs": [
    {
     "name": "stdout",
     "output_type": "stream",
     "text": [
      "Epoch: 0, loss: 0.08105196803808212, acc: 0.9763999581336975\n",
      "Epoch: 1, loss: 0.07821030914783478, acc: 0.9770999550819397\n",
      "Epoch: 2, loss: 0.0780414342880249, acc: 0.9777999520301819\n",
      "Epoch: 3, loss: 0.07597284764051437, acc: 0.9777999520301819\n",
      "Epoch: 4, loss: 0.07696638256311417, acc: 0.9781000018119812\n"
     ]
    }
   ],
   "source": [
    "opt = optim.SGD(simple_cnn.parameters(), lr=lr/4)\n",
    "fit(5, simple_cnn, loss_func=F.cross_entropy, opt=opt, train_dl=train_dl, valid_dl=valid_dl)"
   ]
  },
  {
   "cell_type": "markdown",
   "id": "934b4f61",
   "metadata": {},
   "source": [
    "## Understanding convolutional arithmetic "
   ]
  },
  {
   "cell_type": "markdown",
   "id": "e14fb3a3",
   "metadata": {},
   "source": [
    "In an input of size `64x1x28x28` the axes are `batch,channel,height,width`. This is often represented as `NCHW` (where `N` refers to batch size). Tensorflow, on the other hand, uses `NHWC` axis order (aka \"channels-last\"). Channels-last is faster for many models, so recently it's become more common to see this as an option in PyTorch too.\n",
    "\n",
    "We have 1 input channel, 4 output channels, and a 3×3 kernel.  The following shows the corresponding shape of the weights and biases"
   ]
  },
  {
   "cell_type": "code",
   "execution_count": 55,
   "id": "2c0b6360",
   "metadata": {},
   "outputs": [
    {
     "data": {
      "text/plain": [
       "torch.Size([4, 1, 3, 3])"
      ]
     },
     "execution_count": 55,
     "metadata": {},
     "output_type": "execute_result"
    }
   ],
   "source": [
    "conv1 = simple_cnn[0][0]\n",
    "conv1.weight.shape"
   ]
  },
  {
   "cell_type": "code",
   "execution_count": 56,
   "id": "947f7d3f",
   "metadata": {},
   "outputs": [
    {
     "data": {
      "text/plain": [
       "torch.Size([4])"
      ]
     },
     "execution_count": 56,
     "metadata": {},
     "output_type": "execute_result"
    }
   ],
   "source": [
    "conv1.bias.shape"
   ]
  },
  {
   "cell_type": "markdown",
   "id": "85b4bf58",
   "metadata": {},
   "source": [
    "The *receptive field* is the area of an image that is involved in the calculation of a layer. *conv-example.xlsx* shows the calculation of two stride-2 convolutional layers using an MNIST digit. Here's what we see if we click on one of the cells in the *conv2* section, which shows the output of the second convolutional layer, and click *trace precedents*."
   ]
  },
  {
   "cell_type": "markdown",
   "id": "b3aa6b4b",
   "metadata": {},
   "source": [
    "<img alt=\"Immediate precedents of conv2 layer\" width=\"308\" caption=\"Immediate precedents of Conv2 layer\" id=\"preced1\" src=\"images/att_00068.png\">"
   ]
  },
  {
   "cell_type": "markdown",
   "id": "c0c81132",
   "metadata": {},
   "source": [
    "In this example, we have just two convolutional layers. We can see that a 7×7 area of cells in the input layer is used to calculate the single green cell in the Conv2 layer. This is the *receptive field*\n",
    "\n",
    "The deeper we are in the network (specifically, the more stride-2 convs we have before a layer), the larger the receptive field for an activation in that layer."
   ]
  },
  {
   "cell_type": "markdown",
   "id": "8c7812b1",
   "metadata": {},
   "source": [
    "## Multi-Channel Images\n",
    "\n",
    "Images are in reality mainly multi channel.  Normally images have the channel as the last dimension but Pytorch by default has this as the -3 dimension.  This conversion happens automatically if the torch read_image is used"
   ]
  },
  {
   "cell_type": "code",
   "execution_count": 57,
   "id": "c432828d",
   "metadata": {},
   "outputs": [],
   "source": [
    "from torchvision.io import read_image"
   ]
  },
  {
   "cell_type": "code",
   "execution_count": 58,
   "id": "a1dfb4ea",
   "metadata": {},
   "outputs": [
    {
     "data": {
      "text/plain": [
       "torch.Size([3, 1000, 846])"
      ]
     },
     "execution_count": 58,
     "metadata": {},
     "output_type": "execute_result"
    }
   ],
   "source": [
    "im = read_image('images/grizzly.jpg')\n",
    "im.shape"
   ]
  },
  {
   "cell_type": "code",
   "execution_count": 59,
   "id": "1982169d",
   "metadata": {},
   "outputs": [
    {
     "data": {
      "image/png": "[encoded data removed]",
      "text/plain": [
       "<Figure size 192x144 with 1 Axes>"
      ]
     },
     "metadata": {},
     "output_type": "display_data"
    }
   ],
   "source": [
    "show_image(im.permute(1,2,0));"
   ]
  },
  {
   "cell_type": "code",
   "execution_count": 60,
   "id": "10ebdf01",
   "metadata": {},
   "outputs": [
    {
     "data": {
      "image/png": "[encoded data removed]",
      "text/plain": [
       "<Figure size 450x300 with 3 Axes>"
      ]
     },
     "metadata": {},
     "output_type": "display_data"
    }
   ],
   "source": [
    "_,axs = plt.subplots(1,3, figsize=(15,10))\n",
    "for bear,ax,color in zip(im,axs,('Reds','Greens','Blues')): show_image(255-bear, ax=ax, cmap=color)"
   ]
  },
  {
   "cell_type": "markdown",
   "id": "504b94f5",
   "metadata": {},
   "source": [
    "<img src=\"images/chapter9_rgbconv.svg\" id=\"rgbconv\" caption=\"Convolution over an RGB image\" alt=\"Convolution over an RGB image\" width=\"550\">"
   ]
  },
  {
   "cell_type": "markdown",
   "id": "2351b277",
   "metadata": {},
   "source": [
    "We have `ch_out` filters like this, so in the end, the result of our convolutional layer will be a batch of images with `ch_out` channels."
   ]
  },
  {
   "cell_type": "markdown",
   "id": "047be9b0",
   "metadata": {},
   "source": [
    "## Export "
   ]
  },
  {
   "cell_type": "code",
   "execution_count": 61,
   "id": "c8ec767f",
   "metadata": {},
   "outputs": [],
   "source": [
    "import nbdev; nbdev.nbdev_export()"
   ]
  },
  {
   "cell_type": "code",
   "execution_count": null,
   "id": "fbc19e86-eab5-49de-b2df-ef3c30628dac",
   "metadata": {},
   "outputs": [],
   "source": []
  }
 ],
 "metadata": {
  "kernelspec": {
   "display_name": "c22penv",
   "language": "python",
   "name": "c22penv"
  },
  "language_info": {
   "codemirror_mode": {
    "name": "ipython",
    "version": 3
   },
   "file_extension": ".py",
   "mimetype": "text/x-python",
   "name": "python",
   "nbconvert_exporter": "python",
   "pygments_lexer": "ipython3",
   "version": "3.9.15"
  }
 },
 "nbformat": 4,
 "nbformat_minor": 5
}

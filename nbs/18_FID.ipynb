{
 "cells": [
  {
   "cell_type": "code",
   "execution_count": 1,
   "id": "c1419b11-1ffb-4340-bbcc-acb6822398b8",
   "metadata": {},
   "outputs": [],
   "source": [
    "#| default_exp fid"
   ]
  },
  {
   "cell_type": "markdown",
   "id": "9b389ffd-a632-4499-b600-21cc3c54485a",
   "metadata": {},
   "source": [
    "The course video relevant to this notebook is lesson 21: 24 minnk\n",
    "\n",
    "Link: https://en.wikipedia.org/wiki/Matrix_sign_function\n",
    "\n",
    "Caveats regarding FID\n",
    "1. It is dependent upon the number of samples used.  The lower the number of samples the higher the FID score\n",
    "2. When used in papers the models were based upon images of 296x296 and from Inception\n",
    "3. Papers base things against the Inception baseline, it is more useful to use your own models that have been trained to be specifically aimed at the domain that is being investigated, however these are not then directly comparable to the FID numbers in papers\n",
    "\n",
    "The KID metric (Kernal Inception Distance) is independent of image and sample size, however, it has a lot of variance and has not generally been found to be useful"
   ]
  },
  {
   "cell_type": "markdown",
   "id": "a732f616-e556-4243-ba83-04feb2156671",
   "metadata": {},
   "source": [
    "## FID "
   ]
  },
  {
   "cell_type": "code",
   "execution_count": 3,
   "id": "d12b7678-d023-4077-9331-60eebce1c87c",
   "metadata": {},
   "outputs": [],
   "source": [
    "#|export\n",
    "import pickle,gzip,math,os,time,shutil,torch,random\n",
    "import fastcore.all as fc,matplotlib as mpl,numpy as np,matplotlib.pyplot as plt\n",
    "from collections.abc import Mapping\n",
    "from pathlib import Path\n",
    "from operator import attrgetter,itemgetter\n",
    "from functools import partial\n",
    "from copy import copy\n",
    "from contextlib import contextmanager\n",
    "from scipy import linalg\n",
    "\n",
    "from fastcore.foundation import L\n",
    "import torchvision.transforms.functional as TF,torch.nn.functional as F\n",
    "from torch import tensor,nn,optim\n",
    "from torch.utils.data import DataLoader,default_collate\n",
    "from torch.nn import init\n",
    "from torch.optim import lr_scheduler\n",
    "from torcheval.metrics import MulticlassAccuracy\n",
    "from datasets import load_dataset,load_dataset_builder\n",
    "\n",
    "from miniai.datasets import *\n",
    "from miniai.conv import *\n",
    "from miniai.learner import *\n",
    "from miniai.activations import *\n",
    "from miniai.init import *\n",
    "from miniai.sgd import *\n",
    "from miniai.resnet import *\n",
    "from miniai.augment import *\n",
    "from miniai.accel import *"
   ]
  },
  {
   "cell_type": "code",
   "execution_count": 4,
   "id": "49ac9d56-9cf2-4a22-b92d-a520aedac692",
   "metadata": {},
   "outputs": [],
   "source": [
    "\n",
    "from fastcore.test import test_close\n",
    "from torch import distributions\n",
    "\n",
    "torch.set_printoptions(precision=2, linewidth=140, sci_mode=False)\n",
    "torch.manual_seed(1)\n",
    "mpl.rcParams['image.cmap'] = 'gray_r'\n",
    "\n",
    "import logging\n",
    "logging.disable(logging.WARNING)\n",
    "\n",
    "set_seed(42)\n",
    "if fc.defaults.cpus>8: fc.defaults.cpus=7"
   ]
  },
  {
   "cell_type": "markdown",
   "id": "0fceb31d-0a1b-4963-9494-455a65411268",
   "metadata": {},
   "source": [
    "## Classifier "
   ]
  },
  {
   "cell_type": "code",
   "execution_count": 5,
   "id": "0c2ab8a2-1b0d-457c-8fb3-1d88c6488d96",
   "metadata": {},
   "outputs": [
    {
     "data": {
      "application/vnd.jupyter.widget-view+json": {
       "model_id": "b3df5ca1d911446db6169571eb125a00",
       "version_major": 2,
       "version_minor": 0
      },
      "text/plain": [
       "  0%|          | 0/2 [00:00<?, ?it/s]"
      ]
     },
     "metadata": {},
     "output_type": "display_data"
    }
   ],
   "source": [
    "xl,yl = 'image','label'\n",
    "name = \"fashion_mnist\"\n",
    "bs = 512\n",
    "\n",
    "@inplace\n",
    "def transformi(b): b[xl] = [F.pad(TF.to_tensor(o), (2,2,2,2))*2-1 for o in b[xl]]\n",
    "\n",
    "dsd = load_dataset(name)\n",
    "tds = dsd.with_transform(transformi)\n",
    "dls = DataLoaders.from_dd(tds, bs, num_workers=fc.defaults.cpus)"
   ]
  },
  {
   "cell_type": "code",
   "execution_count": 6,
   "id": "1da4ce04-844c-4e79-b09b-e8d232baf293",
   "metadata": {
    "tags": []
   },
   "outputs": [],
   "source": [
    "b = xb,yb = next(iter(dls.train))"
   ]
  },
  {
   "cell_type": "code",
   "execution_count": 7,
   "id": "aed38749-122f-4548-8f17-fe94f21c7098",
   "metadata": {},
   "outputs": [],
   "source": [
    "cbs = [DeviceCB(), MixedPrecision()]\n",
    "model = torch.load('/home/models/data_aug2.pkl')\n",
    "learn = Learner(model, dls, F.cross_entropy, cbs=cbs, opt_func=None)"
   ]
  },
  {
   "cell_type": "markdown",
   "id": "40a10778-4d98-4342-953c-49e5d66cfbf8",
   "metadata": {},
   "source": [
    "There are two ways to generate features from a specific layer in the model.  One is to use hooks (demonstrated below), the other is to truncate the model at a certain point and simply take the outputs at that point"
   ]
  },
  {
   "cell_type": "code",
   "execution_count": 8,
   "id": "a1f9d9b2-8cf5-47c4-8144-266b2297644b",
   "metadata": {},
   "outputs": [],
   "source": [
    "def append_outp(hook, mod, inp, outp):\n",
    "    if not hasattr(hook,'outp'): hook.outp = []\n",
    "    hook.outp.append(to_cpu(outp))"
   ]
  },
  {
   "cell_type": "code",
   "execution_count": 9,
   "id": "bb97ac7f-fe91-4faf-90f6-5da57226e15a",
   "metadata": {},
   "outputs": [],
   "source": [
    "hcb = HooksCallback(append_outp, mods=[learn.model[6]], on_valid=True)"
   ]
  },
  {
   "cell_type": "code",
   "execution_count": 10,
   "id": "1292adca-d906-494a-8660-1b498f611753",
   "metadata": {},
   "outputs": [],
   "source": [
    "learn.fit(1, train=False, cbs=[hcb])"
   ]
  },
  {
   "cell_type": "code",
   "execution_count": 11,
   "id": "13721785-b916-4acd-a1b2-725bf24eb79e",
   "metadata": {},
   "outputs": [],
   "source": [
    "feats = hcb.hooks"
   ]
  },
  {
   "cell_type": "code",
   "execution_count": 12,
   "id": "3946de20-542a-461d-82e6-d451e88b547a",
   "metadata": {
    "tags": []
   },
   "outputs": [
    {
     "data": {
      "text/plain": [
       "1"
      ]
     },
     "execution_count": 12,
     "metadata": {},
     "output_type": "execute_result"
    }
   ],
   "source": [
    "len(feats)"
   ]
  },
  {
   "cell_type": "code",
   "execution_count": 13,
   "id": "1406d985-38a3-4d64-bf2c-beafdfc71fe1",
   "metadata": {},
   "outputs": [
    {
     "data": {
      "text/plain": [
       "torch.Size([64, 512])"
      ]
     },
     "execution_count": 13,
     "metadata": {},
     "output_type": "execute_result"
    }
   ],
   "source": [
    "feats = hcb.hooks[0].outp[0].float()[:64]\n",
    "feats.shape"
   ]
  },
  {
   "cell_type": "code",
   "execution_count": 14,
   "id": "4937cb1b-5d24-44bd-9ebf-fd41dbfd007d",
   "metadata": {},
   "outputs": [],
   "source": [
    "del(learn.model[8])\n",
    "del(learn.model[7])"
   ]
  },
  {
   "cell_type": "code",
   "execution_count": 15,
   "id": "d1c16ca0-092c-4f18-918a-f613e1f31bcf",
   "metadata": {
    "tags": []
   },
   "outputs": [
    {
     "data": {
      "text/plain": [
       "(torch.Size([10000, 512]), tensor([9, 2, 1,  ..., 8, 1, 5]))"
      ]
     },
     "execution_count": 15,
     "metadata": {},
     "output_type": "execute_result"
    }
   ],
   "source": [
    "feats,y = learn.capture_preds()\n",
    "feats = feats.float()\n",
    "feats.shape,y"
   ]
  },
  {
   "cell_type": "markdown",
   "id": "e4dad685-7cb3-4fc6-b4c1-ab8badc0aa7f",
   "metadata": {},
   "source": [
    "## Calculate FID "
   ]
  },
  {
   "cell_type": "code",
   "execution_count": 16,
   "id": "257a7c01-e0de-47a7-bfcf-a991b6aba2ea",
   "metadata": {},
   "outputs": [],
   "source": [
    "# Define the usual diffusion parameters\n",
    "betamin,betamax,n_steps = 0.0001,0.02,1000\n",
    "beta = torch.linspace(betamin, betamax, n_steps)\n",
    "alpha = 1.-beta\n",
    "alphabar = alpha.cumprod(dim=0)\n",
    "sigma = beta.sqrt()"
   ]
  },
  {
   "cell_type": "code",
   "execution_count": 17,
   "id": "2b454155-1d26-469f-b0eb-5fc0c436b05a",
   "metadata": {
    "tags": []
   },
   "outputs": [],
   "source": [
    "def noisify(x0, ᾱ):\n",
    "    device = x0.device\n",
    "    n = len(x0)\n",
    "    t = torch.randint(0, n_steps, (n,), dtype=torch.long)\n",
    "    ε = torch.randn(x0.shape, device=device)\n",
    "    ᾱ_t = ᾱ[t].reshape(-1, 1, 1, 1).to(device)\n",
    "    xt = ᾱ_t.sqrt()*x0 + (1-ᾱ_t).sqrt()*ε\n",
    "    return (xt, t.to(device)), ε"
   ]
  },
  {
   "cell_type": "code",
   "execution_count": 18,
   "id": "e6361c33-9b52-4898-b469-23ef0dd7f88b",
   "metadata": {
    "tags": []
   },
   "outputs": [],
   "source": [
    "def collate_ddpm(b): \n",
    "    \"\"\" given a batch of data apply noisify to the image part. Pass in alphabar\n",
    "    \"\"\"\n",
    "    return noisify(default_collate(b)[xl], alphabar)"
   ]
  },
  {
   "cell_type": "code",
   "execution_count": 19,
   "id": "6b4ad3aa-d83b-48d5-9905-ebf37128b9e3",
   "metadata": {
    "tags": []
   },
   "outputs": [],
   "source": [
    "def dl_ddpm(ds): \n",
    "    \"\"\" Create a ddpm dataloader using the above collate function, which in turn uses default\n",
    "    collate to return a batch of images and targets as tensors in a tuple\n",
    "    \"\"\"\n",
    "    return DataLoader(ds, batch_size=bs, collate_fn=collate_ddpm, num_workers=4)"
   ]
  },
  {
   "cell_type": "code",
   "execution_count": 20,
   "id": "ead0c22f-6e8d-497e-ab0e-68e0c114256d",
   "metadata": {
    "tags": []
   },
   "outputs": [],
   "source": [
    "# Create an updated dataloader using the above data loader applied to the datasets \n",
    "# with transforms\n",
    "dls2 = DataLoaders(dl_ddpm(tds['train']), dl_ddpm(tds['test']))"
   ]
  },
  {
   "cell_type": "markdown",
   "id": "7607268d-6d2c-4425-bd37-e04c0062178a",
   "metadata": {},
   "source": [
    "Since the UNet2DModel needs both the image and the timestep we need to modify the way we pass data into it (our dataloader passes out one tuple).  We can do this with the fudge below, that is inheriting the class but modifying the forward method to split the tuple into to variables and feed these forwards"
   ]
  },
  {
   "cell_type": "code",
   "execution_count": 21,
   "id": "ead18e9c-e7ff-47ba-bf5e-c8b9b0a7f9ae",
   "metadata": {
    "tags": []
   },
   "outputs": [],
   "source": [
    "from diffusers import UNet2DModel\n",
    "\n",
    "class UNet(UNet2DModel):\n",
    "    def forward(self, x): return super().forward(*x).sample"
   ]
  },
  {
   "cell_type": "code",
   "execution_count": 22,
   "id": "d3d48767-ea8f-474d-be45-8957fe8e1828",
   "metadata": {
    "tags": []
   },
   "outputs": [],
   "source": [
    "# Load the trained diffusion model\n",
    "smodel = torch.load('/home/models/fashion_ddpm_mp.pkl').cuda()"
   ]
  },
  {
   "cell_type": "code",
   "execution_count": 23,
   "id": "02072838-62bc-4f81-aba0-73d5e25a51d4",
   "metadata": {
    "tags": []
   },
   "outputs": [],
   "source": [
    "@torch.no_grad()\n",
    "def sample(model, sz, alpha, alphabar, sigma, n_steps):\n",
    "    \"\"\" Create a function to generate a number of samples from the model\n",
    "    args\n",
    "        sz: number of samples to generate.  Should be a tuple \n",
    "            of (num images, channels, height, width)\n",
    "        alpha: array of alpha values vs timestep\n",
    "        alphabar: array of alphbar values vs timestep\n",
    "        sigma: array of sigmas vs timestep\n",
    "        n_steps: the number of steps to use in the generation process\n",
    "    \"\"\"\n",
    "    device = next(model.parameters()).device\n",
    "    # Generate random images as starting point\n",
    "    x_t = torch.randn(sz, device=device)\n",
    "    preds = []\n",
    "    for t in reversed(range(n_steps)):\n",
    "        # create array of values of t for each image to failitate broadcasting\n",
    "        t_batch = torch.full((x_t.shape[0],), t, device=device, dtype=torch.long)\n",
    "        # Generate new random noise for this step\n",
    "        z = (torch.randn(x_t.shape) if t > 0 else torch.zeros(x_t.shape)).to(device)\n",
    "        ᾱ_t1 = alphabar[t-1]  if t > 0 else torch.tensor(1)\n",
    "        b̄_t = 1 - alphabar[t]\n",
    "        b̄_t1 = 1 - ᾱ_t1\n",
    "        x_0_hat = ((x_t - b̄_t.sqrt() * model((x_t, t_batch)))/alphabar[t].sqrt())\n",
    "        x_t = x_0_hat * ᾱ_t1.sqrt()*(1-alpha[t])/b̄_t + x_t * alpha[t].sqrt()*b̄_t1/b̄_t + sigma[t]*z\n",
    "        preds.append(x_0_hat.cpu())\n",
    "    return preds"
   ]
  },
  {
   "cell_type": "code",
   "execution_count": 24,
   "id": "aa395116-1dda-4ac6-a8f3-8ea11b972cf9",
   "metadata": {
    "tags": []
   },
   "outputs": [
    {
     "name": "stdout",
     "output_type": "stream",
     "text": [
      "CPU times: user 40.4 s, sys: 622 ms, total: 41 s\n",
      "Wall time: 40.9 s\n"
     ]
    }
   ],
   "source": [
    "%%time\n",
    "samples = sample(smodel, (256, 1, 32, 32), alpha, alphabar, sigma, n_steps)"
   ]
  },
  {
   "cell_type": "code",
   "execution_count": 25,
   "id": "10290ccb-2fdc-4734-a011-902535f1e8d8",
   "metadata": {
    "tags": []
   },
   "outputs": [],
   "source": [
    "# Take the final sample of each image\n",
    "s = samples[-1]"
   ]
  },
  {
   "cell_type": "code",
   "execution_count": 26,
   "id": "273f118b-961d-43e6-b51b-8450409dad01",
   "metadata": {
    "tags": []
   },
   "outputs": [
    {
     "data": {
      "text/plain": [
       "(tensor(0.15), tensor(0.28))"
      ]
     },
     "execution_count": 26,
     "metadata": {},
     "output_type": "execute_result"
    }
   ],
   "source": [
    "s[0].mean(), s[0].std()"
   ]
  },
  {
   "cell_type": "code",
   "execution_count": 27,
   "id": "558dce23-a3bc-488e-afa0-f71146692783",
   "metadata": {
    "tags": []
   },
   "outputs": [],
   "source": [
    "# I believe this is to try and get the range of the images into the same range as \n",
    "# the inputs to the image classifier when it sees images from mnist\n",
    "s = s*2-1"
   ]
  },
  {
   "cell_type": "code",
   "execution_count": 28,
   "id": "defc5a6c-46d2-4d4d-be23-a84cf0072a96",
   "metadata": {
    "tags": []
   },
   "outputs": [
    {
     "data": {
      "text/plain": [
       "(tensor(-0.70), tensor(0.57))"
      ]
     },
     "execution_count": 28,
     "metadata": {},
     "output_type": "execute_result"
    }
   ],
   "source": [
    "s[0].mean(), s[0].std()"
   ]
  },
  {
   "cell_type": "code",
   "execution_count": 29,
   "id": "15bc950f-8d2f-4a61-b7d1-fbd09b781e8e",
   "metadata": {
    "tags": []
   },
   "outputs": [
    {
     "data": {
      "image/png": "[encoded data removed]",
      "text/plain": [
       "<Figure size 600x600 with 16 Axes>"
      ]
     },
     "metadata": {},
     "output_type": "display_data"
    }
   ],
   "source": [
    "show_images(s[:16], imsize=1.5)"
   ]
  },
  {
   "cell_type": "markdown",
   "id": "bf094069-4669-4c63-91bf-011e3b5b93a1",
   "metadata": {},
   "source": [
    "Now create a learner that will pass the images through the classifier.  We have to pass in the targets as well but this can be anything as its not used.  We are not training and so don't\n",
    "need an optimiser or loss function.  Capture preds will pass the entire validation set through the model and return the predictions as well as the (irrelevant) targets"
   ]
  },
  {
   "cell_type": "code",
   "execution_count": 30,
   "id": "fdef73c0-7d77-4f81-a737-550058957b56",
   "metadata": {
    "tags": []
   },
   "outputs": [
    {
     "data": {
      "text/plain": [
       "torch.Size([256, 512])"
      ]
     },
     "execution_count": 30,
     "metadata": {},
     "output_type": "execute_result"
    }
   ],
   "source": [
    "clearn = TrainLearner(model, DataLoaders([],[(s,yb)]), loss_func=fc.noop, cbs=[DeviceCB()], \n",
    "                      opt_func=None)\n",
    "feats2,y2 = clearn.capture_preds()\n",
    "feats2 = feats2.float().squeeze()\n",
    "feats2.shape"
   ]
  },
  {
   "cell_type": "markdown",
   "id": "98d133f4-b789-4a72-9eed-adf66075f914",
   "metadata": {},
   "source": [
    "This has generated one 512 feature vector for each image"
   ]
  },
  {
   "cell_type": "code",
   "execution_count": 31,
   "id": "ec6ea7b3-8f0a-435e-9eca-ff1b77bb8709",
   "metadata": {
    "tags": []
   },
   "outputs": [
    {
     "data": {
      "text/plain": [
       "torch.Size([512])"
      ]
     },
     "execution_count": 31,
     "metadata": {},
     "output_type": "execute_result"
    }
   ],
   "source": [
    "# Take the mean across the feature generated by passing mnist images through the classifier\n",
    "# (FID is for overall sets of images and not individual images)\n",
    "means = feats.mean(0)\n",
    "means.shape"
   ]
  },
  {
   "cell_type": "code",
   "execution_count": 32,
   "id": "616f046c-f569-487e-9270-a2f3ff8598de",
   "metadata": {
    "tags": []
   },
   "outputs": [
    {
     "data": {
      "text/plain": [
       "torch.Size([512, 512])"
      ]
     },
     "execution_count": 32,
     "metadata": {},
     "output_type": "execute_result"
    }
   ],
   "source": [
    "# Generate the covariance matrix of the vector against itself.  Note that the covariance\n",
    "# function requires the rows to be the variables and the columns to be the observations \n",
    "covs = feats.T.cov()\n",
    "covs.shape"
   ]
  },
  {
   "cell_type": "code",
   "execution_count": 33,
   "id": "0f0b5e94-8320-4343-aa2e-32d21c56f0c4",
   "metadata": {
    "tags": []
   },
   "outputs": [
    {
     "data": {
      "text/plain": [
       "torch.Size([512, 10000])"
      ]
     },
     "execution_count": 33,
     "metadata": {},
     "output_type": "execute_result"
    }
   ],
   "source": [
    "feats.T.shape"
   ]
  },
  {
   "cell_type": "code",
   "execution_count": 34,
   "id": "402fe5b0-3ea0-468b-b202-603afee12557",
   "metadata": {
    "tags": []
   },
   "outputs": [],
   "source": [
    "#|export\n",
    "def _sqrtm_newton_schulz(mat, num_iters=100):\n",
    "    \"\"\" This is the way to generate the square root of a matrix in an iterative manner\n",
    "    It is not actually used but the  scipy library contains this function and that is used\n",
    "    instead\n",
    "    \"\"\"\n",
    "    mat_nrm = mat.norm()\n",
    "    mat = mat.double()\n",
    "    Y = mat/mat_nrm\n",
    "    n = len(mat)\n",
    "    I = torch.eye(n, n).to(mat)\n",
    "    Z = torch.eye(n, n).to(mat)\n",
    "\n",
    "    for i in range(num_iters):\n",
    "        T = (3*I - Z@Y)/2\n",
    "        Y,Z = Y@T,T@Z\n",
    "        res = Y*mat_nrm.sqrt()\n",
    "        if ((mat-(res@res)).norm()/mat_nrm).abs()<=1e-6: break\n",
    "    return res"
   ]
  },
  {
   "cell_type": "code",
   "execution_count": 35,
   "id": "6009420e-ef98-42ac-99a0-32fd44f6ea55",
   "metadata": {
    "tags": []
   },
   "outputs": [],
   "source": [
    "#|export\n",
    "def _calc_stats(feats):\n",
    "    \"\"\" calculate the mean and co-variance of the features.  The covariance defines the\n",
    "    relative linkage of different features\n",
    "    \"\"\"\n",
    "    feats = feats.squeeze()\n",
    "    return feats.mean(0),feats.T.cov()\n",
    "\n",
    "def _calc_fid(m1,c1,m2,c2):\n",
    "#     csr = _sqrtm_newton_schulz(c1@c2)\n",
    "    csr = tensor(linalg.sqrtm(c1@c2, 256).real)\n",
    "    return (((m1-m2)**2).sum() + c1.trace() + c2.trace() - 2*csr.trace()).item()"
   ]
  },
  {
   "cell_type": "code",
   "execution_count": 36,
   "id": "28d84451-8d87-4c61-baf9-13329e5bedc5",
   "metadata": {
    "tags": []
   },
   "outputs": [],
   "source": [
    "s1,s2 = _calc_stats(feats),_calc_stats(feats2)"
   ]
  },
  {
   "cell_type": "code",
   "execution_count": 37,
   "id": "86d8c8f4-230e-48e2-9736-6629b2cbe5ed",
   "metadata": {
    "tags": []
   },
   "outputs": [
    {
     "data": {
      "text/plain": [
       "40.89117431640625"
      ]
     },
     "execution_count": 37,
     "metadata": {},
     "output_type": "execute_result"
    }
   ],
   "source": [
    "_calc_fid(*s1, *s2)"
   ]
  },
  {
   "cell_type": "code",
   "execution_count": 38,
   "id": "e7131570-8882-4e28-aa80-ed85959c223e",
   "metadata": {
    "tags": []
   },
   "outputs": [],
   "source": [
    "#|export\n",
    "def _squared_mmd(x, y):\n",
    "    def k(a,b): return (a@b.transpose(-2,-1)/a.shape[-1]+1)**3\n",
    "    m,n = x.shape[-2],y.shape[-2]\n",
    "    kxx,kyy,kxy = k(x,x), k(y,y), k(x,y)\n",
    "    kxx_sum = kxx.sum([-1,-2])-kxx.diagonal(0,-1,-2).sum(-1)\n",
    "    kyy_sum = kyy.sum([-1,-2])-kyy.diagonal(0,-1,-2).sum(-1)\n",
    "    kxy_sum = kxy.sum([-1,-2])\n",
    "    return kxx_sum/m/(m-1) + kyy_sum/n/(n-1) - kxy_sum*2/m/n"
   ]
  },
  {
   "cell_type": "code",
   "execution_count": 39,
   "id": "38bfd545-6fdb-4ea4-b810-f9fa2c964af0",
   "metadata": {
    "tags": []
   },
   "outputs": [],
   "source": [
    "#|export\n",
    "def _calc_kid(x, y, maxs=50):\n",
    "    xs,ys = x.shape[0],y.shape[0]\n",
    "    n = max(math.ceil(min(xs/maxs, ys/maxs)), 4)\n",
    "    mmd = 0.\n",
    "    for i in range(n):\n",
    "        cur_x = x[round(i*xs/n) : round((i+1)*xs/n)]\n",
    "        cur_y = y[round(i*ys/n) : round((i+1)*ys/n)]\n",
    "        mmd += _squared_mmd(cur_x, cur_y)\n",
    "    return (mmd/n).item()"
   ]
  },
  {
   "cell_type": "code",
   "execution_count": 40,
   "id": "93c1b3e4-5bb3-4c56-a434-be4a7c4d0020",
   "metadata": {
    "tags": []
   },
   "outputs": [
    {
     "data": {
      "text/plain": [
       "0.12233797460794449"
      ]
     },
     "execution_count": 40,
     "metadata": {},
     "output_type": "execute_result"
    }
   ],
   "source": [
    "_calc_kid(feats, feats2)"
   ]
  },
  {
   "cell_type": "markdown",
   "id": "408b061d-c37a-4302-897e-763174354a39",
   "metadata": {},
   "source": [
    "## FID class "
   ]
  },
  {
   "cell_type": "code",
   "execution_count": 42,
   "id": "444c6d7a-6098-41fa-9d86-ee7bf34e6f65",
   "metadata": {},
   "outputs": [],
   "source": [
    "#|export\n",
    "class ImageEval:\n",
    "    \"\"\" Class to calculate FID and KID.  In both cases the model should be a classifier\n",
    "    or similar that is trained to catagorise images.  The sample passed to the fid or kid \n",
    "    methods should be the generated images|\n",
    "    \"\"\"\n",
    "    def __init__(self, model, dls, cbs=None):\n",
    "        \"\"\" \n",
    "        \"\"\"\n",
    "        self.learn = TrainLearner(model, dls, loss_func=fc.noop, cbs=cbs, opt_func=None)\n",
    "        self.feats = self.learn.capture_preds()[0].float().cpu().squeeze()\n",
    "        self.stats = _calc_stats(self.feats)\n",
    "\n",
    "    def get_feats(self, samp):\n",
    "        self.learn.dls = DataLoaders([],[(samp, tensor([0]))])\n",
    "        return self.learn.capture_preds()[0].float().cpu().squeeze()\n",
    "\n",
    "    def fid(self, samp): return _calc_fid(*self.stats, *_calc_stats(self.get_feats(samp)))\n",
    "    def kid(self, samp): return _calc_kid(self.feats, self.get_feats(samp))"
   ]
  },
  {
   "cell_type": "markdown",
   "id": "334304ce-b16a-444f-9659-426d338cb505",
   "metadata": {},
   "source": [
    "Calculate FID and KID for the samples generated above"
   ]
  },
  {
   "cell_type": "code",
   "execution_count": 43,
   "id": "6d58cf5d-8adc-4b0e-b01f-d28ead078bd0",
   "metadata": {},
   "outputs": [],
   "source": [
    "ie = ImageEval(model, dls, cbs=[DeviceCB()])"
   ]
  },
  {
   "cell_type": "code",
   "execution_count": 44,
   "id": "31a48cbd-2b3b-4369-8bfe-add492c9099d",
   "metadata": {},
   "outputs": [
    {
     "name": "stdout",
     "output_type": "stream",
     "text": [
      "CPU times: user 1.08 s, sys: 2.19 s, total: 3.27 s\n",
      "Wall time: 595 ms\n"
     ]
    },
    {
     "data": {
      "text/plain": [
       "40.96942138671875"
      ]
     },
     "execution_count": 44,
     "metadata": {},
     "output_type": "execute_result"
    }
   ],
   "source": [
    "%%time\n",
    "ie.fid(s)"
   ]
  },
  {
   "cell_type": "raw",
   "id": "cf2fd342-2ef4-407d-84cc-d989330e8ec2",
   "metadata": {},
   "source": [
    "%%time\n",
    "ie.kid(s)"
   ]
  },
  {
   "cell_type": "markdown",
   "id": "ed6ec53c-fd9c-476b-af08-604295d2fef6",
   "metadata": {},
   "source": [
    "Explore how the FID score changes through the generation process"
   ]
  },
  {
   "cell_type": "code",
   "execution_count": 53,
   "id": "d9e610b4-c8bd-4bfe-9ffe-fdd675efbe13",
   "metadata": {},
   "outputs": [
    {
     "data": {
      "text/plain": [
       "[<matplotlib.lines.Line2D at 0x7f1c773d8af0>]"
      ]
     },
     "execution_count": 53,
     "metadata": {},
     "output_type": "execute_result"
    },
    {
     "data": {
      "image/png": "[encoded data removed]",
      "text/plain": [
       "<Figure size 640x480 with 1 Axes>"
      ]
     },
     "metadata": {},
     "output_type": "display_data"
    }
   ],
   "source": [
    "xs = L.range(0, 1000, 50) +[975, 990, 999]\n",
    "plt.plot(xs, [ie.fid(samples[i].clamp(-0.5, 0.5)*2) for i in xs])"
   ]
  },
  {
   "cell_type": "code",
   "execution_count": 54,
   "id": "3898c265-5a30-4ca9-a67d-c87c650d4340",
   "metadata": {},
   "outputs": [
    {
     "data": {
      "text/plain": [
       "[<matplotlib.lines.Line2D at 0x7f1c7713c5e0>]"
      ]
     },
     "execution_count": 54,
     "metadata": {},
     "output_type": "execute_result"
    },
    {
     "data": {
      "image/png": "[encoded data removed]",
      "text/plain": [
       "<Figure size 640x480 with 1 Axes>"
      ]
     },
     "metadata": {},
     "output_type": "display_data"
    }
   ],
   "source": [
    "xs = L.range(0, 1000, 50) +[975, 990, 999]\n",
    "plt.plot(xs, [ie.kid(samples[i].clamp(-0.5, 0.5)*2) for i in xs])"
   ]
  },
  {
   "cell_type": "markdown",
   "id": "a10a1562-02b4-44a4-8968-cd4ee493d4a4",
   "metadata": {},
   "source": [
    "Explore passing in a batch of real images"
   ]
  },
  {
   "cell_type": "code",
   "execution_count": 56,
   "id": "932b7151-3d08-421c-99d8-16a94d77b980",
   "metadata": {},
   "outputs": [
    {
     "data": {
      "text/plain": [
       "512"
      ]
     },
     "execution_count": 56,
     "metadata": {},
     "output_type": "execute_result"
    }
   ],
   "source": [
    "len(xb)"
   ]
  },
  {
   "cell_type": "code",
   "execution_count": 57,
   "id": "52714427-b4de-4436-a563-c53410b213d6",
   "metadata": {},
   "outputs": [
    {
     "data": {
      "text/plain": [
       "5.92633056640625"
      ]
     },
     "execution_count": 57,
     "metadata": {},
     "output_type": "execute_result"
    }
   ],
   "source": [
    "ie.fid(xb)"
   ]
  },
  {
   "cell_type": "code",
   "execution_count": 58,
   "id": "08be1f5f-0fee-41cd-918f-b17a980237b3",
   "metadata": {},
   "outputs": [
    {
     "data": {
      "text/plain": [
       "-0.015781013295054436"
      ]
     },
     "execution_count": 58,
     "metadata": {},
     "output_type": "execute_result"
    }
   ],
   "source": [
    "ie.kid(xb)"
   ]
  },
  {
   "cell_type": "markdown",
   "id": "82ca101b-9c93-420f-9fb0-51eef88483e9",
   "metadata": {},
   "source": [
    "## Inception "
   ]
  },
  {
   "cell_type": "code",
   "execution_count": 60,
   "id": "d4967c67-6269-42d5-bc5e-406ab6416fe6",
   "metadata": {},
   "outputs": [],
   "source": [
    "from pytorch_fid.inception import InceptionV3"
   ]
  },
  {
   "cell_type": "code",
   "execution_count": 64,
   "id": "ce0e16e5-3a98-436b-a478-f9d306f13797",
   "metadata": {},
   "outputs": [],
   "source": [
    "class InceptionWrap(nn.Module):\n",
    "    \"\"\" Class to wrap the inception model.  The only function of to repeat the input\n",
    "    channels and to set it to resize the input (to the value usually expected, around 290)\n",
    "    \"\"\"\n",
    "    def __init__(self):\n",
    "        super().__init__()\n",
    "        self.m = InceptionV3(resize_input=True)\n",
    "    def forward(self, x): return self.m(x.repeat(1,3,1,1))[0]"
   ]
  },
  {
   "cell_type": "code",
   "execution_count": 65,
   "id": "8b88acff-ca73-4eac-be38-f82371f2371d",
   "metadata": {},
   "outputs": [],
   "source": [
    "tds = dsd.with_transform(transformi)\n",
    "dls = DataLoaders.from_dd(tds, bs, num_workers=fc.defaults.cpus)"
   ]
  },
  {
   "cell_type": "code",
   "execution_count": 66,
   "id": "c68671e3-dd7f-4c4d-92c6-74cb290f1703",
   "metadata": {},
   "outputs": [
    {
     "name": "stderr",
     "output_type": "stream",
     "text": [
      "Downloading: \"https://github.com/mseitzer/pytorch-fid/releases/download/fid_weights/pt_inception-2015-12-05-6726825d.pth\" to /home/.cache/torch/hub/checkpoints/pt_inception-2015-12-05-6726825d.pth\n"
     ]
    },
    {
     "data": {
      "application/vnd.jupyter.widget-view+json": {
       "model_id": "755455bd5f9e445396edd24b2a3d7839",
       "version_major": 2,
       "version_minor": 0
      },
      "text/plain": [
       "  0%|          | 0.00/91.2M [00:00<?, ?B/s]"
      ]
     },
     "metadata": {},
     "output_type": "display_data"
    }
   ],
   "source": [
    "# Use the inception model as the feature generator.  Note that this creates three \n",
    "# input channels since inception expects a color model\n",
    "ie = ImageEval(InceptionWrap(), dls, cbs=[DeviceCB()])"
   ]
  },
  {
   "cell_type": "code",
   "execution_count": 67,
   "id": "5e7f598c-17b2-4ef0-8fb2-55884bc248d9",
   "metadata": {},
   "outputs": [
    {
     "name": "stdout",
     "output_type": "stream",
     "text": [
      "CPU times: user 19.8 s, sys: 17.2 s, total: 37 s\n",
      "Wall time: 6.35 s\n"
     ]
    },
    {
     "data": {
      "text/plain": [
       "60.67002868652344"
      ]
     },
     "execution_count": 67,
     "metadata": {},
     "output_type": "execute_result"
    }
   ],
   "source": [
    "%%time\n",
    "ie.fid(s)"
   ]
  },
  {
   "cell_type": "code",
   "execution_count": 68,
   "id": "31d2a6f8-5803-45e0-84b9-d84f3ac3e982",
   "metadata": {},
   "outputs": [
    {
     "data": {
      "text/plain": [
       "27.914154052734375"
      ]
     },
     "execution_count": 68,
     "metadata": {},
     "output_type": "execute_result"
    }
   ],
   "source": [
    "ie.fid(xb)"
   ]
  },
  {
   "cell_type": "code",
   "execution_count": 69,
   "id": "da87dfca-9d68-4c0b-8095-ad694e47e68a",
   "metadata": {},
   "outputs": [
    {
     "name": "stdout",
     "output_type": "stream",
     "text": [
      "CPU times: user 1.92 s, sys: 353 ms, total: 2.27 s\n",
      "Wall time: 516 ms\n"
     ]
    },
    {
     "data": {
      "text/plain": [
       "0.009413480758666992"
      ]
     },
     "execution_count": 69,
     "metadata": {},
     "output_type": "execute_result"
    }
   ],
   "source": [
    "%%time\n",
    "ie.kid(s)"
   ]
  },
  {
   "cell_type": "code",
   "execution_count": 70,
   "id": "e5b62e5c-fe6d-4d57-9fee-70328eb55db6",
   "metadata": {},
   "outputs": [
    {
     "data": {
      "text/plain": [
       "-8.641590102342889e-05"
      ]
     },
     "execution_count": 70,
     "metadata": {},
     "output_type": "execute_result"
    }
   ],
   "source": [
    "ie.kid(xb)"
   ]
  },
  {
   "cell_type": "markdown",
   "id": "95b5a38d-c131-4a40-a243-a28cb6b62ffb",
   "metadata": {},
   "source": [
    "## Export -\n"
   ]
  },
  {
   "cell_type": "code",
   "execution_count": 72,
   "id": "644f9f29-58b3-430e-8cf3-47be3b345c5f",
   "metadata": {},
   "outputs": [],
   "source": [
    "import nbdev; nbdev.nbdev_export()"
   ]
  }
 ],
 "metadata": {
  "kernelspec": {
   "display_name": "c22penv",
   "language": "python",
   "name": "c22penv"
  },
  "language_info": {
   "codemirror_mode": {
    "name": "ipython",
    "version": 3
   },
   "file_extension": ".py",
   "mimetype": "text/x-python",
   "name": "python",
   "nbconvert_exporter": "python",
   "pygments_lexer": "ipython3",
   "version": "3.9.15"
  }
 },
 "nbformat": 4,
 "nbformat_minor": 5
}

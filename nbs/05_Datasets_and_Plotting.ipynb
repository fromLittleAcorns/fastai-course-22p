{
 "cells": [
  {
   "cell_type": "code",
   "execution_count": 2,
   "id": "ea9e635c",
   "metadata": {},
   "outputs": [],
   "source": [
    "#| default_exp datasets"
   ]
  },
  {
   "cell_type": "code",
   "execution_count": 3,
   "id": "0508f2cc",
   "metadata": {},
   "outputs": [],
   "source": [
    "#|export\n",
    "from __future__ import annotations\n",
    "import pickle,gzip,math,os,time,shutil,torch,matplotlib as mpl,numpy as np,matplotlib.pyplot as plt\n",
    "from pathlib import Path\n",
    "from operator import itemgetter\n",
    "from itertools import zip_longest\n",
    "import fastcore.all as fc\n",
    "\n",
    "from torch import tensor,nn,optim\n",
    "from torch.utils.data import DataLoader,default_collate\n",
    "import torch.nn.functional as F\n",
    "\n",
    "from datasets import load_dataset,load_dataset_builder"
   ]
  },
  {
   "cell_type": "code",
   "execution_count": 4,
   "id": "0f361a0d",
   "metadata": {},
   "outputs": [],
   "source": [
    "import torchvision.transforms.functional as TF\n",
    "from fastcore.test import test_close\n",
    "\n",
    "torch.set_printoptions(precision=2, linewidth=140, sci_mode=False)\n",
    "torch.manual_seed(1)\n",
    "mpl.rcParams['image.cmap'] = 'gray_r'"
   ]
  },
  {
   "cell_type": "code",
   "execution_count": 5,
   "id": "6b818fa3",
   "metadata": {},
   "outputs": [],
   "source": [
    "import logging\n",
    "logging.disable(logging.WARNING)"
   ]
  },
  {
   "cell_type": "markdown",
   "id": "908633c6",
   "metadata": {},
   "source": [
    "## Hugging Face Datasets\n",
    "\n",
    "Note that a list of the available can be found on the Hugging Face hub: \n",
    "\n",
    "[Hugging Face Hub](https://huggingface.co/datasets)"
   ]
  },
  {
   "cell_type": "code",
   "execution_count": 6,
   "id": "6d51ac31",
   "metadata": {},
   "outputs": [
    {
     "name": "stdout",
     "output_type": "stream",
     "text": [
      "Fashion-MNIST is a dataset of Zalando's article images—consisting of a training set of\n",
      "60,000 examples and a test set of 10,000 examples. Each example is a 28x28 grayscale image,\n",
      "associated with a label from 10 classes. We intend Fashion-MNIST to serve as a direct drop-in\n",
      "replacement for the original MNIST dataset for benchmarking machine learning algorithms.\n",
      "It shares the same image size and structure of training and testing splits.\n",
      "\n"
     ]
    }
   ],
   "source": [
    "name = \"fashion_mnist\"\n",
    "ds_builder = load_dataset_builder(name)\n",
    "print(ds_builder.info.description)"
   ]
  },
  {
   "cell_type": "markdown",
   "id": "824773fa",
   "metadata": {},
   "source": [
    "The dataset builder has a number of useful properties that can help better understand a dataset.  These are mostly sub properties the info attribute and include:\n",
    "- features\n",
    "- splits\n",
    "- homepage\n",
    "\n",
    "And lots of other useful things.\n",
    "\n",
    "Dataset builder allows obtaining details about he dataset without actually downloading it.  Accessing the dataset then uses the load_dataet mehod\n"
   ]
  },
  {
   "cell_type": "code",
   "execution_count": 7,
   "id": "707a4218",
   "metadata": {},
   "outputs": [
    {
     "data": {
      "text/plain": [
       "{'image': Image(decode=True, id=None),\n",
       " 'label': ClassLabel(names=['T - shirt / top', 'Trouser', 'Pullover', 'Dress', 'Coat', 'Sandal', 'Shirt', 'Sneaker', 'Bag', 'Ankle boot'], id=None)}"
      ]
     },
     "execution_count": 7,
     "metadata": {},
     "output_type": "execute_result"
    }
   ],
   "source": [
    "ds_builder.info.features"
   ]
  },
  {
   "cell_type": "code",
   "execution_count": 8,
   "id": "f49d84de",
   "metadata": {},
   "outputs": [
    {
     "data": {
      "text/plain": [
       "{'train': SplitInfo(name='train', num_bytes=31296607, num_examples=60000, shard_lengths=None, dataset_name='fashion_mnist'),\n",
       " 'test': SplitInfo(name='test', num_bytes=5233810, num_examples=10000, shard_lengths=None, dataset_name='fashion_mnist')}"
      ]
     },
     "execution_count": 8,
     "metadata": {},
     "output_type": "execute_result"
    }
   ],
   "source": [
    "ds_builder.info.splits"
   ]
  },
  {
   "cell_type": "code",
   "execution_count": 9,
   "id": "960906f7",
   "metadata": {},
   "outputs": [
    {
     "data": {
      "application/vnd.jupyter.widget-view+json": {
       "model_id": "96e88836c0b74d8085960d40687d6002",
       "version_major": 2,
       "version_minor": 0
      },
      "text/plain": [
       "  0%|          | 0/2 [00:00<?, ?it/s]"
      ]
     },
     "metadata": {},
     "output_type": "display_data"
    }
   ],
   "source": [
    "ds_loader = load_dataset(name)"
   ]
  },
  {
   "cell_type": "markdown",
   "id": "36ae2763",
   "metadata": {},
   "source": [
    "The ds_loader object contains the whole dataset.  We can extact the splits into separate datasets"
   ]
  },
  {
   "cell_type": "code",
   "execution_count": 10,
   "id": "0061223e",
   "metadata": {},
   "outputs": [],
   "source": [
    "train_ds, test_ds = ds_loader['train'], ds_loader['test']"
   ]
  },
  {
   "cell_type": "code",
   "execution_count": 11,
   "id": "ba67c3b4",
   "metadata": {},
   "outputs": [
    {
     "data": {
      "text/plain": [
       "{'image': <PIL.PngImagePlugin.PngImageFile image mode=L size=28x28>,\n",
       " 'label': 9}"
      ]
     },
     "execution_count": 11,
     "metadata": {},
     "output_type": "execute_result"
    }
   ],
   "source": [
    "train_ds[0]"
   ]
  },
  {
   "cell_type": "markdown",
   "id": "6f9179f7",
   "metadata": {},
   "source": [
    "The way the Hugging Face datasets work is through the use of dictionaries.  To make it easy to access the values it is easiest to assign the keys into variables so that they can be used to retireve the values more easily"
   ]
  },
  {
   "cell_type": "code",
   "execution_count": 12,
   "id": "81b4349f",
   "metadata": {},
   "outputs": [
    {
     "data": {
      "text/plain": [
       "('image', 'label')"
      ]
     },
     "execution_count": 12,
     "metadata": {},
     "output_type": "execute_result"
    }
   ],
   "source": [
    "x, y = ds_builder.info.features\n",
    "x, y"
   ]
  },
  {
   "cell_type": "markdown",
   "id": "f554f60c",
   "metadata": {},
   "source": [
    "Load and display an x value"
   ]
  },
  {
   "cell_type": "code",
   "execution_count": 13,
   "id": "5a4f350a",
   "metadata": {},
   "outputs": [
    {
     "data": {
      "image/png": "[encoded data removed]",
      "text/plain": [
       "<PIL.PngImagePlugin.PngImageFile image mode=L size=28x28>"
      ]
     },
     "execution_count": 13,
     "metadata": {},
     "output_type": "execute_result"
    }
   ],
   "source": [
    "img = train_ds[0][x]\n",
    "img"
   ]
  },
  {
   "cell_type": "markdown",
   "id": "6bedb185",
   "metadata": {},
   "source": [
    "To fully unlock the label it helps to have effectively a conversion.  The dataset features attribute then has a key names, which can be indexed to return the class label for a class index.  The class contains a method int2str to achieve this for a list"
   ]
  },
  {
   "cell_type": "code",
   "execution_count": 14,
   "id": "9198aeab",
   "metadata": {},
   "outputs": [
    {
     "data": {
      "text/plain": [
       "ClassLabel(names=['T - shirt / top', 'Trouser', 'Pullover', 'Dress', 'Coat', 'Sandal', 'Shirt', 'Sneaker', 'Bag', 'Ankle boot'], id=None)"
      ]
     },
     "execution_count": 14,
     "metadata": {},
     "output_type": "execute_result"
    }
   ],
   "source": [
    "featy = train_ds.features[y]\n",
    "featy"
   ]
  },
  {
   "cell_type": "code",
   "execution_count": 15,
   "id": "92681e64",
   "metadata": {},
   "outputs": [],
   "source": [
    "xb, yb = train_ds[:5][x], train_ds[:5][y]"
   ]
  },
  {
   "cell_type": "code",
   "execution_count": 16,
   "id": "cf5ae4ac",
   "metadata": {},
   "outputs": [
    {
     "data": {
      "text/plain": [
       "[9, 0, 0, 3, 0]"
      ]
     },
     "execution_count": 16,
     "metadata": {},
     "output_type": "execute_result"
    }
   ],
   "source": [
    "yb"
   ]
  },
  {
   "cell_type": "code",
   "execution_count": 17,
   "id": "407ae562",
   "metadata": {},
   "outputs": [
    {
     "data": {
      "text/plain": [
       "['Ankle boot',\n",
       " 'T - shirt / top',\n",
       " 'T - shirt / top',\n",
       " 'Dress',\n",
       " 'T - shirt / top']"
      ]
     },
     "execution_count": 17,
     "metadata": {},
     "output_type": "execute_result"
    }
   ],
   "source": [
    "yb_labels = featy.int2str(yb)\n",
    "yb_labels"
   ]
  },
  {
   "cell_type": "code",
   "execution_count": 18,
   "id": "189a7a76",
   "metadata": {},
   "outputs": [
    {
     "data": {
      "text/plain": [
       "{'image': [<PIL.PngImagePlugin.PngImageFile image mode=L size=28x28>,\n",
       "  <PIL.PngImagePlugin.PngImageFile image mode=L size=28x28>,\n",
       "  <PIL.PngImagePlugin.PngImageFile image mode=L size=28x28>],\n",
       " 'label': [9, 0, 0]}"
      ]
     },
     "execution_count": 18,
     "metadata": {},
     "output_type": "execute_result"
    }
   ],
   "source": [
    "train_ds[0:3]"
   ]
  },
  {
   "cell_type": "markdown",
   "id": "89744ac8",
   "metadata": {},
   "source": [
    "#### Creating a collate function to work with this dataset"
   ]
  },
  {
   "cell_type": "markdown",
   "id": "f317c9dd",
   "metadata": {},
   "source": [
    "A function is needed to facilitate loading a batch of data returned from the dataset into stacked torch tensors\n",
    "\n",
    "input: a batch of data returned by the dataset getitems"
   ]
  },
  {
   "cell_type": "code",
   "execution_count": 19,
   "id": "2dd01992",
   "metadata": {},
   "outputs": [],
   "source": [
    "def collate_fn(b):\n",
    "    var_dict = {x: torch.stack([TF.to_tensor(xys[x]) for xys in b]),\n",
    "                y: tensor([xys[y] for xys in b])}\n",
    "    return var_dict\n",
    "    "
   ]
  },
  {
   "cell_type": "code",
   "execution_count": 20,
   "id": "09d16cb1",
   "metadata": {},
   "outputs": [],
   "source": [
    "dl=DataLoader(train_ds, collate_fn=collate_fn, batch_size=16)"
   ]
  },
  {
   "cell_type": "code",
   "execution_count": 21,
   "id": "f603a3bf",
   "metadata": {},
   "outputs": [
    {
     "data": {
      "text/plain": [
       "tensor([9, 0, 0, 3, 0, 2, 7, 2, 5, 5, 0, 9, 5, 5, 7, 9])"
      ]
     },
     "execution_count": 21,
     "metadata": {},
     "output_type": "execute_result"
    }
   ],
   "source": [
    "batch = next(iter(dl))\n",
    "batch[y]"
   ]
  },
  {
   "cell_type": "code",
   "execution_count": 22,
   "id": "2911ae37",
   "metadata": {},
   "outputs": [
    {
     "data": {
      "text/plain": [
       "torch.Size([16, 1, 28, 28])"
      ]
     },
     "execution_count": 22,
     "metadata": {},
     "output_type": "execute_result"
    }
   ],
   "source": [
    "batch[x].shape"
   ]
  },
  {
   "cell_type": "markdown",
   "id": "b26dc285",
   "metadata": {},
   "source": [
    "#### Start to build the transforms into the dataloader process "
   ]
  },
  {
   "cell_type": "code",
   "execution_count": 23,
   "id": "7eb4f057",
   "metadata": {},
   "outputs": [],
   "source": [
    "def transforms(batch):\n",
    "    # Note that this will only process the x values\n",
    "    batch[x] = [TF.to_tensor(xys) for xys in batch[x]]\n",
    "    return batch"
   ]
  },
  {
   "cell_type": "markdown",
   "id": "efc30872",
   "metadata": {},
   "source": [
    "The Hugging Face dataset contains a method with_transform that applies a transform to a batch immediately before it is returned.  It looks as though it automatically converts the y values into a torch array"
   ]
  },
  {
   "cell_type": "code",
   "execution_count": 24,
   "id": "0bc7befb",
   "metadata": {},
   "outputs": [
    {
     "data": {
      "text/plain": [
       "(torch.Size([16, 1, 28, 28]),\n",
       " tensor([9, 0, 0, 3, 0, 2, 7, 2, 5, 5, 0, 9, 5, 5, 7, 9]))"
      ]
     },
     "execution_count": 24,
     "metadata": {},
     "output_type": "execute_result"
    }
   ],
   "source": [
    "tls = train_ds.with_transform(transforms)\n",
    "dl = DataLoader(tls, batch_size=16)\n",
    "b = next(iter(dl))\n",
    "b[x].shape, b[y]\n"
   ]
  },
  {
   "cell_type": "markdown",
   "id": "9f7a993c",
   "metadata": {},
   "source": [
    "The image needs to be flattened prior to returning and so the transforms can be modified"
   ]
  },
  {
   "cell_type": "code",
   "execution_count": 25,
   "id": "9f9fdb66",
   "metadata": {},
   "outputs": [],
   "source": [
    "def _transformi(batch):\n",
    "    # Note that this will only process the x values\n",
    "    batch[x] = [torch.flatten(TF.to_tensor(xys)) for xys in batch[x]]\n",
    "    return batch"
   ]
  },
  {
   "cell_type": "markdown",
   "id": "4c4925c4",
   "metadata": {},
   "source": [
    "Don't fully understand the inplace function below.  It looks as though when a function is called it returns the new value over the existing value"
   ]
  },
  {
   "cell_type": "code",
   "execution_count": 26,
   "id": "d1929b87",
   "metadata": {},
   "outputs": [],
   "source": [
    "#|export\n",
    "def inplace(f):\n",
    "    def _f(b):\n",
    "        f(b)\n",
    "        return b\n",
    "    return _f"
   ]
  },
  {
   "cell_type": "code",
   "execution_count": 27,
   "id": "da80e821",
   "metadata": {},
   "outputs": [],
   "source": [
    "transformi = inplace(_transformi)"
   ]
  },
  {
   "cell_type": "code",
   "execution_count": 28,
   "id": "02d4e5ab",
   "metadata": {},
   "outputs": [
    {
     "data": {
      "text/plain": [
       "(torch.Size([784]), 9)"
      ]
     },
     "execution_count": 28,
     "metadata": {},
     "output_type": "execute_result"
    }
   ],
   "source": [
    "r = train_ds.with_transform(transformi)[0]\n",
    "r[x].shape,r[y]"
   ]
  },
  {
   "cell_type": "markdown",
   "id": "aa7c44b4",
   "metadata": {},
   "source": [
    "The above function can then be used as a decorator"
   ]
  },
  {
   "cell_type": "code",
   "execution_count": 29,
   "id": "08a5b6ce",
   "metadata": {},
   "outputs": [],
   "source": [
    "@inplace\n",
    "def transformi(batch): batch[x] = [torch.flatten(TF.to_tensor(xbs)) for xbs in batch[x]]"
   ]
  },
  {
   "cell_type": "code",
   "execution_count": 30,
   "id": "4443f50c",
   "metadata": {},
   "outputs": [
    {
     "data": {
      "text/plain": [
       "(torch.Size([784]), 9)"
      ]
     },
     "execution_count": 30,
     "metadata": {},
     "output_type": "execute_result"
    }
   ],
   "source": [
    "tdsf = train_ds.with_transform(transformi)\n",
    "r = tdsf[0]\n",
    "r[x].shape, r[y]"
   ]
  },
  {
   "cell_type": "markdown",
   "id": "2e2cb1dc",
   "metadata": {},
   "source": [
    "#### Add in the collate_dict"
   ]
  },
  {
   "cell_type": "code",
   "execution_count": 31,
   "id": "fd20034c",
   "metadata": {},
   "outputs": [],
   "source": [
    "class Demo():\n",
    "    def __getitem__(self, k):\n",
    "        return 1 if k=='a' else 2 if k=='b' else 3"
   ]
  },
  {
   "cell_type": "code",
   "execution_count": 32,
   "id": "92a85a41",
   "metadata": {},
   "outputs": [
    {
     "data": {
      "text/plain": [
       "1"
      ]
     },
     "execution_count": 32,
     "metadata": {},
     "output_type": "execute_result"
    }
   ],
   "source": [
    "demo = Demo()\n",
    "demo['a']"
   ]
  },
  {
   "cell_type": "markdown",
   "id": "979a5813",
   "metadata": {},
   "source": [
    "Adding in the itemgetter function, which is a way to return a tuple of items based upon a variable length set of inputs.  Note that it only returns the highest level of the class properties.  The * before the variable makes it look for multiple inputs, and I think it therefore picks the keys adn not the values one level down"
   ]
  },
  {
   "cell_type": "code",
   "execution_count": 33,
   "id": "5899a313",
   "metadata": {},
   "outputs": [
    {
     "data": {
      "text/plain": [
       "(1, 3)"
      ]
     },
     "execution_count": 33,
     "metadata": {},
     "output_type": "execute_result"
    }
   ],
   "source": [
    "ig = itemgetter('a', 'c')\n",
    "ig(demo)"
   ]
  },
  {
   "cell_type": "markdown",
   "id": "4799eaae",
   "metadata": {},
   "source": [
    "The batch returned from the dataset provides data in the form below:"
   ]
  },
  {
   "cell_type": "code",
   "execution_count": 34,
   "id": "41a93d05",
   "metadata": {},
   "outputs": [
    {
     "data": {
      "text/plain": [
       "({'a': [1], 'b': [2]}, {'a': [3], 'b': [4]})"
      ]
     },
     "execution_count": 34,
     "metadata": {},
     "output_type": "execute_result"
    }
   ],
   "source": [
    "batch = dict(a=[1],b=[2]), dict(a=[3],b=[4])\n",
    "batch"
   ]
  },
  {
   "cell_type": "code",
   "execution_count": 35,
   "id": "a670a6f3",
   "metadata": {},
   "outputs": [
    {
     "data": {
      "text/plain": [
       "{'a': [tensor([1, 3])], 'b': [tensor([2, 4])]}"
      ]
     },
     "execution_count": 35,
     "metadata": {},
     "output_type": "execute_result"
    }
   ],
   "source": [
    "default_collate(batch)"
   ]
  },
  {
   "cell_type": "code",
   "execution_count": 36,
   "id": "3156be5a",
   "metadata": {},
   "outputs": [
    {
     "data": {
      "text/plain": [
       "operator.itemgetter('image', 'label')"
      ]
     },
     "execution_count": 36,
     "metadata": {},
     "output_type": "execute_result"
    }
   ],
   "source": [
    "# This will get the properties 'image', 'label' from whatever it is used against\n",
    "get = itemgetter(*tdsf.features)\n",
    "get"
   ]
  },
  {
   "cell_type": "code",
   "execution_count": 37,
   "id": "f5c9ee0b",
   "metadata": {},
   "outputs": [],
   "source": [
    "# This function will get the values associated wiht the keys defined in get.  In other words it will \n",
    "# return a list of tensors for image and label\n",
    "def _f(b): return get(default_collate(b))"
   ]
  },
  {
   "cell_type": "code",
   "execution_count": 38,
   "id": "9b9ac030",
   "metadata": {},
   "outputs": [],
   "source": [
    "#|export\n",
    "def collate_dict(ds):\n",
    "    \"\"\" when a dataset is defined by a dictionary this will identify the features and split into inputs and outputs\n",
    "    as tensor arrays ready for input to a model\n",
    "    \"\"\"\n",
    "    get = itemgetter(*ds.features)\n",
    "    def _f(b): \n",
    "        # return a tuple containing the values associated with each of the keys returned by the itemgetter\n",
    "        # given that default_collate return a dict with two keys and a stacked tensor for each\n",
    "        return get(default_collate(b))\n",
    "    return _f"
   ]
  },
  {
   "cell_type": "markdown",
   "id": "ef1fc234",
   "metadata": {},
   "source": [
    "Putting it all together we get tdsf as a dataset (which returns values that have had any required transforms applied.  Collate_dict(ds) return a function that will process the data it is supplied with (b) but use the itemgetter defined for the dataset (ie by the dataset features).  This is why it is necessary to pass in tdsf when defining the dataloader.  ds is not what is applied by the dataloader, it is the function returned by collate_dict when setup for the appropriate type , ie by setting the itemgetter to select the correct dictionary keys"
   ]
  },
  {
   "cell_type": "code",
   "execution_count": 39,
   "id": "23d8c114",
   "metadata": {},
   "outputs": [],
   "source": [
    "test_fn = collate_dict(tdsf)"
   ]
  },
  {
   "cell_type": "code",
   "execution_count": 40,
   "id": "d23a00a3",
   "metadata": {},
   "outputs": [
    {
     "data": {
      "text/plain": [
       "(torch.Size([4]), [9, 0, 0, 3, 0])"
      ]
     },
     "execution_count": 40,
     "metadata": {},
     "output_type": "execute_result"
    }
   ],
   "source": [
    "dlf = DataLoader(tdsf, batch_size=4, collate_fn=collate_dict(tdsf))\n",
    "xb,xb = next(iter(dlf))\n",
    "xb.shape,yb"
   ]
  },
  {
   "cell_type": "code",
   "execution_count": 41,
   "id": "943c83d1",
   "metadata": {},
   "outputs": [
    {
     "data": {
      "text/plain": [
       "torch.Size([784])"
      ]
     },
     "execution_count": 41,
     "metadata": {},
     "output_type": "execute_result"
    }
   ],
   "source": [
    "# Create a mini-batch to test the collate function.  This is as it would be supplied from the data loader\n",
    "# to the collate function\n",
    "mini_batch = [tdsf[i] for i in range(4)]\n",
    "mini_batch[0]['image'].shape"
   ]
  },
  {
   "cell_type": "markdown",
   "id": "13da87ab",
   "metadata": {},
   "source": [
    "Feeding the mini-batch through the collate function gives the required outputs"
   ]
  },
  {
   "cell_type": "code",
   "execution_count": 42,
   "id": "46f1a382",
   "metadata": {},
   "outputs": [
    {
     "data": {
      "text/plain": [
       "(tensor([[0., 0., 0.,  ..., 0., 0., 0.],\n",
       "         [0., 0., 0.,  ..., 0., 0., 0.],\n",
       "         [0., 0., 0.,  ..., 0., 0., 0.],\n",
       "         [0., 0., 0.,  ..., 0., 0., 0.]]),\n",
       " tensor([9, 0, 0, 3]))"
      ]
     },
     "execution_count": 42,
     "metadata": {},
     "output_type": "execute_result"
    }
   ],
   "source": [
    "collate_dict(tdsf)(mini_batch)"
   ]
  },
  {
   "cell_type": "markdown",
   "id": "f5640411",
   "metadata": {},
   "source": [
    "## Plotting Images\n",
    "Plotting can be done using the matplotlib function imshow, however, this is cumbersome to setup in a way that makes it easy to use with a variable number of images, applying labels and configuring correctly.  A way to improve that is developed here.  This makes use of the fastcore library to understand available kwargs, which can often be a problem "
   ]
  },
  {
   "cell_type": "markdown",
   "id": "22a1d0d1",
   "metadata": {},
   "source": [
    "imshow features to include:\n",
    "variable figsize\n",
    "input ax if required\n",
    "Assign tiles to the overall plot\n",
    "set a frame or not\n",
    "pass in kwargs to imshow\n",
    "\n",
    "Permute axis if required from CHW to HWC\n",
    "Convert to array if required\n",
    "Create axes if required\n",
    "remove ticks from axis\n",
    "Remove empty channel axis if only one channel\n",
    "\n",
    "Return the image as an axis"
   ]
  },
  {
   "cell_type": "code",
   "execution_count": 43,
   "id": "e193d5f9",
   "metadata": {},
   "outputs": [],
   "source": [
    "from matplotlib.pyplot import axes as ax"
   ]
  },
  {
   "cell_type": "code",
   "execution_count": 44,
   "id": "af5b5237",
   "metadata": {},
   "outputs": [],
   "source": [
    "#|export\n",
    "@fc.delegates(plt.Axes.imshow)\n",
    "def show_image(img, ax=None, title=None, noframe=True, figsize=None, **kwargs):\n",
    "    # prepare images.  Check if pytorch tensor by using attributes\n",
    "    if fc.hasattrs(img, ('cpu', 'permute', 'detach')):\n",
    "        img = img.detach().cpu()\n",
    "        if len(img.shape)==3 and img.shape[0]<8:\n",
    "            img = img.permute(1,2,0)\n",
    "        elif not isinstance(img, np.ndarray):\n",
    "            img = np.asarray(img)\n",
    "    # If only one channel remove the dimension\n",
    "    if img.shape[-1] == 1:\n",
    "        img = img[...,0]\n",
    "    # if axes do not exist then create them\n",
    "    if ax is None: _,ax = plt.subplots(figsize=figsize)\n",
    "    # plot the array\n",
    "    ax.imshow(img, **kwargs)\n",
    "    # Add a title\n",
    "    if title is not None: ax.set_title(title)\n",
    "    # turn off tick marks\n",
    "    ax.set_xticks([])\n",
    "    ax.set_yticks([])\n",
    "    # Finally set whether or not to show a frame\n",
    "    if noframe:\n",
    "        ax.axis('off')\n",
    "    return ax"
   ]
  },
  {
   "cell_type": "markdown",
   "id": "4fffbd03",
   "metadata": {},
   "source": [
    "The fastcore library now gives a list of all of the parameters that can be passed as kwargs, for example interpolation."
   ]
  },
  {
   "cell_type": "code",
   "execution_count": 45,
   "id": "2c66eca5",
   "metadata": {},
   "outputs": [
    {
     "name": "stdout",
     "output_type": "stream",
     "text": [
      "Help on function show_image in module __main__:\n",
      "\n",
      "show_image(img, ax=None, title=None, noframe=True, figsize=None, *, cmap=None, norm=None, aspect=None, interpolation=None, alpha=None, vmin=None, vmax=None, origin=None, extent=None, interpolation_stage=None, filternorm=True, filterrad=4.0, resample=None, url=None, data=None)\n",
      "    #|export\n",
      "\n"
     ]
    }
   ],
   "source": [
    "help(show_image)"
   ]
  },
  {
   "cell_type": "code",
   "execution_count": 46,
   "id": "1cceeffe",
   "metadata": {},
   "outputs": [
    {
     "data": {
      "text/plain": [
       "<matplotlib.image.AxesImage at 0x2aab6fae5940>"
      ]
     },
     "execution_count": 46,
     "metadata": {},
     "output_type": "execute_result"
    },
    {
     "data": {
      "image/png": "[encoded data removed]",
      "text/plain": [
       "<Figure size 640x480 with 1 Axes>"
      ]
     },
     "metadata": {},
     "output_type": "display_data"
    }
   ],
   "source": [
    "# Load a sample image to display\n",
    "b = next(iter(dl))\n",
    "xb = b['image']\n",
    "img = xb[0]\n",
    "plt.imshow(img[0])"
   ]
  },
  {
   "cell_type": "markdown",
   "id": "82b92d5f",
   "metadata": {},
   "source": [
    " Now use the above show image function to display the image"
   ]
  },
  {
   "cell_type": "code",
   "execution_count": 47,
   "id": "40f5d7d7",
   "metadata": {},
   "outputs": [
    {
     "data": {
      "text/plain": [
       "<AxesSubplot: title={'center': 'test'}>"
      ]
     },
     "execution_count": 47,
     "metadata": {},
     "output_type": "execute_result"
    },
    {
     "data": {
      "image/png": "[encoded data removed]",
      "text/plain": [
       "<Figure size 600x600 with 1 Axes>"
      ]
     },
     "metadata": {},
     "output_type": "display_data"
    }
   ],
   "source": [
    "show_image(img, figsize=(6,6), title = \"test\")"
   ]
  },
  {
   "cell_type": "markdown",
   "id": "75dbcdb8",
   "metadata": {},
   "source": [
    "#### From show_image to suplots to show multiple images\n",
    "It is often necessary to plot multiple images in a grid.  To do so effectively it is necessary to size the imaged appropriated and to only show images where one exists (ie empty spots on the grid should reamin empty. ALso we need to make sure we can add labels to each image"
   ]
  },
  {
   "cell_type": "code",
   "execution_count": 48,
   "id": "b067fec6",
   "metadata": {},
   "outputs": [],
   "source": [
    "#|export\n",
    "@fc.delegates(plt.subplots, keep=True)\n",
    "def subplots(\n",
    "    nrows: int=1, # Number of rows\n",
    "    ncols: int=1, # Number of columns\n",
    "    figsize: tuple =None, #Size of overall figure that will be produced in default units\n",
    "    imsize: float = 3, # size of individual images in default units\n",
    "    suptitle: str = None, # Title for the plot\n",
    "    **kwargs\n",
    "    ) -> (plt.Figure, plt.Axes):\n",
    "    \"\"\" create grid of axes ready for assignment of images to each axis\n",
    "\n",
    "        nrows (int): number of rows\n",
    "        ncols (int): number of columns\n",
    "        figsize (Tuple[float, float]): Size of overall figure that will be produced in default units\n",
    "        imsize (float): size of individual images in default units\n",
    "        suptitle (Union[str, None]): title for the overall figure\n",
    "\n",
    "\n",
    "        fig: plt.Figure\n",
    "        ax: np.array(plt.Axes)\n",
    "    \"\"\"\n",
    "    # calculate fig size if not supplied\n",
    "    if figsize is None:\n",
    "        figsize = (ncols*imsize, nrows*imsize)\n",
    "    fig, ax = plt.subplots(nrows=nrows, ncols=ncols, figsize=figsize, **kwargs)\n",
    "    if suptitle is not None: fig.suptitle(suptitle)\n",
    "\n",
    "    # If only one axes then turn into a array to allow consistent processing (multiple axes are stored as arrays)\n",
    "    if ncols*nrows==1: ax=array([ax])\n",
    "    return fig, ax  "
   ]
  },
  {
   "cell_type": "code",
   "execution_count": 49,
   "id": "624cf88a",
   "metadata": {},
   "outputs": [],
   "source": [
    "from nbdev.showdoc import show_doc"
   ]
  },
  {
   "cell_type": "markdown",
   "id": "20365e8e",
   "metadata": {},
   "source": [
    "The showdoc method generates a summary of the arguments for the subplots function but also includes the aspects that can be set using kwargs, which can be very helpful\n",
    "\n",
    "At present it does not seem to work very well with traditional docstrings, as can be seen below."
   ]
  },
  {
   "cell_type": "code",
   "execution_count": 50,
   "id": "a09247aa",
   "metadata": {},
   "outputs": [
    {
     "data": {
      "text/markdown": [
       "---\n",
       "\n",
       "[source](https://github.com/fastai/fastai-course-22p/blob/master/miniai/datasets.py#L68){target=\"_blank\" style=\"float:right; font-size:smaller\"}\n",
       "\n",
       "### subplots\n",
       "\n",
       ">      subplots (nrows:int=1, ncols:int=1, figsize:tuple=None, imsize:float=3,\n",
       ">                suptitle:str=None, sharex=False, sharey=False, squeeze=True,\n",
       ">                width_ratios=None, height_ratios=None, subplot_kw=None,\n",
       ">                gridspec_kw=None, **kwargs)\n",
       "\n",
       "create grid of axes ready for assignment of images to each axis\n",
       "\n",
       "nrows (int): number of rows\n",
       "ncols (int): number of columns\n",
       "figsize (Tuple[float, float]): Size of overall figure that will be produced in default units\n",
       "imsize (float): size of individual images in default units\n",
       "suptitle (Union[str, None]): title for the overall figure\n",
       "\n",
       "fig: plt.Figure\n",
       "ax: np.array(plt.Axes)\n",
       "\n",
       "|    | **Type** | **Default** | **Details** |\n",
       "| -- | -------- | ----------- | ----------- |\n",
       "| nrows | int | 1 | Number of rows |\n",
       "| ncols | int | 1 | Number of columns |\n",
       "| figsize | tuple | None | Size of overall figure that will be produced in default units |\n",
       "| imsize | float | 3 | size of individual images in default units |\n",
       "| suptitle | str | None | Title for the plot |\n",
       "| sharex | bool | False |  |\n",
       "| sharey | bool | False |  |\n",
       "| squeeze | bool | True |  |\n",
       "| width_ratios | NoneType | None |  |\n",
       "| height_ratios | NoneType | None |  |\n",
       "| subplot_kw | NoneType | None |  |\n",
       "| gridspec_kw | NoneType | None |  |\n",
       "| kwargs |  |  |  |\n",
       "| **Returns** | **(plt.Figure, plt.Axes)** |  |  |"
      ],
      "text/plain": [
       "---\n",
       "\n",
       "[source](https://github.com/fastai/fastai-course-22p/blob/master/miniai/datasets.py#L68){target=\"_blank\" style=\"float:right; font-size:smaller\"}\n",
       "\n",
       "### subplots\n",
       "\n",
       ">      subplots (nrows:int=1, ncols:int=1, figsize:tuple=None, imsize:float=3,\n",
       ">                suptitle:str=None, sharex=False, sharey=False, squeeze=True,\n",
       ">                width_ratios=None, height_ratios=None, subplot_kw=None,\n",
       ">                gridspec_kw=None, **kwargs)\n",
       "\n",
       "create grid of axes ready for assignment of images to each axis\n",
       "\n",
       "nrows (int): number of rows\n",
       "ncols (int): number of columns\n",
       "figsize (Tuple[float, float]): Size of overall figure that will be produced in default units\n",
       "imsize (float): size of individual images in default units\n",
       "suptitle (Union[str, None]): title for the overall figure\n",
       "\n",
       "fig: plt.Figure\n",
       "ax: np.array(plt.Axes)\n",
       "\n",
       "|    | **Type** | **Default** | **Details** |\n",
       "| -- | -------- | ----------- | ----------- |\n",
       "| nrows | int | 1 | Number of rows |\n",
       "| ncols | int | 1 | Number of columns |\n",
       "| figsize | tuple | None | Size of overall figure that will be produced in default units |\n",
       "| imsize | float | 3 | size of individual images in default units |\n",
       "| suptitle | str | None | Title for the plot |\n",
       "| sharex | bool | False |  |\n",
       "| sharey | bool | False |  |\n",
       "| squeeze | bool | True |  |\n",
       "| width_ratios | NoneType | None |  |\n",
       "| height_ratios | NoneType | None |  |\n",
       "| subplot_kw | NoneType | None |  |\n",
       "| gridspec_kw | NoneType | None |  |\n",
       "| kwargs |  |  |  |\n",
       "| **Returns** | **(plt.Figure, plt.Axes)** |  |  |"
      ]
     },
     "execution_count": 50,
     "metadata": {},
     "output_type": "execute_result"
    }
   ],
   "source": [
    "show_doc(subplots)"
   ]
  },
  {
   "cell_type": "markdown",
   "id": "18fe675a",
   "metadata": {},
   "source": [
    "The above call can be used as follows:"
   ]
  },
  {
   "cell_type": "code",
   "execution_count": 51,
   "id": "646b5990",
   "metadata": {},
   "outputs": [
    {
     "data": {
      "image/png": "[encoded data removed]",
      "text/plain": [
       "<Figure size 800x400 with 8 Axes>"
      ]
     },
     "metadata": {},
     "output_type": "display_data"
    }
   ],
   "source": [
    "fig, axs = subplots(nrows=2, ncols=4, imsize=2, suptitle=\"Example of images\")\n",
    "imgs = xb[:8]\n",
    "for ax, img in zip(axs.flat, imgs): show_image(img, ax)"
   ]
  },
  {
   "cell_type": "markdown",
   "id": "e775574a",
   "metadata": {},
   "source": [
    "We can make the function more intelligent by automatically calculating the size of the images and allowing the title to have weight and size defined.  This function can be built on top of the subplots method above"
   ]
  },
  {
   "cell_type": "code",
   "execution_count": null,
   "id": "3ca5e6d6",
   "metadata": {},
   "outputs": [],
   "source": [
    "#|export\n",
    "@fc.delegates(subplots)\n",
    "def get_grid(\n",
    "    n: int, # Number of axes\n",
    "    nrows: int=None, # Number of rows\n",
    "    ncols: int=None, # Number of columns\n",
    "    title: str=None, # Plot title, optional\n",
    "    weight: str='bold', # Weight to apply to the title\n",
    "    size: int=14, # size of the title font\n",
    "    **kwargs\n",
    "    \n",
    "):\n",
    "    # \"Return a grid of n axes over a combination of rows and columns.\"\n",
    "    # If the rows are specified then ncols will be used if specified but if not then the columns needed\n",
    "    # will be calculated.  Note that \"or\" will return the first value unless it is None, when it returns \n",
    "    # the second\n",
    "    if nrows: ncols = ncols or int(np.ceil(n/nrows))\n",
    "    elif ncols: nrows = int(np.ceil(n/ncols))\n",
    "    else:\n",
    "        nrows = int(np.ceil(math.sqrt(n)))\n",
    "        ncols = int(np.ceil(n/nrows))\n",
    "    _ = kwargs.pop('cmap', None)\n",
    "    # Avoid passing cmap to subplots\n",
    "    fig, axs = subplots(nrows, ncols, **kwargs)\n",
    "    # Turn of the display of axis\n",
    "    for i in range(n, nrows*ncols): axs.flat[i].set_axis_off()\n",
    "    # Add the title if necessary\n",
    "    if title: \n",
    "        fig.suptitle(title, weight=weight, size=size)\n",
    "    return fig, axs"
   ]
  },
  {
   "cell_type": "code",
   "execution_count": 72,
   "id": "6d3eba61",
   "metadata": {},
   "outputs": [
    {
     "data": {
      "image/png": "[encoded data removed]",
      "text/plain": [
       "<Figure size 1200x600 with 8 Axes>"
      ]
     },
     "metadata": {},
     "output_type": "display_data"
    }
   ],
   "source": [
    "fig, axs = get_grid(8, nrows=2, title=\"This is a title\")\n",
    "for ax, img in zip(axs.flat, imgs): show_image(img, ax)"
   ]
  },
  {
   "cell_type": "markdown",
   "id": "a2ea96e3",
   "metadata": {},
   "source": [
    "Finally it is possible to now create a show_images function that uses show image to display individual images and get_grid to provide the grid of axes upon which to plot them.  We will also pass in the labels for each object so that this can be used as a title for each image"
   ]
  },
  {
   "cell_type": "code",
   "execution_count": 81,
   "id": "335b7fe1",
   "metadata": {},
   "outputs": [],
   "source": [
    "#|export\n",
    "@fc.delegates(subplots)\n",
    "def show_images(\n",
    "    imgs: list, # List of images to show\n",
    "    nrows: int=1, # Number of rows\n",
    "    ncols: int=None, # Number of columns\n",
    "    titles: str=None, # Plot title, optional, list of titles for each image\n",
    "    **kwargs\n",
    "):\n",
    "    # Create a grid of axes ready to plot the images\n",
    "    axs = get_grid(len(imgs), **kwargs)[1].flat\n",
    "    # import pdb; pdb.set_trace()\n",
    "    # Remove unwanted kwargs\n",
    "    _ = kwargs.pop('imsize', None)\n",
    "    _ = kwargs.pop('title', None)\n",
    "    # plot images and individual labels\n",
    "    for img, t, ax in zip_longest(imgs, titles or [], axs[:len(imgs)]):\n",
    "        show_image(img, ax, t, **kwargs)\n",
    "    "
   ]
  },
  {
   "cell_type": "code",
   "execution_count": 82,
   "id": "6712bbc2",
   "metadata": {},
   "outputs": [],
   "source": [
    "b = next(iter(dl))\n",
    "xb = b['image'][:8]\n",
    "yb = b['label'][:8]"
   ]
  },
  {
   "cell_type": "code",
   "execution_count": 83,
   "id": "9cd67a85",
   "metadata": {},
   "outputs": [],
   "source": [
    "names = featy.names\n",
    "# itemgetter will lookup the item in the following object and attempt to retrieve it by the \"key\" given\n",
    "# in this case the key is taken as an index, since the object that follows is a list\n",
    "labels = itemgetter(*yb)(names)"
   ]
  },
  {
   "cell_type": "code",
   "execution_count": 84,
   "id": "56f78fca",
   "metadata": {},
   "outputs": [
    {
     "data": {
      "text/plain": [
       "('Ankle boot',\n",
       " 'T - shirt / top',\n",
       " 'T - shirt / top',\n",
       " 'Dress',\n",
       " 'T - shirt / top',\n",
       " 'Pullover',\n",
       " 'Sneaker',\n",
       " 'Pullover')"
      ]
     },
     "execution_count": 84,
     "metadata": {},
     "output_type": "execute_result"
    }
   ],
   "source": [
    "labels"
   ]
  },
  {
   "cell_type": "code",
   "execution_count": 85,
   "id": "burning-midwest",
   "metadata": {},
   "outputs": [
    {
     "data": {
      "text/plain": [
       "(8, 8)"
      ]
     },
     "execution_count": 85,
     "metadata": {},
     "output_type": "execute_result"
    }
   ],
   "source": [
    "len(xb), len(labels)"
   ]
  },
  {
   "cell_type": "code",
   "execution_count": 90,
   "id": "f30227ca",
   "metadata": {},
   "outputs": [
    {
     "data": {
      "image/png": "[encoded data removed]",
      "text/plain": [
       "<Figure size 450x450 with 9 Axes>"
      ]
     },
     "metadata": {},
     "output_type": "display_data"
    }
   ],
   "source": [
    "show_images(xb, titles=labels, nrows=2, imsize=1.5, cmap='gray')"
   ]
  },
  {
   "cell_type": "code",
   "execution_count": null,
   "id": "still-richmond",
   "metadata": {},
   "outputs": [],
   "source": []
  },
  {
   "cell_type": "code",
   "execution_count": null,
   "id": "sophisticated-sample",
   "metadata": {},
   "outputs": [],
   "source": []
  },
  {
   "cell_type": "markdown",
   "id": "8a880ecd",
   "metadata": {},
   "source": [
    "## Export "
   ]
  },
  {
   "cell_type": "code",
   "execution_count": 3,
   "id": "eac36699",
   "metadata": {},
   "outputs": [],
   "source": [
    "import nbdev; nbdev.nbdev_export()"
   ]
  },
  {
   "cell_type": "code",
   "execution_count": null,
   "id": "c6c46da7",
   "metadata": {},
   "outputs": [],
   "source": []
  }
 ],
 "metadata": {
  "kernelspec": {
   "display_name": "Environment (conda_miniai)",
   "language": "python",
   "name": "conda_miniai"
  },
  "language_info": {
   "codemirror_mode": {
    "name": "ipython",
    "version": 3
   },
   "file_extension": ".py",
   "mimetype": "text/x-python",
   "name": "python",
   "nbconvert_exporter": "python",
   "pygments_lexer": "ipython3",
   "version": "3.9.15"
  }
 },
 "nbformat": 4,
 "nbformat_minor": 5
}

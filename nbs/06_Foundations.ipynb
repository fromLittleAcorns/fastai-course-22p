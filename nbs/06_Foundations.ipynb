{
 "cells": [
  {
   "cell_type": "markdown",
   "id": "cca789e7",
   "metadata": {},
   "source": [
    "---\n",
    "title: \"Notebook to establish mini-batch training from first principles\"\n",
    "author: \"John Richmond\"\n",
    "date: \"November 2nd, 2022\"\n",
    "toc: true\n",
    "format:\n",
    "  html:\n",
    "    code-fold: False\n",
    "    code-tools: true\n",
    "    number-sections\" false\n",
    "  pdf:\n",
    "    geometry:\n",
    "      - top=30mm\n",
    "      - left=20mm"
   ]
  },
  {
   "cell_type": "markdown",
   "id": "eb7836ae",
   "metadata": {},
   "source": [
    "## Notebook to explore Python fundamentals relevant to Deep Learning and Data Science"
   ]
  },
  {
   "cell_type": "code",
   "execution_count": 1,
   "id": "7dba9057",
   "metadata": {},
   "outputs": [],
   "source": [
    "import torch\n",
    "import matplotlib.pyplot as plt\n",
    "import random"
   ]
  },
  {
   "cell_type": "markdown",
   "id": "5137e8f4",
   "metadata": {},
   "source": [
    "## Callbacks"
   ]
  },
  {
   "cell_type": "markdown",
   "id": "6215e897",
   "metadata": {},
   "source": [
    "### Callbacks as GUI events - demonstration of the principal using widgets\n",
    "\n",
    "From the [ipywidget docs](https://ipywidgets.readthedocs.io/en/stable/examples/Widget%20Events.html):\n",
    "\n",
    "- *the button widget is used to handle mouse clicks. The on_click method of the Button can be used to register function to be called when the button is clicked*"
   ]
  },
  {
   "cell_type": "code",
   "execution_count": 18,
   "id": "f049026b",
   "metadata": {},
   "outputs": [],
   "source": [
    "import ipywidgets as widgets\n",
    "from time import sleep"
   ]
  },
  {
   "cell_type": "code",
   "execution_count": 13,
   "id": "c46a9c72",
   "metadata": {},
   "outputs": [],
   "source": [
    "btn = widgets.Button(description=\"Click Me\")"
   ]
  },
  {
   "cell_type": "markdown",
   "id": "d7f122b2",
   "metadata": {},
   "source": [
    "Define an action function to carry out when the button is clicked"
   ]
  },
  {
   "cell_type": "code",
   "execution_count": 14,
   "id": "918f44ef",
   "metadata": {},
   "outputs": [],
   "source": [
    "def btn_action(widget):\n",
    "    print('Button pressed')"
   ]
  },
  {
   "cell_type": "markdown",
   "id": "61dd2646",
   "metadata": {},
   "source": [
    "Now assign the function to the putton pressed callback for the widget"
   ]
  },
  {
   "cell_type": "code",
   "execution_count": 15,
   "id": "3dcf65c5",
   "metadata": {},
   "outputs": [],
   "source": [
    "btn.on_click(btn_action)"
   ]
  },
  {
   "cell_type": "code",
   "execution_count": 16,
   "id": "55795852",
   "metadata": {},
   "outputs": [
    {
     "data": {
      "application/vnd.jupyter.widget-view+json": {
       "model_id": "16456f3f019e481094323ed481f78f90",
       "version_major": 2,
       "version_minor": 0
      },
      "text/plain": [
       "Button(description='Click Me', style=ButtonStyle())"
      ]
     },
     "execution_count": 16,
     "metadata": {},
     "output_type": "execute_result"
    },
    {
     "name": "stdout",
     "output_type": "stream",
     "text": [
      "Button pressed\n",
      "Button pressed\n",
      "Button pressed\n"
     ]
    }
   ],
   "source": [
    "btn"
   ]
  },
  {
   "cell_type": "markdown",
   "id": "d05e29aa",
   "metadata": {},
   "source": [
    "### Creating your own callbacks \n",
    "\n",
    "Callbacks can be implemented in any function as per the following"
   ]
  },
  {
   "cell_type": "code",
   "execution_count": 17,
   "id": "293928ed",
   "metadata": {},
   "outputs": [],
   "source": [
    "def show_progress_cb(progress):\n",
    "    print(f\"Finished epoch: {progress}\")"
   ]
  },
  {
   "cell_type": "code",
   "execution_count": 55,
   "id": "1846a498",
   "metadata": {},
   "outputs": [],
   "source": [
    "def dummy_training_loop(cb=None):\n",
    "    epoch=0\n",
    "    for i in range(10):\n",
    "        # Dummy model run\n",
    "        sleep(0.25)\n",
    "        if cb: cb(epoch)\n",
    "        epoch += 1\n",
    "    "
   ]
  },
  {
   "cell_type": "code",
   "execution_count": 25,
   "id": "af77319d",
   "metadata": {},
   "outputs": [
    {
     "name": "stdout",
     "output_type": "stream",
     "text": [
      "Finished epoch: 0\n",
      "Finished epoch: 1\n",
      "Finished epoch: 2\n",
      "Finished epoch: 3\n",
      "Finished epoch: 4\n",
      "Finished epoch: 5\n",
      "Finished epoch: 6\n",
      "Finished epoch: 7\n",
      "Finished epoch: 8\n",
      "Finished epoch: 9\n"
     ]
    }
   ],
   "source": [
    "dummy_training_loop(show_progress_cb)"
   ]
  },
  {
   "cell_type": "markdown",
   "id": "e0d212c2",
   "metadata": {},
   "source": [
    "### Lambdas and partials \n",
    "\n",
    "Lambdas are effectively one line functions"
   ]
  },
  {
   "cell_type": "code",
   "execution_count": 27,
   "id": "3d492f2c",
   "metadata": {},
   "outputs": [
    {
     "name": "stdout",
     "output_type": "stream",
     "text": [
      "Finished epoch: 0\n",
      "Finished epoch: 1\n",
      "Finished epoch: 2\n",
      "Finished epoch: 3\n",
      "Finished epoch: 4\n",
      "Finished epoch: 5\n",
      "Finished epoch: 6\n",
      "Finished epoch: 7\n",
      "Finished epoch: 8\n",
      "Finished epoch: 9\n"
     ]
    }
   ],
   "source": [
    "dummy_training_loop(lambda o: print(f\"Finished epoch: {o}\"))"
   ]
  },
  {
   "cell_type": "markdown",
   "id": "f265a130",
   "metadata": {},
   "source": [
    "Using a partial to add to the capability"
   ]
  },
  {
   "cell_type": "code",
   "execution_count": 41,
   "id": "9e3f9be2",
   "metadata": {},
   "outputs": [],
   "source": [
    "def show_progress_cb(progress, exclamation):\n",
    "    print(f\"({exclamation}, finished epoch: {progress}\")"
   ]
  },
  {
   "cell_type": "code",
   "execution_count": 34,
   "id": "91000900",
   "metadata": {},
   "outputs": [],
   "source": [
    "from functools import partial"
   ]
  },
  {
   "cell_type": "code",
   "execution_count": 44,
   "id": "83565e82",
   "metadata": {},
   "outputs": [],
   "source": [
    "# Note that it doesn't seem possible to use the keywork for the first argument of the function for some \n",
    "# reason, instead you just have to put the actual value.  So if exclamation was the first argument you \n",
    "# would have to use\n",
    "#f2 = partial(show_progress_cb, \"Nice\")\n",
    "f2 = partial(show_progress_cb, exclamation=\"Nice\")"
   ]
  },
  {
   "cell_type": "code",
   "execution_count": 45,
   "id": "aeca788d",
   "metadata": {},
   "outputs": [
    {
     "name": "stdout",
     "output_type": "stream",
     "text": [
      "(Nice, finished epoch: 0\n",
      "(Nice, finished epoch: 1\n",
      "(Nice, finished epoch: 2\n",
      "(Nice, finished epoch: 3\n",
      "(Nice, finished epoch: 4\n",
      "(Nice, finished epoch: 5\n",
      "(Nice, finished epoch: 6\n",
      "(Nice, finished epoch: 7\n",
      "(Nice, finished epoch: 8\n",
      "(Nice, finished epoch: 9\n"
     ]
    }
   ],
   "source": [
    "dummy_training_loop(f2)"
   ]
  },
  {
   "cell_type": "markdown",
   "id": "be7783fb",
   "metadata": {},
   "source": [
    "### Callbacks as callable classes "
   ]
  },
  {
   "cell_type": "code",
   "execution_count": 49,
   "id": "d9449ece",
   "metadata": {},
   "outputs": [],
   "source": [
    "class PrintProgressCallback():\n",
    "    def __init__(self, exclamation=\"Awesome\"):\n",
    "        self.exclamation = exclamation\n",
    "        \n",
    "    def __call__(self, progress):\n",
    "        print(f\"{self.exclamation}, finished epoch: {progress}\")"
   ]
  },
  {
   "cell_type": "code",
   "execution_count": 50,
   "id": "c47d0c69",
   "metadata": {},
   "outputs": [],
   "source": [
    "cb = PrintProgressCallback(\"Just magic\")"
   ]
  },
  {
   "cell_type": "code",
   "execution_count": 51,
   "id": "8ed876a4",
   "metadata": {},
   "outputs": [
    {
     "name": "stdout",
     "output_type": "stream",
     "text": [
      "Just magic, finished epoch: 0\n",
      "Just magic, finished epoch: 1\n",
      "Just magic, finished epoch: 2\n",
      "Just magic, finished epoch: 3\n",
      "Just magic, finished epoch: 4\n",
      "Just magic, finished epoch: 5\n",
      "Just magic, finished epoch: 6\n",
      "Just magic, finished epoch: 7\n",
      "Just magic, finished epoch: 8\n",
      "Just magic, finished epoch: 9\n"
     ]
    }
   ],
   "source": [
    "dummy_training_loop(cb)"
   ]
  },
  {
   "cell_type": "markdown",
   "id": "b899c02b",
   "metadata": {},
   "source": [
    "### Expanding this to multiple callback functions using *args and **kwargs"
   ]
  },
  {
   "cell_type": "code",
   "execution_count": 52,
   "id": "14de5600",
   "metadata": {},
   "outputs": [],
   "source": [
    "def f(*a, **b): print(f\"args: {a}; kwargs: {b}\")"
   ]
  },
  {
   "cell_type": "code",
   "execution_count": 53,
   "id": "0c02e432",
   "metadata": {},
   "outputs": [
    {
     "name": "stdout",
     "output_type": "stream",
     "text": [
      "args: (3, 'a'); kwargs: {'thing1': 'hello'}\n"
     ]
    }
   ],
   "source": [
    "f(3, 'a', thing1=\"hello\")"
   ]
  },
  {
   "cell_type": "code",
   "execution_count": 54,
   "id": "b7761922",
   "metadata": {},
   "outputs": [
    {
     "name": "stdout",
     "output_type": "stream",
     "text": [
      "1 2 3\n"
     ]
    }
   ],
   "source": [
    "def g(a,b,c=0): print(a,b,c)\n",
    "args = [1,2]\n",
    "kwargs = {'c':3}\n",
    "g(*args, **kwargs)"
   ]
  },
  {
   "cell_type": "markdown",
   "id": "75adfc2c",
   "metadata": {},
   "source": [
    "In the above look lets have two callbacks, one prior to the dummy model run and one after"
   ]
  },
  {
   "cell_type": "code",
   "execution_count": 74,
   "id": "5d74d2fa",
   "metadata": {},
   "outputs": [],
   "source": [
    "def dummy_training_loop(cb=None):\n",
    "    epoch=0\n",
    "    for i in range(5):\n",
    "        if cb: cb.pre_calc(epoch)\n",
    "        # Dummy model run\n",
    "        sleep(0.25)\n",
    "        res = i*i\n",
    "        if cb: cb.post_calc(epoch, res)\n",
    "        epoch += 1"
   ]
  },
  {
   "cell_type": "code",
   "execution_count": 78,
   "id": "c3c853b8",
   "metadata": {},
   "outputs": [],
   "source": [
    "class PrintProgressCallback():\n",
    "    def __init__(self, exclamation=\"Awesome\"):\n",
    "        self.exclamation = exclamation\n",
    "        \n",
    "    def pre_calc(self, progress, *args, **kwargs):\n",
    "        print(f\"Starting epoch: {progress}\")\n",
    "        \n",
    "    def post_calc(self, progress, acc, *args, **kwargs):\n",
    "        print(f\"{self.exclamation}, finished epoch: {progress}, accuracy: {acc}\")    "
   ]
  },
  {
   "cell_type": "code",
   "execution_count": 76,
   "id": "4e3b67a5",
   "metadata": {},
   "outputs": [],
   "source": [
    "cb = PrintProgressCallback(\"Great\")"
   ]
  },
  {
   "cell_type": "code",
   "execution_count": 77,
   "id": "094ca78f",
   "metadata": {},
   "outputs": [
    {
     "name": "stdout",
     "output_type": "stream",
     "text": [
      "Starting epoch: 0\n",
      "Great, finished epoch: 0, accuracy: 0\n",
      "Starting epoch: 1\n",
      "Great, finished epoch: 1, accuracy: 1\n",
      "Starting epoch: 2\n",
      "Great, finished epoch: 2, accuracy: 4\n",
      "Starting epoch: 3\n",
      "Great, finished epoch: 3, accuracy: 9\n",
      "Starting epoch: 4\n",
      "Great, finished epoch: 4, accuracy: 16\n"
     ]
    }
   ],
   "source": [
    "dummy_training_loop(cb)"
   ]
  },
  {
   "cell_type": "markdown",
   "id": "66cc1a8e",
   "metadata": {},
   "source": [
    "The above solution can be made more robust by using the hasattr function to check that the callback exists.  We can also make the callback modify behaviour, for example if a variable exceeds a limit\n"
   ]
  },
  {
   "cell_type": "code",
   "execution_count": 79,
   "id": "23e78cf8",
   "metadata": {},
   "outputs": [],
   "source": [
    "def dummy_training_loop(cb=None):\n",
    "    epoch=0\n",
    "    for i in range(5):\n",
    "        if cb and hasattr(cb, 'pre_calc'): cb.pre_calc(epoch)\n",
    "        # Dummy model run\n",
    "        sleep(0.25)\n",
    "        res = i*i\n",
    "        if cb and hasattr(cb, 'post_calc'):\n",
    "            if cb.post_calc(epoch, res):\n",
    "                print(\"Early stopping triggered\")\n",
    "                break\n",
    "        epoch += 1"
   ]
  },
  {
   "cell_type": "code",
   "execution_count": 80,
   "id": "876bc209",
   "metadata": {},
   "outputs": [],
   "source": [
    "class PrintProgressCallback():\n",
    "    def __init__(self, exclamation=\"Awesome\"):\n",
    "        self.exclamation = exclamation\n",
    "        \n",
    "    def pre_calc(self, progress, *args, **kwargs):\n",
    "        print(f\"Starting epoch: {progress}\")\n",
    "        \n",
    "    def post_calc(self, progress, acc, *args, **kwargs):\n",
    "        print(f\"{self.exclamation}, finished epoch: {progress}, accuracy: {acc}\")\n",
    "        if acc > 5: return True"
   ]
  },
  {
   "cell_type": "code",
   "execution_count": 81,
   "id": "2dc4469e",
   "metadata": {},
   "outputs": [
    {
     "name": "stdout",
     "output_type": "stream",
     "text": [
      "Starting epoch: 0\n",
      "Awesome, finished epoch: 0, accuracy: 0\n",
      "Starting epoch: 1\n",
      "Awesome, finished epoch: 1, accuracy: 1\n",
      "Starting epoch: 2\n",
      "Awesome, finished epoch: 2, accuracy: 4\n",
      "Starting epoch: 3\n",
      "Awesome, finished epoch: 3, accuracy: 9\n",
      "Early stopping triggered\n"
     ]
    }
   ],
   "source": [
    "dummy_training_loop(PrintProgressCallback())"
   ]
  },
  {
   "cell_type": "markdown",
   "id": "a5ca766b",
   "metadata": {},
   "source": [
    "This can be updated again so that the callback can change variables in the calling class by passing the class itself to the callback as follows"
   ]
  },
  {
   "cell_type": "code",
   "execution_count": 154,
   "id": "c390dc7c",
   "metadata": {},
   "outputs": [],
   "source": [
    "class ModelTrainingDummy():\n",
    "    def __init__(self, cb=None):\n",
    "        self.cb, self.res = cb, 0\n",
    "        \n",
    "    def callback(self, cb_name, *args):\n",
    "        # The the callback does not exist then return\n",
    "        if not self.cb: return\n",
    "        \n",
    "        # get the callback based upon the name\n",
    "        cb = getattr(self.cb, cb_name, None)\n",
    "        pdb: set_trace()\n",
    "        if cb: return cb(self, *args)\n",
    "    \n",
    "    def calc(self):\n",
    "        for epoch in range(6):\n",
    "            self.callback('before_calc', epoch)\n",
    "            self.res += epoch * epoch\n",
    "            sleep(0.25)\n",
    "            if self.callback(\"after_calc\", epoch):\n",
    "                # this point is reached if the callback return True\n",
    "                print('early stopping')\n",
    "                break"
   ]
  },
  {
   "cell_type": "code",
   "execution_count": 155,
   "id": "b41fac73",
   "metadata": {},
   "outputs": [],
   "source": [
    "class ModifyingCallback():\n",
    "    def __init__(self):\n",
    "        pass\n",
    "    \n",
    "    def before_calc(self, calc, val):\n",
    "        print (f\"starting epoch {val}: res={calc.res}\")\n",
    "        \n",
    "    def after_calc(self, calc, val):\n",
    "        if val>4:\n",
    "            return True\n",
    "        else:\n",
    "            if calc.res <3:\n",
    "                print(f\"original res: {calc.res}\")\n",
    "                calc.res = calc.res*2\n",
    "                print(f\"modified res: {calc.res}\")\n",
    "                "
   ]
  },
  {
   "cell_type": "code",
   "execution_count": 156,
   "id": "7a0908d1",
   "metadata": {},
   "outputs": [],
   "source": [
    "trainer = ModelTrainingDummy(ModifyingCallback())"
   ]
  },
  {
   "cell_type": "code",
   "execution_count": 157,
   "id": "47c5ab0f",
   "metadata": {},
   "outputs": [
    {
     "name": "stdout",
     "output_type": "stream",
     "text": [
      "starting epoch 0: res=0\n",
      "original res: 0\n",
      "modified res: 0\n",
      "starting epoch 1: res=0\n",
      "original res: 1\n",
      "modified res: 2\n",
      "starting epoch 2: res=2\n",
      "starting epoch 3: res=6\n",
      "starting epoch 4: res=15\n",
      "starting epoch 5: res=31\n",
      "early stopping\n"
     ]
    }
   ],
   "source": [
    "trainer.calc()"
   ]
  },
  {
   "cell_type": "markdown",
   "id": "9cb676a4",
   "metadata": {},
   "source": [
    "It can be seen that as well as the early stopping the callback is modifying the properties of the calling class, which is possible since it class is sent to the callback as an argument"
   ]
  },
  {
   "cell_type": "markdown",
   "id": "c7a22d00",
   "metadata": {},
   "source": [
    "### __dunder__ methods"
   ]
  },
  {
   "cell_type": "markdown",
   "id": "2e6f37e5",
   "metadata": {},
   "source": [
    "Anything that looks like `__this__` is, in some way, *special*. Python, or some library, can define some functions that they will call at certain documented times. For instance, when your class is setting up a new object, python will call `__init__`. These are defined as part of the python [data model](https://docs.python.org/3/reference/datamodel.html#object.__init__).\n",
    "\n",
    "For instance, if python sees `+`, then it will call the special method `__add__`. If you try to display an object in Jupyter (or lots of other places in Python) it will call `__repr__`."
   ]
  },
  {
   "cell_type": "code",
   "execution_count": 163,
   "id": "0b375339",
   "metadata": {},
   "outputs": [],
   "source": [
    "class DemoDunder():\n",
    "    def __init__(self, val): self.val = val\n",
    "    def __add__(self, b):\n",
    "        return(self.val + b.val + 0.01)\n",
    "    def __repr__(self):\n",
    "        return str(self.val)\n",
    "        "
   ]
  },
  {
   "cell_type": "code",
   "execution_count": 164,
   "id": "2e2ba8be",
   "metadata": {},
   "outputs": [
    {
     "data": {
      "text/plain": [
       "11.01"
      ]
     },
     "execution_count": 164,
     "metadata": {},
     "output_type": "execute_result"
    }
   ],
   "source": [
    "a = DemoDunder(5)\n",
    "b = DemoDunder(6)\n",
    "a+b"
   ]
  },
  {
   "cell_type": "markdown",
   "id": "0120400b",
   "metadata": {},
   "source": [
    "Special methods to know about include (see data model link above) are:\n",
    "\n",
    "- `__getitem__`\n",
    "- `__getattr__`\n",
    "- `__setattr__`\n",
    "- `__del__`\n",
    "- `__init__`\n",
    "- `__new__`\n",
    "- `__enter__`\n",
    "- `__exit__`\n",
    "- `__len__`\n",
    "- `__repr__`\n",
    "- `__str__`"
   ]
  },
  {
   "cell_type": "code",
   "execution_count": 165,
   "id": "b975c74f",
   "metadata": {},
   "outputs": [],
   "source": [
    "class A: a,b=1,2"
   ]
  },
  {
   "cell_type": "code",
   "execution_count": 166,
   "id": "5a54c607",
   "metadata": {},
   "outputs": [],
   "source": [
    "a=A()"
   ]
  },
  {
   "cell_type": "code",
   "execution_count": 169,
   "id": "21479c67",
   "metadata": {},
   "outputs": [
    {
     "data": {
      "text/plain": [
       "2"
      ]
     },
     "execution_count": 169,
     "metadata": {},
     "output_type": "execute_result"
    }
   ],
   "source": [
    "getattr(a, 'b') "
   ]
  },
  {
   "cell_type": "code",
   "execution_count": 170,
   "id": "cd352f03",
   "metadata": {},
   "outputs": [
    {
     "data": {
      "text/plain": [
       "1"
      ]
     },
     "execution_count": 170,
     "metadata": {},
     "output_type": "execute_result"
    }
   ],
   "source": [
    "getattr(a, 'a')"
   ]
  },
  {
   "cell_type": "markdown",
   "id": "de5ed399",
   "metadata": {},
   "source": [
    "Note that the getattr call only occurs if the properly cannot be found normally (ie if does not exist),  This allows it to catch errors or to implement things based upon an attribute name that has not been implemented"
   ]
  },
  {
   "cell_type": "code",
   "execution_count": 186,
   "id": "10e74c15",
   "metadata": {},
   "outputs": [],
   "source": [
    "class B():\n",
    "    a, b, _c = 1, 2, 3\n",
    "    def __getattr__(self, k):\n",
    "        print(k)\n",
    "        if k[0] == '_': raise Exception(f\"invalid attribute {k}\")\n",
    "        return f\"Attribute has value: {k}\"\n",
    "            "
   ]
  },
  {
   "cell_type": "code",
   "execution_count": 187,
   "id": "42091f13",
   "metadata": {},
   "outputs": [
    {
     "data": {
      "text/plain": [
       "1"
      ]
     },
     "execution_count": 187,
     "metadata": {},
     "output_type": "execute_result"
    }
   ],
   "source": [
    "b=B()\n",
    "b.a"
   ]
  },
  {
   "cell_type": "code",
   "execution_count": 190,
   "id": "15d26358",
   "metadata": {},
   "outputs": [
    {
     "name": "stdout",
     "output_type": "stream",
     "text": [
      "d\n"
     ]
    },
    {
     "data": {
      "text/plain": [
       "'Attribute has value: d'"
      ]
     },
     "execution_count": 190,
     "metadata": {},
     "output_type": "execute_result"
    }
   ],
   "source": [
    "b.d"
   ]
  },
  {
   "cell_type": "code",
   "execution_count": 191,
   "id": "3bede027",
   "metadata": {},
   "outputs": [
    {
     "name": "stdout",
     "output_type": "stream",
     "text": [
      "_e\n"
     ]
    },
    {
     "ename": "Exception",
     "evalue": "invalid attribute _e",
     "output_type": "error",
     "traceback": [
      "\u001b[0;31m---------------------------------------------------------------------------\u001b[0m",
      "\u001b[0;31mException\u001b[0m                                 Traceback (most recent call last)",
      "Cell \u001b[0;32mIn [191], line 1\u001b[0m\n\u001b[0;32m----> 1\u001b[0m \u001b[43mb\u001b[49m\u001b[38;5;241;43m.\u001b[39;49m\u001b[43m_e\u001b[49m\n",
      "Cell \u001b[0;32mIn [186], line 5\u001b[0m, in \u001b[0;36mB.__getattr__\u001b[0;34m(self, k)\u001b[0m\n\u001b[1;32m      3\u001b[0m \u001b[38;5;28;01mdef\u001b[39;00m \u001b[38;5;21m__getattr__\u001b[39m(\u001b[38;5;28mself\u001b[39m, k):\n\u001b[1;32m      4\u001b[0m     \u001b[38;5;28mprint\u001b[39m(k)\n\u001b[0;32m----> 5\u001b[0m     \u001b[38;5;28;01mif\u001b[39;00m k[\u001b[38;5;241m0\u001b[39m] \u001b[38;5;241m==\u001b[39m \u001b[38;5;124m'\u001b[39m\u001b[38;5;124m_\u001b[39m\u001b[38;5;124m'\u001b[39m: \u001b[38;5;28;01mraise\u001b[39;00m \u001b[38;5;167;01mException\u001b[39;00m(\u001b[38;5;124mf\u001b[39m\u001b[38;5;124m\"\u001b[39m\u001b[38;5;124minvalid attribute \u001b[39m\u001b[38;5;132;01m{\u001b[39;00mk\u001b[38;5;132;01m}\u001b[39;00m\u001b[38;5;124m\"\u001b[39m)\n\u001b[1;32m      6\u001b[0m     \u001b[38;5;28;01mreturn\u001b[39;00m \u001b[38;5;124mf\u001b[39m\u001b[38;5;124m\"\u001b[39m\u001b[38;5;124mAttribute has value: \u001b[39m\u001b[38;5;132;01m{\u001b[39;00mk\u001b[38;5;132;01m}\u001b[39;00m\u001b[38;5;124m\"\u001b[39m\n",
      "\u001b[0;31mException\u001b[0m: invalid attribute _e"
     ]
    }
   ],
   "source": [
    "b._e"
   ]
  },
  {
   "cell_type": "code",
   "execution_count": null,
   "id": "4404ff3e",
   "metadata": {},
   "outputs": [],
   "source": []
  }
 ],
 "metadata": {
  "kernelspec": {
   "display_name": "Python 3 (ipykernel)",
   "language": "python",
   "name": "python3"
  },
  "language_info": {
   "codemirror_mode": {
    "name": "ipython",
    "version": 3
   },
   "file_extension": ".py",
   "mimetype": "text/x-python",
   "name": "python",
   "nbconvert_exporter": "python",
   "pygments_lexer": "ipython3",
   "version": "3.9.13"
  }
 },
 "nbformat": 4,
 "nbformat_minor": 5
}
